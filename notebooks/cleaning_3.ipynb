{
 "cells": [
  {
   "cell_type": "markdown",
   "id": "470fd2b9",
   "metadata": {},
   "source": [
    "# More cleaning (without the food.com data)"
   ]
  },
  {
   "cell_type": "code",
   "execution_count": 27,
   "id": "ac435f44",
   "metadata": {},
   "outputs": [],
   "source": [
    "import pandas as pd\n",
    "import numpy as np\n",
    "import re\n",
    "import pickle"
   ]
  },
  {
   "cell_type": "code",
   "execution_count": 10,
   "id": "1635f32f",
   "metadata": {},
   "outputs": [],
   "source": [
    "nyt = pd.read_csv('data/nyt_cleaned.csv', sep = '|')"
   ]
  },
  {
   "cell_type": "code",
   "execution_count": 12,
   "id": "16910739",
   "metadata": {},
   "outputs": [],
   "source": [
    "nyt.drop(columns = ['cleaned'], inplace = True)"
   ]
  },
  {
   "cell_type": "code",
   "execution_count": 13,
   "id": "240f6150",
   "metadata": {},
   "outputs": [],
   "source": [
    "allrecipes = pd.read_csv('data/allrecipes.csv', sep = '|')"
   ]
  },
  {
   "cell_type": "code",
   "execution_count": 14,
   "id": "6a36120f",
   "metadata": {},
   "outputs": [
    {
     "data": {
      "text/html": [
       "<div>\n",
       "<style scoped>\n",
       "    .dataframe tbody tr th:only-of-type {\n",
       "        vertical-align: middle;\n",
       "    }\n",
       "\n",
       "    .dataframe tbody tr th {\n",
       "        vertical-align: top;\n",
       "    }\n",
       "\n",
       "    .dataframe thead th {\n",
       "        text-align: right;\n",
       "    }\n",
       "</style>\n",
       "<table border=\"1\" class=\"dataframe\">\n",
       "  <thead>\n",
       "    <tr style=\"text-align: right;\">\n",
       "      <th></th>\n",
       "      <th>0</th>\n",
       "      <th>1</th>\n",
       "      <th>2</th>\n",
       "    </tr>\n",
       "  </thead>\n",
       "  <tbody>\n",
       "    <tr>\n",
       "      <th>0</th>\n",
       "      <td>Betty&amp;#39;s Famous Cinnamon Rolls</td>\n",
       "      <td>https://www.allrecipes.com/recipe/229402/betty...</td>\n",
       "      <td>['1 cup warm water (110 degrees F/45 degrees C...</td>\n",
       "    </tr>\n",
       "    <tr>\n",
       "      <th>1</th>\n",
       "      <td>Lemon Drop Shots</td>\n",
       "      <td>https://www.allrecipes.com/recipe/256748/lemon...</td>\n",
       "      <td>['0.75 fluid ounce vodka (such as Absolut®)', ...</td>\n",
       "    </tr>\n",
       "    <tr>\n",
       "      <th>2</th>\n",
       "      <td>Mississippi Pot Roast</td>\n",
       "      <td>https://www.allrecipes.com/recipe/260697/missi...</td>\n",
       "      <td>['1 (3 pound) chuck roast', '0.5 (12 ounce) ja...</td>\n",
       "    </tr>\n",
       "    <tr>\n",
       "      <th>3</th>\n",
       "      <td>Easy Chicken Tetrazzini for a Large Family</td>\n",
       "      <td>https://www.allrecipes.com/recipe/232165/easy-...</td>\n",
       "      <td>['5 skinless, boneless chicken breasts', '2 ta...</td>\n",
       "    </tr>\n",
       "    <tr>\n",
       "      <th>4</th>\n",
       "      <td>No-Yeast Pizza Crust</td>\n",
       "      <td>https://www.allrecipes.com/recipe/244638/no-ye...</td>\n",
       "      <td>['1.3333333730698 cups all-purpose flour', '1 ...</td>\n",
       "    </tr>\n",
       "    <tr>\n",
       "      <th>...</th>\n",
       "      <td>...</td>\n",
       "      <td>...</td>\n",
       "      <td>...</td>\n",
       "    </tr>\n",
       "    <tr>\n",
       "      <th>50611</th>\n",
       "      <td>Chocolate-Covered Coffee Beans</td>\n",
       "      <td>https://www.allrecipes.com/recipe/284194/choco...</td>\n",
       "      <td>['4 ounces milk chocolate, chopped, divided', ...</td>\n",
       "    </tr>\n",
       "    <tr>\n",
       "      <th>50612</th>\n",
       "      <td>Bracciole (Flank Steak Rolls)</td>\n",
       "      <td>https://www.allrecipes.com/recipe/229505/bracc...</td>\n",
       "      <td>['2 tablespoons olive oil', '0.5 onion, choppe...</td>\n",
       "    </tr>\n",
       "    <tr>\n",
       "      <th>50613</th>\n",
       "      <td>Garlic-Smashed Potatoes</td>\n",
       "      <td>https://www.allrecipes.com/recipe/282326/garli...</td>\n",
       "      <td>['5 pounds small red potatoes', '0.5 cup olive...</td>\n",
       "    </tr>\n",
       "    <tr>\n",
       "      <th>50614</th>\n",
       "      <td>Chewy Cheesecake Cookies</td>\n",
       "      <td>https://www.allrecipes.com/recipe/284693/chewy...</td>\n",
       "      <td>['0.5 cup unsalted butter, softened', '3 ounce...</td>\n",
       "    </tr>\n",
       "    <tr>\n",
       "      <th>50615</th>\n",
       "      <td>Candied Sweet Potatoes with Orange Juice</td>\n",
       "      <td>https://www.allrecipes.com/recipe/281810/candi...</td>\n",
       "      <td>['6 medium sweet potatoes', '1 cup packed brow...</td>\n",
       "    </tr>\n",
       "  </tbody>\n",
       "</table>\n",
       "<p>50616 rows × 3 columns</p>\n",
       "</div>"
      ],
      "text/plain": [
       "                                                0  \\\n",
       "0               Betty&#39;s Famous Cinnamon Rolls   \n",
       "1                                Lemon Drop Shots   \n",
       "2                           Mississippi Pot Roast   \n",
       "3      Easy Chicken Tetrazzini for a Large Family   \n",
       "4                            No-Yeast Pizza Crust   \n",
       "...                                           ...   \n",
       "50611              Chocolate-Covered Coffee Beans   \n",
       "50612               Bracciole (Flank Steak Rolls)   \n",
       "50613                     Garlic-Smashed Potatoes   \n",
       "50614                    Chewy Cheesecake Cookies   \n",
       "50615    Candied Sweet Potatoes with Orange Juice   \n",
       "\n",
       "                                                       1  \\\n",
       "0      https://www.allrecipes.com/recipe/229402/betty...   \n",
       "1      https://www.allrecipes.com/recipe/256748/lemon...   \n",
       "2      https://www.allrecipes.com/recipe/260697/missi...   \n",
       "3      https://www.allrecipes.com/recipe/232165/easy-...   \n",
       "4      https://www.allrecipes.com/recipe/244638/no-ye...   \n",
       "...                                                  ...   \n",
       "50611  https://www.allrecipes.com/recipe/284194/choco...   \n",
       "50612  https://www.allrecipes.com/recipe/229505/bracc...   \n",
       "50613  https://www.allrecipes.com/recipe/282326/garli...   \n",
       "50614  https://www.allrecipes.com/recipe/284693/chewy...   \n",
       "50615  https://www.allrecipes.com/recipe/281810/candi...   \n",
       "\n",
       "                                                       2  \n",
       "0      ['1 cup warm water (110 degrees F/45 degrees C...  \n",
       "1      ['0.75 fluid ounce vodka (such as Absolut®)', ...  \n",
       "2      ['1 (3 pound) chuck roast', '0.5 (12 ounce) ja...  \n",
       "3      ['5 skinless, boneless chicken breasts', '2 ta...  \n",
       "4      ['1.3333333730698 cups all-purpose flour', '1 ...  \n",
       "...                                                  ...  \n",
       "50611  ['4 ounces milk chocolate, chopped, divided', ...  \n",
       "50612  ['2 tablespoons olive oil', '0.5 onion, choppe...  \n",
       "50613  ['5 pounds small red potatoes', '0.5 cup olive...  \n",
       "50614  ['0.5 cup unsalted butter, softened', '3 ounce...  \n",
       "50615  ['6 medium sweet potatoes', '1 cup packed brow...  \n",
       "\n",
       "[50616 rows x 3 columns]"
      ]
     },
     "execution_count": 14,
     "metadata": {},
     "output_type": "execute_result"
    }
   ],
   "source": [
    "allrecipes"
   ]
  },
  {
   "cell_type": "code",
   "execution_count": 17,
   "id": "7612bf6c",
   "metadata": {},
   "outputs": [],
   "source": [
    "allrecipes = allrecipes.rename(columns = {'0': 'name', '1': 'url', '2': 'ingredients'}).copy()"
   ]
  },
  {
   "cell_type": "code",
   "execution_count": 18,
   "id": "412578b5",
   "metadata": {},
   "outputs": [
    {
     "data": {
      "text/html": [
       "<div>\n",
       "<style scoped>\n",
       "    .dataframe tbody tr th:only-of-type {\n",
       "        vertical-align: middle;\n",
       "    }\n",
       "\n",
       "    .dataframe tbody tr th {\n",
       "        vertical-align: top;\n",
       "    }\n",
       "\n",
       "    .dataframe thead th {\n",
       "        text-align: right;\n",
       "    }\n",
       "</style>\n",
       "<table border=\"1\" class=\"dataframe\">\n",
       "  <thead>\n",
       "    <tr style=\"text-align: right;\">\n",
       "      <th></th>\n",
       "      <th>name</th>\n",
       "      <th>url</th>\n",
       "      <th>ingredients</th>\n",
       "    </tr>\n",
       "  </thead>\n",
       "  <tbody>\n",
       "    <tr>\n",
       "      <th>0</th>\n",
       "      <td>Betty&amp;#39;s Famous Cinnamon Rolls</td>\n",
       "      <td>https://www.allrecipes.com/recipe/229402/betty...</td>\n",
       "      <td>['1 cup warm water (110 degrees F/45 degrees C...</td>\n",
       "    </tr>\n",
       "    <tr>\n",
       "      <th>1</th>\n",
       "      <td>Lemon Drop Shots</td>\n",
       "      <td>https://www.allrecipes.com/recipe/256748/lemon...</td>\n",
       "      <td>['0.75 fluid ounce vodka (such as Absolut®)', ...</td>\n",
       "    </tr>\n",
       "    <tr>\n",
       "      <th>2</th>\n",
       "      <td>Mississippi Pot Roast</td>\n",
       "      <td>https://www.allrecipes.com/recipe/260697/missi...</td>\n",
       "      <td>['1 (3 pound) chuck roast', '0.5 (12 ounce) ja...</td>\n",
       "    </tr>\n",
       "    <tr>\n",
       "      <th>3</th>\n",
       "      <td>Easy Chicken Tetrazzini for a Large Family</td>\n",
       "      <td>https://www.allrecipes.com/recipe/232165/easy-...</td>\n",
       "      <td>['5 skinless, boneless chicken breasts', '2 ta...</td>\n",
       "    </tr>\n",
       "    <tr>\n",
       "      <th>4</th>\n",
       "      <td>No-Yeast Pizza Crust</td>\n",
       "      <td>https://www.allrecipes.com/recipe/244638/no-ye...</td>\n",
       "      <td>['1.3333333730698 cups all-purpose flour', '1 ...</td>\n",
       "    </tr>\n",
       "    <tr>\n",
       "      <th>...</th>\n",
       "      <td>...</td>\n",
       "      <td>...</td>\n",
       "      <td>...</td>\n",
       "    </tr>\n",
       "    <tr>\n",
       "      <th>50611</th>\n",
       "      <td>Chocolate-Covered Coffee Beans</td>\n",
       "      <td>https://www.allrecipes.com/recipe/284194/choco...</td>\n",
       "      <td>['4 ounces milk chocolate, chopped, divided', ...</td>\n",
       "    </tr>\n",
       "    <tr>\n",
       "      <th>50612</th>\n",
       "      <td>Bracciole (Flank Steak Rolls)</td>\n",
       "      <td>https://www.allrecipes.com/recipe/229505/bracc...</td>\n",
       "      <td>['2 tablespoons olive oil', '0.5 onion, choppe...</td>\n",
       "    </tr>\n",
       "    <tr>\n",
       "      <th>50613</th>\n",
       "      <td>Garlic-Smashed Potatoes</td>\n",
       "      <td>https://www.allrecipes.com/recipe/282326/garli...</td>\n",
       "      <td>['5 pounds small red potatoes', '0.5 cup olive...</td>\n",
       "    </tr>\n",
       "    <tr>\n",
       "      <th>50614</th>\n",
       "      <td>Chewy Cheesecake Cookies</td>\n",
       "      <td>https://www.allrecipes.com/recipe/284693/chewy...</td>\n",
       "      <td>['0.5 cup unsalted butter, softened', '3 ounce...</td>\n",
       "    </tr>\n",
       "    <tr>\n",
       "      <th>50615</th>\n",
       "      <td>Candied Sweet Potatoes with Orange Juice</td>\n",
       "      <td>https://www.allrecipes.com/recipe/281810/candi...</td>\n",
       "      <td>['6 medium sweet potatoes', '1 cup packed brow...</td>\n",
       "    </tr>\n",
       "  </tbody>\n",
       "</table>\n",
       "<p>50616 rows × 3 columns</p>\n",
       "</div>"
      ],
      "text/plain": [
       "                                             name  \\\n",
       "0               Betty&#39;s Famous Cinnamon Rolls   \n",
       "1                                Lemon Drop Shots   \n",
       "2                           Mississippi Pot Roast   \n",
       "3      Easy Chicken Tetrazzini for a Large Family   \n",
       "4                            No-Yeast Pizza Crust   \n",
       "...                                           ...   \n",
       "50611              Chocolate-Covered Coffee Beans   \n",
       "50612               Bracciole (Flank Steak Rolls)   \n",
       "50613                     Garlic-Smashed Potatoes   \n",
       "50614                    Chewy Cheesecake Cookies   \n",
       "50615    Candied Sweet Potatoes with Orange Juice   \n",
       "\n",
       "                                                     url  \\\n",
       "0      https://www.allrecipes.com/recipe/229402/betty...   \n",
       "1      https://www.allrecipes.com/recipe/256748/lemon...   \n",
       "2      https://www.allrecipes.com/recipe/260697/missi...   \n",
       "3      https://www.allrecipes.com/recipe/232165/easy-...   \n",
       "4      https://www.allrecipes.com/recipe/244638/no-ye...   \n",
       "...                                                  ...   \n",
       "50611  https://www.allrecipes.com/recipe/284194/choco...   \n",
       "50612  https://www.allrecipes.com/recipe/229505/bracc...   \n",
       "50613  https://www.allrecipes.com/recipe/282326/garli...   \n",
       "50614  https://www.allrecipes.com/recipe/284693/chewy...   \n",
       "50615  https://www.allrecipes.com/recipe/281810/candi...   \n",
       "\n",
       "                                             ingredients  \n",
       "0      ['1 cup warm water (110 degrees F/45 degrees C...  \n",
       "1      ['0.75 fluid ounce vodka (such as Absolut®)', ...  \n",
       "2      ['1 (3 pound) chuck roast', '0.5 (12 ounce) ja...  \n",
       "3      ['5 skinless, boneless chicken breasts', '2 ta...  \n",
       "4      ['1.3333333730698 cups all-purpose flour', '1 ...  \n",
       "...                                                  ...  \n",
       "50611  ['4 ounces milk chocolate, chopped, divided', ...  \n",
       "50612  ['2 tablespoons olive oil', '0.5 onion, choppe...  \n",
       "50613  ['5 pounds small red potatoes', '0.5 cup olive...  \n",
       "50614  ['0.5 cup unsalted butter, softened', '3 ounce...  \n",
       "50615  ['6 medium sweet potatoes', '1 cup packed brow...  \n",
       "\n",
       "[50616 rows x 3 columns]"
      ]
     },
     "execution_count": 18,
     "metadata": {},
     "output_type": "execute_result"
    }
   ],
   "source": [
    "allrecipes"
   ]
  },
  {
   "cell_type": "code",
   "execution_count": 19,
   "id": "aab59bce",
   "metadata": {},
   "outputs": [
    {
     "data": {
      "text/plain": [
       "22075"
      ]
     },
     "execution_count": 19,
     "metadata": {},
     "output_type": "execute_result"
    }
   ],
   "source": [
    "len(nyt)"
   ]
  },
  {
   "cell_type": "code",
   "execution_count": 21,
   "id": "1318f52a",
   "metadata": {},
   "outputs": [],
   "source": [
    "df = pd.concat([allrecipes, nyt], axis = 0)"
   ]
  },
  {
   "cell_type": "code",
   "execution_count": 22,
   "id": "ba04316c",
   "metadata": {},
   "outputs": [
    {
     "data": {
      "text/plain": [
       "(72691, 3)"
      ]
     },
     "execution_count": 22,
     "metadata": {},
     "output_type": "execute_result"
    }
   ],
   "source": [
    "df.shape"
   ]
  },
  {
   "cell_type": "code",
   "execution_count": 23,
   "id": "29af3a3f",
   "metadata": {},
   "outputs": [],
   "source": [
    "ingredients = []\n",
    "for row in df['ingredients']:\n",
    "    row = row.replace('[\\'', '\\']')\n",
    "    row = row.replace(']', '') \n",
    "    items = row.split(', ')\n",
    "    for item in items: \n",
    "        ingredients.append(item.replace('\\'', ''))"
   ]
  },
  {
   "cell_type": "code",
   "execution_count": 24,
   "id": "73054990",
   "metadata": {},
   "outputs": [
    {
     "data": {
      "text/plain": [
       "921997"
      ]
     },
     "execution_count": 24,
     "metadata": {},
     "output_type": "execute_result"
    }
   ],
   "source": [
    "len(ingredients)"
   ]
  },
  {
   "cell_type": "code",
   "execution_count": 25,
   "id": "677572d3",
   "metadata": {},
   "outputs": [
    {
     "data": {
      "text/plain": [
       "180275"
      ]
     },
     "execution_count": 25,
     "metadata": {},
     "output_type": "execute_result"
    }
   ],
   "source": [
    "len(set(ingredients))"
   ]
  },
  {
   "cell_type": "code",
   "execution_count": 1,
   "id": "a5a3cc84",
   "metadata": {},
   "outputs": [],
   "source": [
    "#ingredients[0:300]"
   ]
  },
  {
   "cell_type": "markdown",
   "id": "5bfc7769",
   "metadata": {},
   "source": [
    "Things to remove here:\n",
    "- Everything between brackets\n",
    "- All numbers\n",
    "- Words that indicate sizes (cup/teaspoon/ounce/can/medium/pinch)\n",
    "- Words that indicate processing (chopped, ground, sliced etc)"
   ]
  },
  {
   "cell_type": "code",
   "execution_count": 36,
   "id": "4fdb5e14",
   "metadata": {},
   "outputs": [],
   "source": [
    "ingredients2 = []"
   ]
  },
  {
   "cell_type": "markdown",
   "id": "a66e0469",
   "metadata": {},
   "source": [
    "Getting rid of brackets and numbers:"
   ]
  },
  {
   "cell_type": "code",
   "execution_count": 37,
   "id": "903d48bd",
   "metadata": {},
   "outputs": [],
   "source": [
    "for item in ingredients: \n",
    "    nobrackets = re.sub('\\([^\\(]*\\)','',item)\n",
    "    nonumbers = re.sub('[0-9]*\\.?[0-9]?', '', nobrackets)\n",
    "    newitem = nonumbers.lower().strip()\n",
    "    ingredients2.append(newitem)"
   ]
  },
  {
   "cell_type": "markdown",
   "id": "6e7716d6",
   "metadata": {},
   "source": [
    "Other words to ditch:"
   ]
  },
  {
   "cell_type": "code",
   "execution_count": 55,
   "id": "3021e555",
   "metadata": {},
   "outputs": [],
   "source": [
    "dumplist = [\n",
    "    'cups',\n",
    "    'cup',\n",
    "    'teaspoons',    \n",
    "    'teaspoon',\n",
    "    'tablespoons',\n",
    "    'tablespoon',\n",
    "    'fluid ounces',\n",
    "    'fluid ounce',\n",
    "    ' ounces',\n",
    "    ' ounce',\n",
    "    ' cans',\n",
    "    ' can',\n",
    "    'packages',\n",
    "    'package',\n",
    "    'medium',\n",
    "    ' large',\n",
    "    ' small',\n",
    "    ' jars',\n",
    "    ' jar',\n",
    "    ' pinches',\n",
    "    ' pinch',\n",
    "    ' chopped',\n",
    "    'freshly',\n",
    "    'ground',\n",
    "    'sliced',\n",
    "    'slices',\n",
    "    'slice'\n",
    "]"
   ]
  },
  {
   "cell_type": "code",
   "execution_count": 56,
   "id": "8e6e0bf7",
   "metadata": {},
   "outputs": [
    {
     "data": {
      "text/plain": [
       "27"
      ]
     },
     "execution_count": 56,
     "metadata": {},
     "output_type": "execute_result"
    }
   ],
   "source": [
    "len(dumplist)"
   ]
  },
  {
   "cell_type": "code",
   "execution_count": 57,
   "id": "7f21afef",
   "metadata": {},
   "outputs": [],
   "source": [
    "ingredients3 = []"
   ]
  },
  {
   "cell_type": "code",
   "execution_count": 58,
   "id": "7cd350a7",
   "metadata": {},
   "outputs": [],
   "source": [
    "for item in ingredients2:\n",
    "    for entry in dumplist:\n",
    "        item = item.replace(entry, '')\n",
    "    ingredients3.append(item)"
   ]
  },
  {
   "cell_type": "code",
   "execution_count": 62,
   "id": "f19fb1c3",
   "metadata": {},
   "outputs": [],
   "source": [
    "masterlist = list(set(ingredients3))"
   ]
  },
  {
   "cell_type": "code",
   "execution_count": 67,
   "id": "289effa0",
   "metadata": {},
   "outputs": [],
   "source": [
    "masterlist2 = []"
   ]
  },
  {
   "cell_type": "code",
   "execution_count": 73,
   "id": "27c66a94",
   "metadata": {},
   "outputs": [],
   "source": [
    "for item in masterlist:\n",
    "    for entry in dumplist:\n",
    "        entry = entry.strip()\n",
    "        item = re.sub(f'^{entry}s?','',item)\n",
    "        item = item.replace('/','')\n",
    "    masterlist2.append(item)"
   ]
  },
  {
   "cell_type": "code",
   "execution_count": 2,
   "id": "bc5b7062",
   "metadata": {},
   "outputs": [],
   "source": [
    "#masterlist2"
   ]
  },
  {
   "cell_type": "code",
   "execution_count": 76,
   "id": "5485594b",
   "metadata": {},
   "outputs": [],
   "source": [
    "with open(\"masterlist2.txt\", 'w') as file:\n",
    "    for line in masterlist2:\n",
    "        file.write(f\"{line}\\n\")"
   ]
  },
  {
   "cell_type": "code",
   "execution_count": 82,
   "id": "58b4e178",
   "metadata": {},
   "outputs": [],
   "source": [
    "#ingredients[0:100]"
   ]
  },
  {
   "cell_type": "code",
   "execution_count": 77,
   "id": "037f9d31",
   "metadata": {},
   "outputs": [],
   "source": [
    "masterlist3 = []\n",
    "with open('masterlist2.txt', 'r') as file:\n",
    "    lines = file.readlines()\n",
    "    for line in lines: \n",
    "        masterlist3.append(line.replace('\\n', ''))"
   ]
  },
  {
   "cell_type": "code",
   "execution_count": 78,
   "id": "4d289142",
   "metadata": {},
   "outputs": [
    {
     "data": {
      "text/plain": [
       "205329"
      ]
     },
     "execution_count": 78,
     "metadata": {},
     "output_type": "execute_result"
    }
   ],
   "source": [
    "len(masterlist3)"
   ]
  },
  {
   "cell_type": "code",
   "execution_count": 79,
   "id": "d3bad340",
   "metadata": {},
   "outputs": [
    {
     "data": {
      "text/plain": [
       "101261"
      ]
     },
     "execution_count": 79,
     "metadata": {},
     "output_type": "execute_result"
    }
   ],
   "source": [
    "len(set(masterlist3))"
   ]
  },
  {
   "cell_type": "code",
   "execution_count": 80,
   "id": "548ef106",
   "metadata": {},
   "outputs": [],
   "source": [
    "masterlist3 = list(set(masterlist3))"
   ]
  },
  {
   "cell_type": "code",
   "execution_count": 81,
   "id": "cc40451e",
   "metadata": {},
   "outputs": [],
   "source": [
    "with open(\"masterlist3.txt\", 'w') as file:\n",
    "    for line in masterlist3:\n",
    "        file.write(f\"{line}\\n\")"
   ]
  },
  {
   "cell_type": "markdown",
   "id": "3a99e6e1",
   "metadata": {},
   "source": [
    "This is not really getting me anywhere - I still have to weed out 100,000 entries.\n",
    "\n",
    "What I did instead was to weed out the first 1000 entries in this new list by hand. Once you've done 1000, you have a pretty good set of basic ingredients that you can use to clean up the others."
   ]
  },
  {
   "cell_type": "code",
   "execution_count": 90,
   "id": "785f60a3",
   "metadata": {},
   "outputs": [],
   "source": [
    "masterlist = []\n",
    "with open(\"masterlist.txt\", \"r\") as file: \n",
    "    lines = file.readlines()\n",
    "    for line in lines: \n",
    "        masterlist.append(line.replace('\\n', ''))"
   ]
  },
  {
   "cell_type": "code",
   "execution_count": 3,
   "id": "11b827e2",
   "metadata": {},
   "outputs": [],
   "source": [
    "#masterlist"
   ]
  },
  {
   "cell_type": "code",
   "execution_count": 92,
   "id": "cb2cee11",
   "metadata": {},
   "outputs": [
    {
     "data": {
      "text/plain": [
       "1180"
      ]
     },
     "execution_count": 92,
     "metadata": {},
     "output_type": "execute_result"
    }
   ],
   "source": [
    "len(masterlist)"
   ]
  },
  {
   "cell_type": "code",
   "execution_count": 93,
   "id": "c3894c68",
   "metadata": {},
   "outputs": [
    {
     "data": {
      "text/plain": [
       "990"
      ]
     },
     "execution_count": 93,
     "metadata": {},
     "output_type": "execute_result"
    }
   ],
   "source": [
    "len(set(masterlist))"
   ]
  },
  {
   "cell_type": "code",
   "execution_count": 94,
   "id": "0f044a03",
   "metadata": {},
   "outputs": [],
   "source": [
    "masterlist = list(set(masterlist))"
   ]
  },
  {
   "cell_type": "code",
   "execution_count": 95,
   "id": "ebbeb242",
   "metadata": {},
   "outputs": [],
   "source": [
    "def simplify(row):\n",
    "\n",
    "    rowresults = []\n",
    "    row = row.replace('[\\'', '\\']')\n",
    "    row = row.replace(']', '') \n",
    "    items = row.split(', ')\n",
    "    for item in items: \n",
    "        for ingredient in masterlist:\n",
    "            if ingredient in item: \n",
    "                rowresults.append(ingredient)\n",
    "                break\n",
    "    return rowresults"
   ]
  },
  {
   "cell_type": "code",
   "execution_count": 96,
   "id": "f204f8e1",
   "metadata": {},
   "outputs": [],
   "source": [
    "df['cleaned'] = df['ingredients'].apply(simplify)"
   ]
  },
  {
   "cell_type": "code",
   "execution_count": 97,
   "id": "5307b82f",
   "metadata": {},
   "outputs": [
    {
     "data": {
      "text/html": [
       "<div>\n",
       "<style scoped>\n",
       "    .dataframe tbody tr th:only-of-type {\n",
       "        vertical-align: middle;\n",
       "    }\n",
       "\n",
       "    .dataframe tbody tr th {\n",
       "        vertical-align: top;\n",
       "    }\n",
       "\n",
       "    .dataframe thead th {\n",
       "        text-align: right;\n",
       "    }\n",
       "</style>\n",
       "<table border=\"1\" class=\"dataframe\">\n",
       "  <thead>\n",
       "    <tr style=\"text-align: right;\">\n",
       "      <th></th>\n",
       "      <th>name</th>\n",
       "      <th>url</th>\n",
       "      <th>ingredients</th>\n",
       "      <th>cleaned</th>\n",
       "    </tr>\n",
       "  </thead>\n",
       "  <tbody>\n",
       "    <tr>\n",
       "      <th>0</th>\n",
       "      <td>Betty&amp;#39;s Famous Cinnamon Rolls</td>\n",
       "      <td>https://www.allrecipes.com/recipe/229402/betty...</td>\n",
       "      <td>['1 cup warm water (110 degrees F/45 degrees C...</td>\n",
       "      <td>[water, active dry yeast, white sugar, milk, w...</td>\n",
       "    </tr>\n",
       "    <tr>\n",
       "      <th>1</th>\n",
       "      <td>Lemon Drop Shots</td>\n",
       "      <td>https://www.allrecipes.com/recipe/256748/lemon...</td>\n",
       "      <td>['0.75 fluid ounce vodka (such as Absolut®)', ...</td>\n",
       "      <td>[vodka, lemon juice, white sugar, lemon]</td>\n",
       "    </tr>\n",
       "    <tr>\n",
       "      <th>2</th>\n",
       "      <td>Mississippi Pot Roast</td>\n",
       "      <td>https://www.allrecipes.com/recipe/260697/missi...</td>\n",
       "      <td>['1 (3 pound) chuck roast', '0.5 (12 ounce) ja...</td>\n",
       "      <td>[pepper, pepper, salted butter, butter, black ...</td>\n",
       "    </tr>\n",
       "    <tr>\n",
       "      <th>3</th>\n",
       "      <td>Easy Chicken Tetrazzini for a Large Family</td>\n",
       "      <td>https://www.allrecipes.com/recipe/232165/easy-...</td>\n",
       "      <td>['5 skinless, boneless chicken breasts', '2 ta...</td>\n",
       "      <td>[chicken, butter, onion, mushroom, chicken, ce...</td>\n",
       "    </tr>\n",
       "    <tr>\n",
       "      <th>4</th>\n",
       "      <td>No-Yeast Pizza Crust</td>\n",
       "      <td>https://www.allrecipes.com/recipe/244638/no-ye...</td>\n",
       "      <td>['1.3333333730698 cups all-purpose flour', '1 ...</td>\n",
       "      <td>[all-purpose flour, baking powder, salt, milk,...</td>\n",
       "    </tr>\n",
       "    <tr>\n",
       "      <th>...</th>\n",
       "      <td>...</td>\n",
       "      <td>...</td>\n",
       "      <td>...</td>\n",
       "      <td>...</td>\n",
       "    </tr>\n",
       "    <tr>\n",
       "      <th>22070</th>\n",
       "      <td>Mushrooms in Marsala Wine (Funghi Alla Marsala)</td>\n",
       "      <td>https://cooking.nytimes.com/recipes/31-mushroo...</td>\n",
       "      <td>['1 ounce dried mushrooms, preferably imported...</td>\n",
       "      <td>[mushroom, mushroom, water, oil, garlic, rosem...</td>\n",
       "    </tr>\n",
       "    <tr>\n",
       "      <th>22071</th>\n",
       "      <td>Veal Scaloppine With Mushrooms Bordelaise</td>\n",
       "      <td>https://cooking.nytimes.com/recipes/30-veal-sc...</td>\n",
       "      <td>['12 slices veal scaloppine, about 1 1/4 pound...</td>\n",
       "      <td>[veal, mushroom, oil, pea, corn, flour, pepper...</td>\n",
       "    </tr>\n",
       "    <tr>\n",
       "      <th>22072</th>\n",
       "      <td>Mushroom and Meat Loaf</td>\n",
       "      <td>https://cooking.nytimes.com/recipes/28-mushroo...</td>\n",
       "      <td>['1/2 pound mushrooms', '1 tablespoon butter',...</td>\n",
       "      <td>[mushroom, butter, onion, pork, veal, nutmeg, ...</td>\n",
       "    </tr>\n",
       "    <tr>\n",
       "      <th>22073</th>\n",
       "      <td>Mushroom and Pepper Salad</td>\n",
       "      <td>https://cooking.nytimes.com/recipes/29-mushroo...</td>\n",
       "      <td>['1 large sweet red pepper, about 1/2 pound', ...</td>\n",
       "      <td>[red pepper, green pepper, celery, mushroom, e...</td>\n",
       "    </tr>\n",
       "    <tr>\n",
       "      <th>22074</th>\n",
       "      <td>Stuffed Mushrooms</td>\n",
       "      <td>https://cooking.nytimes.com/recipes/27-stuffed...</td>\n",
       "      <td>['1 1/4 pounds mushrooms', '4 tablespoons butt...</td>\n",
       "      <td>[mushroom, butter, lemon, pepper, shallot, gar...</td>\n",
       "    </tr>\n",
       "  </tbody>\n",
       "</table>\n",
       "<p>72691 rows × 4 columns</p>\n",
       "</div>"
      ],
      "text/plain": [
       "                                                  name  \\\n",
       "0                    Betty&#39;s Famous Cinnamon Rolls   \n",
       "1                                     Lemon Drop Shots   \n",
       "2                                Mississippi Pot Roast   \n",
       "3           Easy Chicken Tetrazzini for a Large Family   \n",
       "4                                 No-Yeast Pizza Crust   \n",
       "...                                                ...   \n",
       "22070  Mushrooms in Marsala Wine (Funghi Alla Marsala)   \n",
       "22071        Veal Scaloppine With Mushrooms Bordelaise   \n",
       "22072                           Mushroom and Meat Loaf   \n",
       "22073                        Mushroom and Pepper Salad   \n",
       "22074                                Stuffed Mushrooms   \n",
       "\n",
       "                                                     url  \\\n",
       "0      https://www.allrecipes.com/recipe/229402/betty...   \n",
       "1      https://www.allrecipes.com/recipe/256748/lemon...   \n",
       "2      https://www.allrecipes.com/recipe/260697/missi...   \n",
       "3      https://www.allrecipes.com/recipe/232165/easy-...   \n",
       "4      https://www.allrecipes.com/recipe/244638/no-ye...   \n",
       "...                                                  ...   \n",
       "22070  https://cooking.nytimes.com/recipes/31-mushroo...   \n",
       "22071  https://cooking.nytimes.com/recipes/30-veal-sc...   \n",
       "22072  https://cooking.nytimes.com/recipes/28-mushroo...   \n",
       "22073  https://cooking.nytimes.com/recipes/29-mushroo...   \n",
       "22074  https://cooking.nytimes.com/recipes/27-stuffed...   \n",
       "\n",
       "                                             ingredients  \\\n",
       "0      ['1 cup warm water (110 degrees F/45 degrees C...   \n",
       "1      ['0.75 fluid ounce vodka (such as Absolut®)', ...   \n",
       "2      ['1 (3 pound) chuck roast', '0.5 (12 ounce) ja...   \n",
       "3      ['5 skinless, boneless chicken breasts', '2 ta...   \n",
       "4      ['1.3333333730698 cups all-purpose flour', '1 ...   \n",
       "...                                                  ...   \n",
       "22070  ['1 ounce dried mushrooms, preferably imported...   \n",
       "22071  ['12 slices veal scaloppine, about 1 1/4 pound...   \n",
       "22072  ['1/2 pound mushrooms', '1 tablespoon butter',...   \n",
       "22073  ['1 large sweet red pepper, about 1/2 pound', ...   \n",
       "22074  ['1 1/4 pounds mushrooms', '4 tablespoons butt...   \n",
       "\n",
       "                                                 cleaned  \n",
       "0      [water, active dry yeast, white sugar, milk, w...  \n",
       "1               [vodka, lemon juice, white sugar, lemon]  \n",
       "2      [pepper, pepper, salted butter, butter, black ...  \n",
       "3      [chicken, butter, onion, mushroom, chicken, ce...  \n",
       "4      [all-purpose flour, baking powder, salt, milk,...  \n",
       "...                                                  ...  \n",
       "22070  [mushroom, mushroom, water, oil, garlic, rosem...  \n",
       "22071  [veal, mushroom, oil, pea, corn, flour, pepper...  \n",
       "22072  [mushroom, butter, onion, pork, veal, nutmeg, ...  \n",
       "22073  [red pepper, green pepper, celery, mushroom, e...  \n",
       "22074  [mushroom, butter, lemon, pepper, shallot, gar...  \n",
       "\n",
       "[72691 rows x 4 columns]"
      ]
     },
     "execution_count": 97,
     "metadata": {},
     "output_type": "execute_result"
    }
   ],
   "source": [
    "df"
   ]
  },
  {
   "cell_type": "code",
   "execution_count": 98,
   "id": "03663626",
   "metadata": {},
   "outputs": [],
   "source": [
    "biglist = []\n",
    "for i in range(len(df)):\n",
    "    smallist = []\n",
    "    for ingredient in masterlist: \n",
    "        if ingredient in df['cleaned'].iloc[i]:    \n",
    "            smallist.append(1)\n",
    "        else: \n",
    "            smallist.append(0)\n",
    "    biglist.append(smallist)"
   ]
  },
  {
   "cell_type": "code",
   "execution_count": 99,
   "id": "4786cc45",
   "metadata": {},
   "outputs": [],
   "source": [
    "matrix = pd.DataFrame(data = biglist, columns = masterlist)"
   ]
  },
  {
   "cell_type": "code",
   "execution_count": 101,
   "id": "25691ced",
   "metadata": {},
   "outputs": [],
   "source": [
    "matrix.to_csv('matrix2.csv', index = False)"
   ]
  },
  {
   "cell_type": "code",
   "execution_count": 102,
   "id": "5593030e",
   "metadata": {},
   "outputs": [],
   "source": [
    "df.reset_index(inplace = True, drop = True)"
   ]
  },
  {
   "cell_type": "code",
   "execution_count": 103,
   "id": "76e7385b",
   "metadata": {},
   "outputs": [
    {
     "data": {
      "text/html": [
       "<div>\n",
       "<style scoped>\n",
       "    .dataframe tbody tr th:only-of-type {\n",
       "        vertical-align: middle;\n",
       "    }\n",
       "\n",
       "    .dataframe tbody tr th {\n",
       "        vertical-align: top;\n",
       "    }\n",
       "\n",
       "    .dataframe thead th {\n",
       "        text-align: right;\n",
       "    }\n",
       "</style>\n",
       "<table border=\"1\" class=\"dataframe\">\n",
       "  <thead>\n",
       "    <tr style=\"text-align: right;\">\n",
       "      <th></th>\n",
       "      <th>name</th>\n",
       "      <th>url</th>\n",
       "      <th>ingredients</th>\n",
       "      <th>cleaned</th>\n",
       "    </tr>\n",
       "  </thead>\n",
       "  <tbody>\n",
       "    <tr>\n",
       "      <th>0</th>\n",
       "      <td>Betty&amp;#39;s Famous Cinnamon Rolls</td>\n",
       "      <td>https://www.allrecipes.com/recipe/229402/betty...</td>\n",
       "      <td>['1 cup warm water (110 degrees F/45 degrees C...</td>\n",
       "      <td>[water, active dry yeast, white sugar, milk, w...</td>\n",
       "    </tr>\n",
       "    <tr>\n",
       "      <th>1</th>\n",
       "      <td>Lemon Drop Shots</td>\n",
       "      <td>https://www.allrecipes.com/recipe/256748/lemon...</td>\n",
       "      <td>['0.75 fluid ounce vodka (such as Absolut®)', ...</td>\n",
       "      <td>[vodka, lemon juice, white sugar, lemon]</td>\n",
       "    </tr>\n",
       "    <tr>\n",
       "      <th>2</th>\n",
       "      <td>Mississippi Pot Roast</td>\n",
       "      <td>https://www.allrecipes.com/recipe/260697/missi...</td>\n",
       "      <td>['1 (3 pound) chuck roast', '0.5 (12 ounce) ja...</td>\n",
       "      <td>[pepper, pepper, salted butter, butter, black ...</td>\n",
       "    </tr>\n",
       "    <tr>\n",
       "      <th>3</th>\n",
       "      <td>Easy Chicken Tetrazzini for a Large Family</td>\n",
       "      <td>https://www.allrecipes.com/recipe/232165/easy-...</td>\n",
       "      <td>['5 skinless, boneless chicken breasts', '2 ta...</td>\n",
       "      <td>[chicken, butter, onion, mushroom, chicken, ce...</td>\n",
       "    </tr>\n",
       "    <tr>\n",
       "      <th>4</th>\n",
       "      <td>No-Yeast Pizza Crust</td>\n",
       "      <td>https://www.allrecipes.com/recipe/244638/no-ye...</td>\n",
       "      <td>['1.3333333730698 cups all-purpose flour', '1 ...</td>\n",
       "      <td>[all-purpose flour, baking powder, salt, milk,...</td>\n",
       "    </tr>\n",
       "    <tr>\n",
       "      <th>...</th>\n",
       "      <td>...</td>\n",
       "      <td>...</td>\n",
       "      <td>...</td>\n",
       "      <td>...</td>\n",
       "    </tr>\n",
       "    <tr>\n",
       "      <th>72686</th>\n",
       "      <td>Mushrooms in Marsala Wine (Funghi Alla Marsala)</td>\n",
       "      <td>https://cooking.nytimes.com/recipes/31-mushroo...</td>\n",
       "      <td>['1 ounce dried mushrooms, preferably imported...</td>\n",
       "      <td>[mushroom, mushroom, water, oil, garlic, rosem...</td>\n",
       "    </tr>\n",
       "    <tr>\n",
       "      <th>72687</th>\n",
       "      <td>Veal Scaloppine With Mushrooms Bordelaise</td>\n",
       "      <td>https://cooking.nytimes.com/recipes/30-veal-sc...</td>\n",
       "      <td>['12 slices veal scaloppine, about 1 1/4 pound...</td>\n",
       "      <td>[veal, mushroom, oil, pea, corn, flour, pepper...</td>\n",
       "    </tr>\n",
       "    <tr>\n",
       "      <th>72688</th>\n",
       "      <td>Mushroom and Meat Loaf</td>\n",
       "      <td>https://cooking.nytimes.com/recipes/28-mushroo...</td>\n",
       "      <td>['1/2 pound mushrooms', '1 tablespoon butter',...</td>\n",
       "      <td>[mushroom, butter, onion, pork, veal, nutmeg, ...</td>\n",
       "    </tr>\n",
       "    <tr>\n",
       "      <th>72689</th>\n",
       "      <td>Mushroom and Pepper Salad</td>\n",
       "      <td>https://cooking.nytimes.com/recipes/29-mushroo...</td>\n",
       "      <td>['1 large sweet red pepper, about 1/2 pound', ...</td>\n",
       "      <td>[red pepper, green pepper, celery, mushroom, e...</td>\n",
       "    </tr>\n",
       "    <tr>\n",
       "      <th>72690</th>\n",
       "      <td>Stuffed Mushrooms</td>\n",
       "      <td>https://cooking.nytimes.com/recipes/27-stuffed...</td>\n",
       "      <td>['1 1/4 pounds mushrooms', '4 tablespoons butt...</td>\n",
       "      <td>[mushroom, butter, lemon, pepper, shallot, gar...</td>\n",
       "    </tr>\n",
       "  </tbody>\n",
       "</table>\n",
       "<p>72691 rows × 4 columns</p>\n",
       "</div>"
      ],
      "text/plain": [
       "                                                  name  \\\n",
       "0                    Betty&#39;s Famous Cinnamon Rolls   \n",
       "1                                     Lemon Drop Shots   \n",
       "2                                Mississippi Pot Roast   \n",
       "3           Easy Chicken Tetrazzini for a Large Family   \n",
       "4                                 No-Yeast Pizza Crust   \n",
       "...                                                ...   \n",
       "72686  Mushrooms in Marsala Wine (Funghi Alla Marsala)   \n",
       "72687        Veal Scaloppine With Mushrooms Bordelaise   \n",
       "72688                           Mushroom and Meat Loaf   \n",
       "72689                        Mushroom and Pepper Salad   \n",
       "72690                                Stuffed Mushrooms   \n",
       "\n",
       "                                                     url  \\\n",
       "0      https://www.allrecipes.com/recipe/229402/betty...   \n",
       "1      https://www.allrecipes.com/recipe/256748/lemon...   \n",
       "2      https://www.allrecipes.com/recipe/260697/missi...   \n",
       "3      https://www.allrecipes.com/recipe/232165/easy-...   \n",
       "4      https://www.allrecipes.com/recipe/244638/no-ye...   \n",
       "...                                                  ...   \n",
       "72686  https://cooking.nytimes.com/recipes/31-mushroo...   \n",
       "72687  https://cooking.nytimes.com/recipes/30-veal-sc...   \n",
       "72688  https://cooking.nytimes.com/recipes/28-mushroo...   \n",
       "72689  https://cooking.nytimes.com/recipes/29-mushroo...   \n",
       "72690  https://cooking.nytimes.com/recipes/27-stuffed...   \n",
       "\n",
       "                                             ingredients  \\\n",
       "0      ['1 cup warm water (110 degrees F/45 degrees C...   \n",
       "1      ['0.75 fluid ounce vodka (such as Absolut®)', ...   \n",
       "2      ['1 (3 pound) chuck roast', '0.5 (12 ounce) ja...   \n",
       "3      ['5 skinless, boneless chicken breasts', '2 ta...   \n",
       "4      ['1.3333333730698 cups all-purpose flour', '1 ...   \n",
       "...                                                  ...   \n",
       "72686  ['1 ounce dried mushrooms, preferably imported...   \n",
       "72687  ['12 slices veal scaloppine, about 1 1/4 pound...   \n",
       "72688  ['1/2 pound mushrooms', '1 tablespoon butter',...   \n",
       "72689  ['1 large sweet red pepper, about 1/2 pound', ...   \n",
       "72690  ['1 1/4 pounds mushrooms', '4 tablespoons butt...   \n",
       "\n",
       "                                                 cleaned  \n",
       "0      [water, active dry yeast, white sugar, milk, w...  \n",
       "1               [vodka, lemon juice, white sugar, lemon]  \n",
       "2      [pepper, pepper, salted butter, butter, black ...  \n",
       "3      [chicken, butter, onion, mushroom, chicken, ce...  \n",
       "4      [all-purpose flour, baking powder, salt, milk,...  \n",
       "...                                                  ...  \n",
       "72686  [mushroom, mushroom, water, oil, garlic, rosem...  \n",
       "72687  [veal, mushroom, oil, pea, corn, flour, pepper...  \n",
       "72688  [mushroom, butter, onion, pork, veal, nutmeg, ...  \n",
       "72689  [red pepper, green pepper, celery, mushroom, e...  \n",
       "72690  [mushroom, butter, lemon, pepper, shallot, gar...  \n",
       "\n",
       "[72691 rows x 4 columns]"
      ]
     },
     "execution_count": 103,
     "metadata": {},
     "output_type": "execute_result"
    }
   ],
   "source": [
    "df"
   ]
  },
  {
   "cell_type": "code",
   "execution_count": 104,
   "id": "5304961c",
   "metadata": {},
   "outputs": [],
   "source": [
    "df.to_csv('df.csv', sep = '|', index = False)"
   ]
  },
  {
   "cell_type": "code",
   "execution_count": 109,
   "id": "4754fe0f",
   "metadata": {},
   "outputs": [],
   "source": [
    "listy = []\n",
    "for column in matrix.columns:\n",
    "    if matrix[column].sum() == 0:\n",
    "        listy.append(column)"
   ]
  },
  {
   "cell_type": "code",
   "execution_count": 111,
   "id": "64df31ef",
   "metadata": {},
   "outputs": [
    {
     "data": {
      "text/plain": [
       "391"
      ]
     },
     "execution_count": 111,
     "metadata": {},
     "output_type": "execute_result"
    }
   ],
   "source": [
    "len(listy)"
   ]
  },
  {
   "cell_type": "code",
   "execution_count": 108,
   "id": "c6df5835",
   "metadata": {},
   "outputs": [
    {
     "data": {
      "text/plain": [
       "24327"
      ]
     },
     "execution_count": 108,
     "metadata": {},
     "output_type": "execute_result"
    }
   ],
   "source": [
    "max(listy)"
   ]
  },
  {
   "cell_type": "code",
   "execution_count": null,
   "id": "e41710d0",
   "metadata": {},
   "outputs": [],
   "source": []
  }
 ],
 "metadata": {
  "kernelspec": {
   "display_name": "Python 3 (ipykernel)",
   "language": "python",
   "name": "python3"
  },
  "language_info": {
   "codemirror_mode": {
    "name": "ipython",
    "version": 3
   },
   "file_extension": ".py",
   "mimetype": "text/x-python",
   "name": "python",
   "nbconvert_exporter": "python",
   "pygments_lexer": "ipython3",
   "version": "3.10.6"
  }
 },
 "nbformat": 4,
 "nbformat_minor": 5
}
