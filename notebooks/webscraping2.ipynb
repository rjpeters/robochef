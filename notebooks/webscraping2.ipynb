{
 "cells": [
  {
   "cell_type": "markdown",
   "id": "933792d5",
   "metadata": {},
   "source": [
    "# Web scraping"
   ]
  },
  {
   "cell_type": "markdown",
   "id": "a8792045",
   "metadata": {},
   "source": [
    "### Imports"
   ]
  },
  {
   "cell_type": "code",
   "execution_count": 1,
   "id": "a9aed559",
   "metadata": {},
   "outputs": [],
   "source": [
    "import pandas as pd\n",
    "import numpy as np\n",
    "import requests\n",
    "from bs4 import BeautifulSoup\n",
    "from time import sleep\n",
    "from random import randint\n",
    "import json\n",
    "import re"
   ]
  },
  {
   "cell_type": "markdown",
   "id": "16f1e07c",
   "metadata": {},
   "source": [
    "## Next up: Allrecipes.com"
   ]
  },
  {
   "cell_type": "code",
   "execution_count": 2,
   "id": "723f9532",
   "metadata": {},
   "outputs": [],
   "source": [
    "sitemap = requests.get('https://www.allrecipes.com/sitemap.xml')"
   ]
  },
  {
   "cell_type": "code",
   "execution_count": 3,
   "id": "6ceb9abc",
   "metadata": {},
   "outputs": [
    {
     "data": {
      "text/plain": [
       "<Response [200]>"
      ]
     },
     "execution_count": 3,
     "metadata": {},
     "output_type": "execute_result"
    }
   ],
   "source": [
    "sitemap"
   ]
  },
  {
   "cell_type": "code",
   "execution_count": 4,
   "id": "b005a2e7",
   "metadata": {
    "scrolled": true
   },
   "outputs": [
    {
     "name": "stderr",
     "output_type": "stream",
     "text": [
      "/opt/homebrew/Cellar/jupyterlab/3.4.5/libexec/lib/python3.10/site-packages/bs4/builder/__init__.py:545: XMLParsedAsHTMLWarning: It looks like you're parsing an XML document using an HTML parser. If this really is an HTML document (maybe it's XHTML?), you can ignore or filter this warning. If it's XML, you should know that using an XML parser will be more reliable. To parse this document as XML, make sure you have the lxml package installed, and pass the keyword argument `features=\"xml\"` into the BeautifulSoup constructor.\n",
      "  warnings.warn(\n"
     ]
    }
   ],
   "source": [
    "soup = BeautifulSoup(sitemap.content, \"html.parser\")"
   ]
  },
  {
   "cell_type": "code",
   "execution_count": 5,
   "id": "583896a9",
   "metadata": {},
   "outputs": [],
   "source": [
    "metapagelist = []\n",
    "for i in soup.select(\"loc\"):\n",
    "    metapagelist.append(i.get_text())"
   ]
  },
  {
   "cell_type": "code",
   "execution_count": 6,
   "id": "3d245f25",
   "metadata": {},
   "outputs": [
    {
     "data": {
      "text/plain": [
       "4"
      ]
     },
     "execution_count": 6,
     "metadata": {},
     "output_type": "execute_result"
    }
   ],
   "source": [
    "len(metapagelist)"
   ]
  },
  {
   "cell_type": "code",
   "execution_count": 7,
   "id": "acb06ffa",
   "metadata": {},
   "outputs": [
    {
     "data": {
      "text/plain": [
       "['https://www.allrecipes.com/sitemap_1.xml',\n",
       " 'https://www.allrecipes.com/sitemap_2.xml',\n",
       " 'https://www.allrecipes.com/sitemap_3.xml',\n",
       " 'https://www.allrecipes.com/sitemap_4.xml']"
      ]
     },
     "execution_count": 7,
     "metadata": {},
     "output_type": "execute_result"
    }
   ],
   "source": [
    "metapagelist"
   ]
  },
  {
   "cell_type": "code",
   "execution_count": 10,
   "id": "3b155693",
   "metadata": {},
   "outputs": [],
   "source": [
    "pagelist = []\n",
    "for page in metapagelist: \n",
    "    subpage = requests.get(page)\n",
    "    soup = BeautifulSoup(subpage.content, 'html.parser')\n",
    "    for i in soup.select(\"loc\"):\n",
    "        pagelist.append(i.get_text())\n"
   ]
  },
  {
   "cell_type": "code",
   "execution_count": 11,
   "id": "a1c47c34",
   "metadata": {},
   "outputs": [
    {
     "data": {
      "text/plain": [
       "62219"
      ]
     },
     "execution_count": 11,
     "metadata": {},
     "output_type": "execute_result"
    }
   ],
   "source": [
    "len(pagelist)"
   ]
  },
  {
   "cell_type": "code",
   "execution_count": 12,
   "id": "c1e9dbd7",
   "metadata": {},
   "outputs": [
    {
     "data": {
      "text/plain": [
       "'https://www.allrecipes.com/recipe/15238/delicious-baked-chicken/'"
      ]
     },
     "execution_count": 12,
     "metadata": {},
     "output_type": "execute_result"
    }
   ],
   "source": [
    "pagelist[1]"
   ]
  },
  {
   "cell_type": "code",
   "execution_count": 13,
   "id": "f4f16efa",
   "metadata": {},
   "outputs": [],
   "source": [
    "newpagelist = []\n",
    "for page in pagelist: \n",
    "    if re.search('https://www.allrecipes.com/recipe', page):\n",
    "        newpagelist.append(page)"
   ]
  },
  {
   "cell_type": "code",
   "execution_count": 14,
   "id": "0f120749",
   "metadata": {},
   "outputs": [
    {
     "data": {
      "text/plain": [
       "53197"
      ]
     },
     "execution_count": 14,
     "metadata": {},
     "output_type": "execute_result"
    }
   ],
   "source": [
    "len(newpagelist)"
   ]
  },
  {
   "cell_type": "code",
   "execution_count": 15,
   "id": "e97d8ebe",
   "metadata": {},
   "outputs": [],
   "source": [
    "def getrecipe(recipeslist):\n",
    "    recipes = []\n",
    "\n",
    "    for page in recipeslist: \n",
    "        try: \n",
    "            req = requests.get(page)\n",
    "            soup = BeautifulSoup(req.content, \"html.parser\")\n",
    "            data = json.loads(soup.find('script', type='application/ld+json').text)\n",
    "            name = data[0]['name']\n",
    "            ingredientlist = data[0]['recipeIngredient']\n",
    "            recipes.append([name, page, ingredientlist])\n",
    "            print(f\"Done with index # {recipeslist.index(page)}\")\n",
    "           \n",
    "            # The try/except structure here has two benefits: \n",
    "            # - It guards against a patchy internet connection: It just keeps on rolling until it's back.\n",
    "            # - It will automatically skip pages that do not conform to the same json format (recipeIngredient)\n",
    "            \n",
    "        except: \n",
    "            print(\"No success, moving on.\")\n",
    "        \n",
    "        # Polite wait time\n",
    "        wait_time = randint(1,4000)\n",
    "        print(\"I will sleep for \" + str(wait_time/4000) + \" seconds.\")\n",
    "        sleep(wait_time/4000)\n",
    "        \n",
    "    return recipes"
   ]
  },
  {
   "cell_type": "code",
   "execution_count": 1,
   "id": "90c35ec5",
   "metadata": {},
   "outputs": [],
   "source": [
    "allrecipes1 = getrecipe(newpagelist)"
   ]
  },
  {
   "cell_type": "code",
   "execution_count": 47,
   "id": "0092c940",
   "metadata": {},
   "outputs": [],
   "source": [
    "allrecipes_df = pd.DataFrame(allrecipes1)"
   ]
  },
  {
   "cell_type": "code",
   "execution_count": 48,
   "id": "6515d651",
   "metadata": {},
   "outputs": [],
   "source": [
    "allrecipes_df.to_csv('allrecipes.csv', sep = '|', index = False)"
   ]
  },
  {
   "cell_type": "markdown",
   "id": "e2031193",
   "metadata": {},
   "source": [
    "## Next: Epicurious"
   ]
  },
  {
   "cell_type": "code",
   "execution_count": 16,
   "id": "5416d0a1",
   "metadata": {},
   "outputs": [],
   "source": [
    "sitemap = requests.get('https://www.epicurious.com/sitemap.xml/editorial-recipes')"
   ]
  },
  {
   "cell_type": "code",
   "execution_count": 17,
   "id": "49cee5da",
   "metadata": {},
   "outputs": [],
   "source": [
    "soup = BeautifulSoup(sitemap.content, \"html.parser\")\n"
   ]
  },
  {
   "cell_type": "code",
   "execution_count": 18,
   "id": "aa50ea81",
   "metadata": {},
   "outputs": [],
   "source": [
    "metapagelist = []\n",
    "for i in soup.select(\"loc\"):\n",
    "    metapagelist.append(i.get_text())"
   ]
  },
  {
   "cell_type": "code",
   "execution_count": 2,
   "id": "56dbddaf",
   "metadata": {},
   "outputs": [],
   "source": [
    "newpagelist = []\n",
    "for i in range(len(metapagelist)):        \n",
    "    subpage = requests.get(metapagelist[i])\n",
    "    soup = BeautifulSoup(subpage.content, \"html.parser\")\n",
    "    for item in soup.select(\"loc\"):\n",
    "        newpagelist.append(item.get_text())"
   ]
  },
  {
   "cell_type": "code",
   "execution_count": 20,
   "id": "45f4860b",
   "metadata": {},
   "outputs": [
    {
     "data": {
      "text/plain": [
       "17052"
      ]
     },
     "execution_count": 20,
     "metadata": {},
     "output_type": "execute_result"
    }
   ],
   "source": [
    "len(newpagelist)"
   ]
  },
  {
   "cell_type": "code",
   "execution_count": 21,
   "id": "7883fd29",
   "metadata": {},
   "outputs": [
    {
     "data": {
      "text/plain": [
       "'https://www.epicurious.com/recipes/food/views/burnt-broccoli-and-crushed-olive-salad'"
      ]
     },
     "execution_count": 21,
     "metadata": {},
     "output_type": "execute_result"
    }
   ],
   "source": [
    "newpagelist[0]"
   ]
  },
  {
   "cell_type": "code",
   "execution_count": 10,
   "id": "30f4c7ad",
   "metadata": {},
   "outputs": [],
   "source": [
    "req = requests.get(newpagelist[0])"
   ]
  },
  {
   "cell_type": "code",
   "execution_count": 11,
   "id": "1c2fdf39",
   "metadata": {},
   "outputs": [
    {
     "data": {
      "text/plain": [
       "<Response [200]>"
      ]
     },
     "execution_count": 11,
     "metadata": {},
     "output_type": "execute_result"
    }
   ],
   "source": [
    "req"
   ]
  },
  {
   "cell_type": "code",
   "execution_count": 12,
   "id": "b29aa778",
   "metadata": {},
   "outputs": [],
   "source": [
    "soup = BeautifulSoup(req.content, \"html.parser\")"
   ]
  },
  {
   "cell_type": "code",
   "execution_count": 14,
   "id": "7c426c0a",
   "metadata": {},
   "outputs": [],
   "source": [
    "data = json.loads(soup.find('script', type='application/ld+json').text)"
   ]
  },
  {
   "cell_type": "code",
   "execution_count": 17,
   "id": "1b469092",
   "metadata": {},
   "outputs": [
    {
     "data": {
      "text/plain": [
       "['1 large head of broccoli (about 1 lb.)',\n",
       " '2 Tbsp. extra-virgin olive oil, divided',\n",
       " '½ tsp. Diamond Crystal or ¼ tsp. Morton kosher salt',\n",
       " '2 oz. fresh goat cheese',\n",
       " '½ cup Castelvetrano olives, crushed, pits removed',\n",
       " '1 lemon']"
      ]
     },
     "execution_count": 17,
     "metadata": {},
     "output_type": "execute_result"
    }
   ],
   "source": [
    "data['recipeIngredient']"
   ]
  },
  {
   "cell_type": "code",
   "execution_count": 22,
   "id": "18009049",
   "metadata": {},
   "outputs": [],
   "source": [
    "def getrecipe(recipeslist):\n",
    "    recipes = []\n",
    "\n",
    "    for page in recipeslist: \n",
    "        try: \n",
    "            req = requests.get(page)\n",
    "            soup = BeautifulSoup(req.content, \"html.parser\")\n",
    "            data = json.loads(soup.find('script', type='application/ld+json').text)\n",
    "            name = data['name']\n",
    "            ingredientlist = data['recipeIngredient']\n",
    "            recipes.append([name, page, ingredientlist])\n",
    "            print(f\"Done with index # {recipeslist.index(page)}\")\n",
    "           \n",
    "            # The try/except structure here has two benefits: \n",
    "            # - It guards against a patchy internet connection: It just keeps on rolling until it's back.\n",
    "            # - It will automatically skip pages that do not conform to the same json format (recipeIngredient)\n",
    "            \n",
    "        except: \n",
    "            print(\"No success, moving on.\")\n",
    "        \n",
    "        # Polite wait time\n",
    "        wait_time = randint(1,4000)\n",
    "        print(\"I will sleep for \" + str(wait_time/4000) + \" seconds.\")\n",
    "        sleep(wait_time/4000)\n",
    "        \n",
    "    return recipes"
   ]
  },
  {
   "cell_type": "code",
   "execution_count": 3,
   "id": "e59279bf",
   "metadata": {
    "scrolled": true
   },
   "outputs": [],
   "source": [
    "#epicurious1 = getrecipe(newpagelist[:5000])"
   ]
  },
  {
   "cell_type": "code",
   "execution_count": 4,
   "id": "25aa95c8",
   "metadata": {},
   "outputs": [],
   "source": [
    "#epicurious2 = getrecipe(newpagelist[5000:10000])"
   ]
  },
  {
   "cell_type": "code",
   "execution_count": 27,
   "id": "f27d2034",
   "metadata": {},
   "outputs": [],
   "source": [
    "epi1 = pd.DataFrame(epicurious1)\n"
   ]
  },
  {
   "cell_type": "code",
   "execution_count": 28,
   "id": "3b1084e0",
   "metadata": {},
   "outputs": [],
   "source": [
    "epi2 = pd.DataFrame(epicurious2)"
   ]
  },
  {
   "cell_type": "code",
   "execution_count": 29,
   "id": "754e504e",
   "metadata": {},
   "outputs": [],
   "source": [
    "epimix = pd.concat([epi1, epi2], axis = 0)"
   ]
  },
  {
   "cell_type": "code",
   "execution_count": 31,
   "id": "348d63d6",
   "metadata": {},
   "outputs": [],
   "source": [
    "epimix.columns = ['name','url','ingredients']"
   ]
  },
  {
   "cell_type": "code",
   "execution_count": 33,
   "id": "890d5788",
   "metadata": {},
   "outputs": [],
   "source": [
    "epimix.to_csv('epicurious.csv', index = False, sep = '|')"
   ]
  },
  {
   "cell_type": "code",
   "execution_count": 5,
   "id": "47824ae0",
   "metadata": {},
   "outputs": [],
   "source": [
    "#epicurious3 = getrecipe(newpagelist[10000:15000])"
   ]
  },
  {
   "cell_type": "code",
   "execution_count": 6,
   "id": "f0ae2eee",
   "metadata": {},
   "outputs": [],
   "source": [
    "#epicurious4 = getrecipe(newpagelist[15000:])"
   ]
  },
  {
   "cell_type": "code",
   "execution_count": 37,
   "id": "8e87067c",
   "metadata": {},
   "outputs": [],
   "source": [
    "epi3 = pd.DataFrame(epicurious3)\n",
    "epi4 = pd.DataFrame(epicurious4)"
   ]
  },
  {
   "cell_type": "code",
   "execution_count": 38,
   "id": "ae0b1fbb",
   "metadata": {},
   "outputs": [],
   "source": [
    "epicurious = pd.concat([epi1, epi2, epi3, epi4], axis = 0)"
   ]
  },
  {
   "cell_type": "code",
   "execution_count": 40,
   "id": "2b0a5c68",
   "metadata": {},
   "outputs": [],
   "source": [
    "epicurious.columns = ['name', 'url', 'ingredients']"
   ]
  },
  {
   "cell_type": "code",
   "execution_count": 41,
   "id": "995a0e77",
   "metadata": {},
   "outputs": [],
   "source": [
    "epicurious.to_csv('epicurious.csv', index = False, sep = '|')"
   ]
  },
  {
   "cell_type": "code",
   "execution_count": 42,
   "id": "d96c54f4",
   "metadata": {},
   "outputs": [
    {
     "data": {
      "text/plain": [
       "16799"
      ]
     },
     "execution_count": 42,
     "metadata": {},
     "output_type": "execute_result"
    }
   ],
   "source": [
    "len(epicurious)"
   ]
  },
  {
   "cell_type": "code",
   "execution_count": null,
   "id": "8e601595",
   "metadata": {},
   "outputs": [],
   "source": []
  }
 ],
 "metadata": {
  "kernelspec": {
   "display_name": "Python 3 (ipykernel)",
   "language": "python",
   "name": "python3"
  },
  "language_info": {
   "codemirror_mode": {
    "name": "ipython",
    "version": 3
   },
   "file_extension": ".py",
   "mimetype": "text/x-python",
   "name": "python",
   "nbconvert_exporter": "python",
   "pygments_lexer": "ipython3",
   "version": "3.10.6"
  }
 },
 "nbformat": 4,
 "nbformat_minor": 5
}
