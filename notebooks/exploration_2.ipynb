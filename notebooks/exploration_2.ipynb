{
 "cells": [
  {
   "cell_type": "markdown",
   "id": "e4767890",
   "metadata": {},
   "source": [
    "# Exploration"
   ]
  },
  {
   "cell_type": "markdown",
   "id": "5f772a2c",
   "metadata": {},
   "source": [
    "The first thing to do is to transform the ingredients into a big matrix, one-hot-encoder-like. \n",
    "\n",
    "Then, I will run some experiments with classification to see what I should expect (e.g. take the column for shallots as my target value, and see how accurately I can predict which combinations of ingredients would include shallots."
   ]
  },
  {
   "cell_type": "markdown",
   "id": "f4be52f4",
   "metadata": {},
   "source": [
    "## Matrix"
   ]
  },
  {
   "cell_type": "code",
   "execution_count": 109,
   "id": "4931392c",
   "metadata": {},
   "outputs": [],
   "source": [
    "import pandas as pd\n",
    "import numpy as np\n",
    "import random\n",
    "from sklearn.feature_extraction.text import CountVectorizer\n",
    "from sklearn.model_selection import train_test_split\n",
    "from sklearn.linear_model import LogisticRegression\n",
    "from sklearn.metrics import confusion_matrix\n",
    "from sklearn import cluster\n",
    "from sklearn.metrics import silhouette_score\n",
    "import matplotlib.pyplot as plt\n",
    "import seaborn as sns"
   ]
  },
  {
   "cell_type": "code",
   "execution_count": 4,
   "id": "3fb30eaa",
   "metadata": {},
   "outputs": [],
   "source": [
    "df = pd.read_csv('dataframe.csv', sep = '|')"
   ]
  },
  {
   "cell_type": "code",
   "execution_count": 25,
   "id": "617d7b89",
   "metadata": {},
   "outputs": [],
   "source": [
    "masterlist = []\n",
    "with open('masterlist.txt','r') as f:\n",
    "    file = f.readlines()\n",
    "    for line in file: \n",
    "        masterlist.append(line.replace('\\n',''))"
   ]
  },
  {
   "cell_type": "code",
   "execution_count": 1,
   "id": "70fdf7d0",
   "metadata": {},
   "outputs": [],
   "source": [
    "#masterlist"
   ]
  },
  {
   "cell_type": "code",
   "execution_count": 5,
   "id": "29498baa",
   "metadata": {},
   "outputs": [
    {
     "data": {
      "text/html": [
       "<div>\n",
       "<style scoped>\n",
       "    .dataframe tbody tr th:only-of-type {\n",
       "        vertical-align: middle;\n",
       "    }\n",
       "\n",
       "    .dataframe tbody tr th {\n",
       "        vertical-align: top;\n",
       "    }\n",
       "\n",
       "    .dataframe thead th {\n",
       "        text-align: right;\n",
       "    }\n",
       "</style>\n",
       "<table border=\"1\" class=\"dataframe\">\n",
       "  <thead>\n",
       "    <tr style=\"text-align: right;\">\n",
       "      <th></th>\n",
       "      <th>name</th>\n",
       "      <th>url</th>\n",
       "      <th>ingredients</th>\n",
       "      <th>cleaned</th>\n",
       "    </tr>\n",
       "  </thead>\n",
       "  <tbody>\n",
       "    <tr>\n",
       "      <th>0</th>\n",
       "      <td>arriba   baked winter squash mexican style</td>\n",
       "      <td>https://www.food.com/recipe/137739</td>\n",
       "      <td>['winter squash', 'mexican seasoning', 'mixed ...</td>\n",
       "      <td>['squash', 'mixed spice', 'honey', 'butter', '...</td>\n",
       "    </tr>\n",
       "    <tr>\n",
       "      <th>1</th>\n",
       "      <td>a bit different  breakfast pizza</td>\n",
       "      <td>https://www.food.com/recipe/31490</td>\n",
       "      <td>['prepared pizza crust', 'sausage patty', 'egg...</td>\n",
       "      <td>['sage', 'egg', 'milk', 'salt', 'cheese']</td>\n",
       "    </tr>\n",
       "    <tr>\n",
       "      <th>2</th>\n",
       "      <td>all in the kitchen  chili</td>\n",
       "      <td>https://www.food.com/recipe/112140</td>\n",
       "      <td>['ground beef', 'yellow onions', 'diced tomato...</td>\n",
       "      <td>['ground beef', 'yellow onion', 'diced tomato'...</td>\n",
       "    </tr>\n",
       "    <tr>\n",
       "      <th>3</th>\n",
       "      <td>alouette  potatoes</td>\n",
       "      <td>https://www.food.com/recipe/59389</td>\n",
       "      <td>['spreadable cheese with garlic and herbs', 'n...</td>\n",
       "      <td>['cheese', 'potato', 'shallot', 'parsley', 'ol...</td>\n",
       "    </tr>\n",
       "    <tr>\n",
       "      <th>4</th>\n",
       "      <td>amish  tomato ketchup  for canning</td>\n",
       "      <td>https://www.food.com/recipe/44061</td>\n",
       "      <td>['tomato juice', 'apple cider vinegar', 'sugar...</td>\n",
       "      <td>['tomato', 'apple cider vinegar', 'sugar', 'sa...</td>\n",
       "    </tr>\n",
       "    <tr>\n",
       "      <th>...</th>\n",
       "      <td>...</td>\n",
       "      <td>...</td>\n",
       "      <td>...</td>\n",
       "      <td>...</td>\n",
       "    </tr>\n",
       "    <tr>\n",
       "      <th>253707</th>\n",
       "      <td>Mushrooms in Marsala Wine (Funghi Alla Marsala)</td>\n",
       "      <td>https://cooking.nytimes.com/recipes/31-mushroo...</td>\n",
       "      <td>['1 ounce dried mushrooms, preferably imported...</td>\n",
       "      <td>['mushroom', 'mushroom', 'water', 'olive oil',...</td>\n",
       "    </tr>\n",
       "    <tr>\n",
       "      <th>253708</th>\n",
       "      <td>Veal Scaloppine With Mushrooms Bordelaise</td>\n",
       "      <td>https://cooking.nytimes.com/recipes/30-veal-sc...</td>\n",
       "      <td>['12 slices veal scaloppine, about 1 1/4 pound...</td>\n",
       "      <td>['veal', 'mushroom', 'olive oil', 'pea', 'oil'...</td>\n",
       "    </tr>\n",
       "    <tr>\n",
       "      <th>253709</th>\n",
       "      <td>Mushroom and Meat Loaf</td>\n",
       "      <td>https://cooking.nytimes.com/recipes/28-mushroo...</td>\n",
       "      <td>['1/2 pound mushrooms', '1 tablespoon butter',...</td>\n",
       "      <td>['mushroom', 'butter', 'onion', 'pork', 'veal'...</td>\n",
       "    </tr>\n",
       "    <tr>\n",
       "      <th>253710</th>\n",
       "      <td>Mushroom and Pepper Salad</td>\n",
       "      <td>https://cooking.nytimes.com/recipes/29-mushroo...</td>\n",
       "      <td>['1 large sweet red pepper, about 1/2 pound', ...</td>\n",
       "      <td>['red pepper', 'green pepper', 'celery', 'mush...</td>\n",
       "    </tr>\n",
       "    <tr>\n",
       "      <th>253711</th>\n",
       "      <td>Stuffed Mushrooms</td>\n",
       "      <td>https://cooking.nytimes.com/recipes/27-stuffed...</td>\n",
       "      <td>['1 1/4 pounds mushrooms', '4 tablespoons butt...</td>\n",
       "      <td>['mushroom', 'butter', 'lemon', 'pepper', 'sha...</td>\n",
       "    </tr>\n",
       "  </tbody>\n",
       "</table>\n",
       "<p>253712 rows × 4 columns</p>\n",
       "</div>"
      ],
      "text/plain": [
       "                                                   name  \\\n",
       "0            arriba   baked winter squash mexican style   \n",
       "1                      a bit different  breakfast pizza   \n",
       "2                             all in the kitchen  chili   \n",
       "3                                    alouette  potatoes   \n",
       "4                    amish  tomato ketchup  for canning   \n",
       "...                                                 ...   \n",
       "253707  Mushrooms in Marsala Wine (Funghi Alla Marsala)   \n",
       "253708        Veal Scaloppine With Mushrooms Bordelaise   \n",
       "253709                           Mushroom and Meat Loaf   \n",
       "253710                        Mushroom and Pepper Salad   \n",
       "253711                                Stuffed Mushrooms   \n",
       "\n",
       "                                                      url  \\\n",
       "0                      https://www.food.com/recipe/137739   \n",
       "1                       https://www.food.com/recipe/31490   \n",
       "2                      https://www.food.com/recipe/112140   \n",
       "3                       https://www.food.com/recipe/59389   \n",
       "4                       https://www.food.com/recipe/44061   \n",
       "...                                                   ...   \n",
       "253707  https://cooking.nytimes.com/recipes/31-mushroo...   \n",
       "253708  https://cooking.nytimes.com/recipes/30-veal-sc...   \n",
       "253709  https://cooking.nytimes.com/recipes/28-mushroo...   \n",
       "253710  https://cooking.nytimes.com/recipes/29-mushroo...   \n",
       "253711  https://cooking.nytimes.com/recipes/27-stuffed...   \n",
       "\n",
       "                                              ingredients  \\\n",
       "0       ['winter squash', 'mexican seasoning', 'mixed ...   \n",
       "1       ['prepared pizza crust', 'sausage patty', 'egg...   \n",
       "2       ['ground beef', 'yellow onions', 'diced tomato...   \n",
       "3       ['spreadable cheese with garlic and herbs', 'n...   \n",
       "4       ['tomato juice', 'apple cider vinegar', 'sugar...   \n",
       "...                                                   ...   \n",
       "253707  ['1 ounce dried mushrooms, preferably imported...   \n",
       "253708  ['12 slices veal scaloppine, about 1 1/4 pound...   \n",
       "253709  ['1/2 pound mushrooms', '1 tablespoon butter',...   \n",
       "253710  ['1 large sweet red pepper, about 1/2 pound', ...   \n",
       "253711  ['1 1/4 pounds mushrooms', '4 tablespoons butt...   \n",
       "\n",
       "                                                  cleaned  \n",
       "0       ['squash', 'mixed spice', 'honey', 'butter', '...  \n",
       "1               ['sage', 'egg', 'milk', 'salt', 'cheese']  \n",
       "2       ['ground beef', 'yellow onion', 'diced tomato'...  \n",
       "3       ['cheese', 'potato', 'shallot', 'parsley', 'ol...  \n",
       "4       ['tomato', 'apple cider vinegar', 'sugar', 'sa...  \n",
       "...                                                   ...  \n",
       "253707  ['mushroom', 'mushroom', 'water', 'olive oil',...  \n",
       "253708  ['veal', 'mushroom', 'olive oil', 'pea', 'oil'...  \n",
       "253709  ['mushroom', 'butter', 'onion', 'pork', 'veal'...  \n",
       "253710  ['red pepper', 'green pepper', 'celery', 'mush...  \n",
       "253711  ['mushroom', 'butter', 'lemon', 'pepper', 'sha...  \n",
       "\n",
       "[253712 rows x 4 columns]"
      ]
     },
     "execution_count": 5,
     "metadata": {},
     "output_type": "execute_result"
    }
   ],
   "source": [
    "df"
   ]
  },
  {
   "cell_type": "code",
   "execution_count": 9,
   "id": "84adb738",
   "metadata": {},
   "outputs": [],
   "source": [
    "vectorio = CountVectorizer()\n",
    "# fit creates one entry for each different word seen  \n",
    "X = vectorio.fit_transform(df['cleaned']).toarray()"
   ]
  },
  {
   "cell_type": "code",
   "execution_count": 12,
   "id": "65bb9de4",
   "metadata": {},
   "outputs": [],
   "source": [
    "#vectorio.vocabulary_"
   ]
  },
  {
   "cell_type": "markdown",
   "id": "acff6fde",
   "metadata": {},
   "source": [
    "This turns out to do the wrong thing - counting every *word*, rather than every lemma/entry/ngram."
   ]
  },
  {
   "cell_type": "markdown",
   "id": "5acf2207",
   "metadata": {},
   "source": [
    "The ngram option in CountVectorizer is not helpful because it is too rigid - I want flexible ngrams, which change according to the number of words in a particular entry."
   ]
  },
  {
   "cell_type": "markdown",
   "id": "0237b0e8",
   "metadata": {},
   "source": [
    "I'll see if I can do this by hand - it feels like this should not be too hard... (famous last words)"
   ]
  },
  {
   "cell_type": "code",
   "execution_count": 52,
   "id": "092a3224",
   "metadata": {},
   "outputs": [],
   "source": [
    "biglist = []\n",
    "for i in range(len(df)):\n",
    "    smallist = []\n",
    "    for ingredient in masterlist: \n",
    "        if ingredient in df['cleaned'].iloc[i]:    \n",
    "            smallist.append(1)\n",
    "        else: \n",
    "            smallist.append(0)\n",
    "    biglist.append(smallist)"
   ]
  },
  {
   "cell_type": "code",
   "execution_count": 53,
   "id": "466ecb37",
   "metadata": {},
   "outputs": [],
   "source": [
    "matrix = pd.DataFrame(data = biglist, columns = masterlist)"
   ]
  },
  {
   "cell_type": "code",
   "execution_count": 54,
   "id": "c89dba0f",
   "metadata": {
    "scrolled": true
   },
   "outputs": [
    {
     "data": {
      "text/html": [
       "<div>\n",
       "<style scoped>\n",
       "    .dataframe tbody tr th:only-of-type {\n",
       "        vertical-align: middle;\n",
       "    }\n",
       "\n",
       "    .dataframe tbody tr th {\n",
       "        vertical-align: top;\n",
       "    }\n",
       "\n",
       "    .dataframe thead th {\n",
       "        text-align: right;\n",
       "    }\n",
       "</style>\n",
       "<table border=\"1\" class=\"dataframe\">\n",
       "  <thead>\n",
       "    <tr style=\"text-align: right;\">\n",
       "      <th></th>\n",
       "      <th>extra virgin olive oil</th>\n",
       "      <th>sesame seed burger bun</th>\n",
       "      <th>thai red curry paste</th>\n",
       "      <th>thai green curry paste</th>\n",
       "      <th>blue food colouring</th>\n",
       "      <th>red chile flake</th>\n",
       "      <th>white chocolate chip</th>\n",
       "      <th>italian fennel sausage</th>\n",
       "      <th>red chilli powder</th>\n",
       "      <th>apple cider vinegar</th>\n",
       "      <th>...</th>\n",
       "      <th>garlic</th>\n",
       "      <th>rhubarb</th>\n",
       "      <th>cacao</th>\n",
       "      <th>vanilla</th>\n",
       "      <th>milk</th>\n",
       "      <th>chilli</th>\n",
       "      <th>courgette</th>\n",
       "      <th>pork</th>\n",
       "      <th>spaghetti</th>\n",
       "      <th>bread</th>\n",
       "    </tr>\n",
       "  </thead>\n",
       "  <tbody>\n",
       "    <tr>\n",
       "      <th>0</th>\n",
       "      <td>0</td>\n",
       "      <td>0</td>\n",
       "      <td>0</td>\n",
       "      <td>0</td>\n",
       "      <td>0</td>\n",
       "      <td>0</td>\n",
       "      <td>0</td>\n",
       "      <td>0</td>\n",
       "      <td>0</td>\n",
       "      <td>0</td>\n",
       "      <td>...</td>\n",
       "      <td>0</td>\n",
       "      <td>0</td>\n",
       "      <td>0</td>\n",
       "      <td>0</td>\n",
       "      <td>0</td>\n",
       "      <td>0</td>\n",
       "      <td>0</td>\n",
       "      <td>0</td>\n",
       "      <td>0</td>\n",
       "      <td>0</td>\n",
       "    </tr>\n",
       "    <tr>\n",
       "      <th>1</th>\n",
       "      <td>0</td>\n",
       "      <td>0</td>\n",
       "      <td>0</td>\n",
       "      <td>0</td>\n",
       "      <td>0</td>\n",
       "      <td>0</td>\n",
       "      <td>0</td>\n",
       "      <td>0</td>\n",
       "      <td>0</td>\n",
       "      <td>0</td>\n",
       "      <td>...</td>\n",
       "      <td>0</td>\n",
       "      <td>0</td>\n",
       "      <td>0</td>\n",
       "      <td>0</td>\n",
       "      <td>1</td>\n",
       "      <td>0</td>\n",
       "      <td>0</td>\n",
       "      <td>0</td>\n",
       "      <td>0</td>\n",
       "      <td>0</td>\n",
       "    </tr>\n",
       "    <tr>\n",
       "      <th>2</th>\n",
       "      <td>0</td>\n",
       "      <td>0</td>\n",
       "      <td>0</td>\n",
       "      <td>0</td>\n",
       "      <td>0</td>\n",
       "      <td>0</td>\n",
       "      <td>0</td>\n",
       "      <td>0</td>\n",
       "      <td>0</td>\n",
       "      <td>0</td>\n",
       "      <td>...</td>\n",
       "      <td>0</td>\n",
       "      <td>0</td>\n",
       "      <td>0</td>\n",
       "      <td>0</td>\n",
       "      <td>0</td>\n",
       "      <td>0</td>\n",
       "      <td>0</td>\n",
       "      <td>0</td>\n",
       "      <td>0</td>\n",
       "      <td>0</td>\n",
       "    </tr>\n",
       "    <tr>\n",
       "      <th>3</th>\n",
       "      <td>0</td>\n",
       "      <td>0</td>\n",
       "      <td>0</td>\n",
       "      <td>0</td>\n",
       "      <td>0</td>\n",
       "      <td>0</td>\n",
       "      <td>0</td>\n",
       "      <td>0</td>\n",
       "      <td>0</td>\n",
       "      <td>0</td>\n",
       "      <td>...</td>\n",
       "      <td>0</td>\n",
       "      <td>0</td>\n",
       "      <td>0</td>\n",
       "      <td>0</td>\n",
       "      <td>0</td>\n",
       "      <td>0</td>\n",
       "      <td>0</td>\n",
       "      <td>0</td>\n",
       "      <td>0</td>\n",
       "      <td>0</td>\n",
       "    </tr>\n",
       "    <tr>\n",
       "      <th>4</th>\n",
       "      <td>0</td>\n",
       "      <td>0</td>\n",
       "      <td>0</td>\n",
       "      <td>0</td>\n",
       "      <td>0</td>\n",
       "      <td>0</td>\n",
       "      <td>0</td>\n",
       "      <td>0</td>\n",
       "      <td>0</td>\n",
       "      <td>1</td>\n",
       "      <td>...</td>\n",
       "      <td>0</td>\n",
       "      <td>0</td>\n",
       "      <td>0</td>\n",
       "      <td>0</td>\n",
       "      <td>0</td>\n",
       "      <td>0</td>\n",
       "      <td>0</td>\n",
       "      <td>0</td>\n",
       "      <td>0</td>\n",
       "      <td>0</td>\n",
       "    </tr>\n",
       "  </tbody>\n",
       "</table>\n",
       "<p>5 rows × 533 columns</p>\n",
       "</div>"
      ],
      "text/plain": [
       "   extra virgin olive oil  sesame seed burger bun  thai red curry paste  \\\n",
       "0                       0                       0                     0   \n",
       "1                       0                       0                     0   \n",
       "2                       0                       0                     0   \n",
       "3                       0                       0                     0   \n",
       "4                       0                       0                     0   \n",
       "\n",
       "   thai green curry paste  blue food colouring  red chile flake  \\\n",
       "0                       0                    0                0   \n",
       "1                       0                    0                0   \n",
       "2                       0                    0                0   \n",
       "3                       0                    0                0   \n",
       "4                       0                    0                0   \n",
       "\n",
       "   white chocolate chip  italian fennel sausage  red chilli powder  \\\n",
       "0                     0                       0                  0   \n",
       "1                     0                       0                  0   \n",
       "2                     0                       0                  0   \n",
       "3                     0                       0                  0   \n",
       "4                     0                       0                  0   \n",
       "\n",
       "   apple cider vinegar  ...  garlic  rhubarb  cacao  vanilla  milk  chilli  \\\n",
       "0                    0  ...       0        0      0        0     0       0   \n",
       "1                    0  ...       0        0      0        0     1       0   \n",
       "2                    0  ...       0        0      0        0     0       0   \n",
       "3                    0  ...       0        0      0        0     0       0   \n",
       "4                    1  ...       0        0      0        0     0       0   \n",
       "\n",
       "   courgette  pork  spaghetti  bread  \n",
       "0          0     0          0      0  \n",
       "1          0     0          0      0  \n",
       "2          0     0          0      0  \n",
       "3          0     0          0      0  \n",
       "4          0     0          0      0  \n",
       "\n",
       "[5 rows x 533 columns]"
      ]
     },
     "execution_count": 54,
     "metadata": {},
     "output_type": "execute_result"
    }
   ],
   "source": [
    "matrix.head()"
   ]
  },
  {
   "cell_type": "code",
   "execution_count": 56,
   "id": "6adb3752",
   "metadata": {},
   "outputs": [
    {
     "data": {
      "text/plain": [
       "0"
      ]
     },
     "execution_count": 56,
     "metadata": {},
     "output_type": "execute_result"
    }
   ],
   "source": [
    "matrix.isna().sum().sum()"
   ]
  },
  {
   "cell_type": "markdown",
   "id": "7b9c7d8d",
   "metadata": {},
   "source": [
    "## Classification"
   ]
  },
  {
   "cell_type": "markdown",
   "id": "023584a9",
   "metadata": {},
   "source": [
    "### Experiment 1: garlic"
   ]
  },
  {
   "cell_type": "markdown",
   "id": "01b6c883",
   "metadata": {},
   "source": [
    "I'll try a very common ingredient for my first little classification experiment: garlic!"
   ]
  },
  {
   "cell_type": "code",
   "execution_count": 88,
   "id": "ff00c4d6",
   "metadata": {},
   "outputs": [],
   "source": [
    "X = matrix.drop(columns = 'garlic')\n",
    "y = matrix['garlic']"
   ]
  },
  {
   "cell_type": "code",
   "execution_count": 89,
   "id": "022bfc7e",
   "metadata": {},
   "outputs": [],
   "source": [
    "X_train, X_test, y_train, y_test = train_test_split(X, y, random_state=11)"
   ]
  },
  {
   "cell_type": "code",
   "execution_count": 90,
   "id": "2766c2b4",
   "metadata": {},
   "outputs": [],
   "source": [
    "regression = LogisticRegression()"
   ]
  },
  {
   "cell_type": "code",
   "execution_count": 91,
   "id": "6ce7f44b",
   "metadata": {},
   "outputs": [
    {
     "name": "stderr",
     "output_type": "stream",
     "text": [
      "/Users/work/Library/Python/3.10/lib/python/site-packages/sklearn/linear_model/_logistic.py:444: ConvergenceWarning: lbfgs failed to converge (status=1):\n",
      "STOP: TOTAL NO. of ITERATIONS REACHED LIMIT.\n",
      "\n",
      "Increase the number of iterations (max_iter) or scale the data as shown in:\n",
      "    https://scikit-learn.org/stable/modules/preprocessing.html\n",
      "Please also refer to the documentation for alternative solver options:\n",
      "    https://scikit-learn.org/stable/modules/linear_model.html#logistic-regression\n",
      "  n_iter_i = _check_optimize_result(\n"
     ]
    },
    {
     "data": {
      "text/html": [
       "<style>#sk-container-id-3 {color: black;background-color: white;}#sk-container-id-3 pre{padding: 0;}#sk-container-id-3 div.sk-toggleable {background-color: white;}#sk-container-id-3 label.sk-toggleable__label {cursor: pointer;display: block;width: 100%;margin-bottom: 0;padding: 0.3em;box-sizing: border-box;text-align: center;}#sk-container-id-3 label.sk-toggleable__label-arrow:before {content: \"▸\";float: left;margin-right: 0.25em;color: #696969;}#sk-container-id-3 label.sk-toggleable__label-arrow:hover:before {color: black;}#sk-container-id-3 div.sk-estimator:hover label.sk-toggleable__label-arrow:before {color: black;}#sk-container-id-3 div.sk-toggleable__content {max-height: 0;max-width: 0;overflow: hidden;text-align: left;background-color: #f0f8ff;}#sk-container-id-3 div.sk-toggleable__content pre {margin: 0.2em;color: black;border-radius: 0.25em;background-color: #f0f8ff;}#sk-container-id-3 input.sk-toggleable__control:checked~div.sk-toggleable__content {max-height: 200px;max-width: 100%;overflow: auto;}#sk-container-id-3 input.sk-toggleable__control:checked~label.sk-toggleable__label-arrow:before {content: \"▾\";}#sk-container-id-3 div.sk-estimator input.sk-toggleable__control:checked~label.sk-toggleable__label {background-color: #d4ebff;}#sk-container-id-3 div.sk-label input.sk-toggleable__control:checked~label.sk-toggleable__label {background-color: #d4ebff;}#sk-container-id-3 input.sk-hidden--visually {border: 0;clip: rect(1px 1px 1px 1px);clip: rect(1px, 1px, 1px, 1px);height: 1px;margin: -1px;overflow: hidden;padding: 0;position: absolute;width: 1px;}#sk-container-id-3 div.sk-estimator {font-family: monospace;background-color: #f0f8ff;border: 1px dotted black;border-radius: 0.25em;box-sizing: border-box;margin-bottom: 0.5em;}#sk-container-id-3 div.sk-estimator:hover {background-color: #d4ebff;}#sk-container-id-3 div.sk-parallel-item::after {content: \"\";width: 100%;border-bottom: 1px solid gray;flex-grow: 1;}#sk-container-id-3 div.sk-label:hover label.sk-toggleable__label {background-color: #d4ebff;}#sk-container-id-3 div.sk-serial::before {content: \"\";position: absolute;border-left: 1px solid gray;box-sizing: border-box;top: 0;bottom: 0;left: 50%;z-index: 0;}#sk-container-id-3 div.sk-serial {display: flex;flex-direction: column;align-items: center;background-color: white;padding-right: 0.2em;padding-left: 0.2em;position: relative;}#sk-container-id-3 div.sk-item {position: relative;z-index: 1;}#sk-container-id-3 div.sk-parallel {display: flex;align-items: stretch;justify-content: center;background-color: white;position: relative;}#sk-container-id-3 div.sk-item::before, #sk-container-id-3 div.sk-parallel-item::before {content: \"\";position: absolute;border-left: 1px solid gray;box-sizing: border-box;top: 0;bottom: 0;left: 50%;z-index: -1;}#sk-container-id-3 div.sk-parallel-item {display: flex;flex-direction: column;z-index: 1;position: relative;background-color: white;}#sk-container-id-3 div.sk-parallel-item:first-child::after {align-self: flex-end;width: 50%;}#sk-container-id-3 div.sk-parallel-item:last-child::after {align-self: flex-start;width: 50%;}#sk-container-id-3 div.sk-parallel-item:only-child::after {width: 0;}#sk-container-id-3 div.sk-dashed-wrapped {border: 1px dashed gray;margin: 0 0.4em 0.5em 0.4em;box-sizing: border-box;padding-bottom: 0.4em;background-color: white;}#sk-container-id-3 div.sk-label label {font-family: monospace;font-weight: bold;display: inline-block;line-height: 1.2em;}#sk-container-id-3 div.sk-label-container {text-align: center;}#sk-container-id-3 div.sk-container {/* jupyter's `normalize.less` sets `[hidden] { display: none; }` but bootstrap.min.css set `[hidden] { display: none !important; }` so we also need the `!important` here to be able to override the default hidden behavior on the sphinx rendered scikit-learn.org. See: https://github.com/scikit-learn/scikit-learn/issues/21755 */display: inline-block !important;position: relative;}#sk-container-id-3 div.sk-text-repr-fallback {display: none;}</style><div id=\"sk-container-id-3\" class=\"sk-top-container\"><div class=\"sk-text-repr-fallback\"><pre>LogisticRegression()</pre><b>In a Jupyter environment, please rerun this cell to show the HTML representation or trust the notebook. <br />On GitHub, the HTML representation is unable to render, please try loading this page with nbviewer.org.</b></div><div class=\"sk-container\" hidden><div class=\"sk-item\"><div class=\"sk-estimator sk-toggleable\"><input class=\"sk-toggleable__control sk-hidden--visually\" id=\"sk-estimator-id-3\" type=\"checkbox\" checked><label for=\"sk-estimator-id-3\" class=\"sk-toggleable__label sk-toggleable__label-arrow\">LogisticRegression</label><div class=\"sk-toggleable__content\"><pre>LogisticRegression()</pre></div></div></div></div></div>"
      ],
      "text/plain": [
       "LogisticRegression()"
      ]
     },
     "execution_count": 91,
     "metadata": {},
     "output_type": "execute_result"
    }
   ],
   "source": [
    "regression.fit(X_train, y_train)"
   ]
  },
  {
   "cell_type": "code",
   "execution_count": 92,
   "id": "0a6e7871",
   "metadata": {},
   "outputs": [
    {
     "data": {
      "text/plain": [
       "0.9247335561581635"
      ]
     },
     "execution_count": 92,
     "metadata": {},
     "output_type": "execute_result"
    }
   ],
   "source": [
    "regression.score(X_train, y_train)"
   ]
  },
  {
   "cell_type": "code",
   "execution_count": 93,
   "id": "aa364990",
   "metadata": {
    "scrolled": true
   },
   "outputs": [
    {
     "data": {
      "text/plain": [
       "0.9237087721511005"
      ]
     },
     "execution_count": 93,
     "metadata": {},
     "output_type": "execute_result"
    }
   ],
   "source": [
    "regression.score(X_test, y_test)"
   ]
  },
  {
   "cell_type": "code",
   "execution_count": 94,
   "id": "4898403d",
   "metadata": {},
   "outputs": [],
   "source": [
    "trainpredictions = regression.predict(X_train)"
   ]
  },
  {
   "cell_type": "code",
   "execution_count": 95,
   "id": "cae4d2b0",
   "metadata": {},
   "outputs": [
    {
     "data": {
      "text/plain": [
       "array([[162726,   2044],\n",
       "       [ 12278,  13236]])"
      ]
     },
     "execution_count": 95,
     "metadata": {},
     "output_type": "execute_result"
    }
   ],
   "source": [
    "confusion_matrix(y_train, trainpredictions)"
   ]
  },
  {
   "cell_type": "markdown",
   "id": "7eeb6948",
   "metadata": {},
   "source": [
    "Alright - pretty cool!"
   ]
  },
  {
   "cell_type": "markdown",
   "id": "865b14fe",
   "metadata": {},
   "source": [
    "### Experiment 2: rhubarb"
   ]
  },
  {
   "cell_type": "code",
   "execution_count": 96,
   "id": "4a126dc0",
   "metadata": {},
   "outputs": [],
   "source": [
    "X = matrix.drop(columns = 'rhubarb')\n",
    "y = matrix['rhubarb']"
   ]
  },
  {
   "cell_type": "code",
   "execution_count": 97,
   "id": "38b600cb",
   "metadata": {},
   "outputs": [],
   "source": [
    "X_train, X_test, y_train, y_test = train_test_split(X, y, random_state=81)"
   ]
  },
  {
   "cell_type": "code",
   "execution_count": 98,
   "id": "38e972d5",
   "metadata": {},
   "outputs": [
    {
     "data": {
      "text/plain": [
       "63428"
      ]
     },
     "execution_count": 98,
     "metadata": {},
     "output_type": "execute_result"
    }
   ],
   "source": [
    "len(X_test)"
   ]
  },
  {
   "cell_type": "code",
   "execution_count": 99,
   "id": "ecd9e095",
   "metadata": {},
   "outputs": [],
   "source": [
    "regression = LogisticRegression()"
   ]
  },
  {
   "cell_type": "code",
   "execution_count": 100,
   "id": "2bc045bc",
   "metadata": {},
   "outputs": [
    {
     "data": {
      "text/html": [
       "<style>#sk-container-id-4 {color: black;background-color: white;}#sk-container-id-4 pre{padding: 0;}#sk-container-id-4 div.sk-toggleable {background-color: white;}#sk-container-id-4 label.sk-toggleable__label {cursor: pointer;display: block;width: 100%;margin-bottom: 0;padding: 0.3em;box-sizing: border-box;text-align: center;}#sk-container-id-4 label.sk-toggleable__label-arrow:before {content: \"▸\";float: left;margin-right: 0.25em;color: #696969;}#sk-container-id-4 label.sk-toggleable__label-arrow:hover:before {color: black;}#sk-container-id-4 div.sk-estimator:hover label.sk-toggleable__label-arrow:before {color: black;}#sk-container-id-4 div.sk-toggleable__content {max-height: 0;max-width: 0;overflow: hidden;text-align: left;background-color: #f0f8ff;}#sk-container-id-4 div.sk-toggleable__content pre {margin: 0.2em;color: black;border-radius: 0.25em;background-color: #f0f8ff;}#sk-container-id-4 input.sk-toggleable__control:checked~div.sk-toggleable__content {max-height: 200px;max-width: 100%;overflow: auto;}#sk-container-id-4 input.sk-toggleable__control:checked~label.sk-toggleable__label-arrow:before {content: \"▾\";}#sk-container-id-4 div.sk-estimator input.sk-toggleable__control:checked~label.sk-toggleable__label {background-color: #d4ebff;}#sk-container-id-4 div.sk-label input.sk-toggleable__control:checked~label.sk-toggleable__label {background-color: #d4ebff;}#sk-container-id-4 input.sk-hidden--visually {border: 0;clip: rect(1px 1px 1px 1px);clip: rect(1px, 1px, 1px, 1px);height: 1px;margin: -1px;overflow: hidden;padding: 0;position: absolute;width: 1px;}#sk-container-id-4 div.sk-estimator {font-family: monospace;background-color: #f0f8ff;border: 1px dotted black;border-radius: 0.25em;box-sizing: border-box;margin-bottom: 0.5em;}#sk-container-id-4 div.sk-estimator:hover {background-color: #d4ebff;}#sk-container-id-4 div.sk-parallel-item::after {content: \"\";width: 100%;border-bottom: 1px solid gray;flex-grow: 1;}#sk-container-id-4 div.sk-label:hover label.sk-toggleable__label {background-color: #d4ebff;}#sk-container-id-4 div.sk-serial::before {content: \"\";position: absolute;border-left: 1px solid gray;box-sizing: border-box;top: 0;bottom: 0;left: 50%;z-index: 0;}#sk-container-id-4 div.sk-serial {display: flex;flex-direction: column;align-items: center;background-color: white;padding-right: 0.2em;padding-left: 0.2em;position: relative;}#sk-container-id-4 div.sk-item {position: relative;z-index: 1;}#sk-container-id-4 div.sk-parallel {display: flex;align-items: stretch;justify-content: center;background-color: white;position: relative;}#sk-container-id-4 div.sk-item::before, #sk-container-id-4 div.sk-parallel-item::before {content: \"\";position: absolute;border-left: 1px solid gray;box-sizing: border-box;top: 0;bottom: 0;left: 50%;z-index: -1;}#sk-container-id-4 div.sk-parallel-item {display: flex;flex-direction: column;z-index: 1;position: relative;background-color: white;}#sk-container-id-4 div.sk-parallel-item:first-child::after {align-self: flex-end;width: 50%;}#sk-container-id-4 div.sk-parallel-item:last-child::after {align-self: flex-start;width: 50%;}#sk-container-id-4 div.sk-parallel-item:only-child::after {width: 0;}#sk-container-id-4 div.sk-dashed-wrapped {border: 1px dashed gray;margin: 0 0.4em 0.5em 0.4em;box-sizing: border-box;padding-bottom: 0.4em;background-color: white;}#sk-container-id-4 div.sk-label label {font-family: monospace;font-weight: bold;display: inline-block;line-height: 1.2em;}#sk-container-id-4 div.sk-label-container {text-align: center;}#sk-container-id-4 div.sk-container {/* jupyter's `normalize.less` sets `[hidden] { display: none; }` but bootstrap.min.css set `[hidden] { display: none !important; }` so we also need the `!important` here to be able to override the default hidden behavior on the sphinx rendered scikit-learn.org. See: https://github.com/scikit-learn/scikit-learn/issues/21755 */display: inline-block !important;position: relative;}#sk-container-id-4 div.sk-text-repr-fallback {display: none;}</style><div id=\"sk-container-id-4\" class=\"sk-top-container\"><div class=\"sk-text-repr-fallback\"><pre>LogisticRegression()</pre><b>In a Jupyter environment, please rerun this cell to show the HTML representation or trust the notebook. <br />On GitHub, the HTML representation is unable to render, please try loading this page with nbviewer.org.</b></div><div class=\"sk-container\" hidden><div class=\"sk-item\"><div class=\"sk-estimator sk-toggleable\"><input class=\"sk-toggleable__control sk-hidden--visually\" id=\"sk-estimator-id-4\" type=\"checkbox\" checked><label for=\"sk-estimator-id-4\" class=\"sk-toggleable__label sk-toggleable__label-arrow\">LogisticRegression</label><div class=\"sk-toggleable__content\"><pre>LogisticRegression()</pre></div></div></div></div></div>"
      ],
      "text/plain": [
       "LogisticRegression()"
      ]
     },
     "execution_count": 100,
     "metadata": {},
     "output_type": "execute_result"
    }
   ],
   "source": [
    "regression.fit(X_train, y_train)"
   ]
  },
  {
   "cell_type": "code",
   "execution_count": 101,
   "id": "1897caec",
   "metadata": {},
   "outputs": [
    {
     "data": {
      "text/plain": [
       "0.9974249017258414"
      ]
     },
     "execution_count": 101,
     "metadata": {},
     "output_type": "execute_result"
    }
   ],
   "source": [
    "regression.score(X_train, y_train)"
   ]
  },
  {
   "cell_type": "code",
   "execution_count": 102,
   "id": "d650696c",
   "metadata": {},
   "outputs": [
    {
     "data": {
      "text/plain": [
       "0.9973986252128397"
      ]
     },
     "execution_count": 102,
     "metadata": {},
     "output_type": "execute_result"
    }
   ],
   "source": [
    "regression.score(X_test, y_test)"
   ]
  },
  {
   "cell_type": "code",
   "execution_count": 103,
   "id": "bc3a5d0a",
   "metadata": {},
   "outputs": [
    {
     "data": {
      "text/plain": [
       "0    253055\n",
       "1       657\n",
       "Name: rhubarb, dtype: int64"
      ]
     },
     "execution_count": 103,
     "metadata": {},
     "output_type": "execute_result"
    }
   ],
   "source": [
    "matrix['rhubarb'].value_counts()"
   ]
  },
  {
   "cell_type": "code",
   "execution_count": 104,
   "id": "e0aa0804",
   "metadata": {},
   "outputs": [],
   "source": [
    "trainpredictions = regression.predict(X_train)"
   ]
  },
  {
   "cell_type": "code",
   "execution_count": 105,
   "id": "b1ebc3e7",
   "metadata": {},
   "outputs": [
    {
     "data": {
      "text/plain": [
       "array([[189792,      0],\n",
       "       [   490,      2]])"
      ]
     },
     "execution_count": 105,
     "metadata": {},
     "output_type": "execute_result"
    }
   ],
   "source": [
    "confusion_matrix(y_train, trainpredictions)"
   ]
  },
  {
   "cell_type": "markdown",
   "id": "41219ca3",
   "metadata": {},
   "source": [
    "Not perfect, but at least it is somewhat better than a model that goes with a 0 every time."
   ]
  },
  {
   "cell_type": "code",
   "execution_count": 106,
   "id": "9b698bcb",
   "metadata": {},
   "outputs": [],
   "source": [
    "testpredictions = regression.predict(X_test)"
   ]
  },
  {
   "cell_type": "code",
   "execution_count": 107,
   "id": "1c447434",
   "metadata": {
    "scrolled": true
   },
   "outputs": [
    {
     "data": {
      "text/plain": [
       "array([[63263,     0],\n",
       "       [  165,     0]])"
      ]
     },
     "execution_count": 107,
     "metadata": {},
     "output_type": "execute_result"
    }
   ],
   "source": [
    "confusion_matrix(y_test, testpredictions)"
   ]
  },
  {
   "cell_type": "markdown",
   "id": "2c38a2be",
   "metadata": {},
   "source": [
    "Whoops!"
   ]
  },
  {
   "cell_type": "markdown",
   "id": "f7b3cc22",
   "metadata": {},
   "source": [
    "# Clustering?"
   ]
  },
  {
   "cell_type": "markdown",
   "id": "6aa40f41",
   "metadata": {},
   "source": [
    "I'll look into the possibility of generating clusters here, based on these ingredients."
   ]
  },
  {
   "cell_type": "code",
   "execution_count": 114,
   "id": "d50222a6",
   "metadata": {},
   "outputs": [
    {
     "name": "stdout",
     "output_type": "stream",
     "text": [
      "starting round 2\n",
      "starting round 3\n",
      "starting round 4\n",
      "starting round 5\n",
      "starting round 6\n",
      "starting round 7\n",
      "starting round 8\n",
      "starting round 9\n",
      "starting round 10\n",
      "starting round 11\n",
      "starting round 12\n",
      "starting round 13\n",
      "starting round 14\n",
      "starting round 15\n",
      "starting round 16\n",
      "starting round 17\n",
      "starting round 18\n",
      "starting round 19\n"
     ]
    }
   ],
   "source": [
    "K = range(2, 20)\n",
    "inertia = []\n",
    "silhouette = []\n",
    "\n",
    "\n",
    "for k in K:\n",
    "    print(f\"starting round {k}\")\n",
    "    kmeans = cluster.KMeans(n_clusters=k,\n",
    "                    random_state=1989)\n",
    "    kmeans.fit(matrix)\n",
    "    inertia.append(kmeans.inertia_)\n",
    "    silhouette.append(silhouette_score(matrix, kmeans.predict(matrix)))"
   ]
  },
  {
   "cell_type": "code",
   "execution_count": 115,
   "id": "336d4baa",
   "metadata": {},
   "outputs": [
    {
     "data": {
      "text/plain": [
       "Text(0.5, 1.0, 'Elbow Method showing the optimal k')"
      ]
     },
     "execution_count": 115,
     "metadata": {},
     "output_type": "execute_result"
    },
    {
     "data": {
      "image/png": "[encoded data removed]",
      "text/plain": [
       "<Figure size 1152x576 with 1 Axes>"
      ]
     },
     "metadata": {
      "needs_background": "light"
     },
     "output_type": "display_data"
    }
   ],
   "source": [
    "# Show the elbow graph thing\n",
    "%matplotlib inline\n",
    "\n",
    "plt.figure(figsize=(16,8))\n",
    "plt.plot(K, inertia, 'bx-')\n",
    "plt.xlabel('k')\n",
    "plt.ylabel('inertia')\n",
    "plt.xticks(np.arange(min(K), max(K)+1, 1.0))\n",
    "plt.title('Elbow Method showing the optimal k')"
   ]
  },
  {
   "cell_type": "code",
   "execution_count": 116,
   "id": "22e4b106",
   "metadata": {},
   "outputs": [
    {
     "data": {
      "text/plain": [
       "Text(0.5, 1.0, 'Slhouette score showing the optimal k')"
      ]
     },
     "execution_count": 116,
     "metadata": {},
     "output_type": "execute_result"
    },
    {
     "data": {
      "image/png": "[encoded data removed]",
      "text/plain": [
       "<Figure size 1152x576 with 1 Axes>"
      ]
     },
     "metadata": {
      "needs_background": "light"
     },
     "output_type": "display_data"
    }
   ],
   "source": [
    "# Show the silhouette score\n",
    "plt.figure(figsize=(16,8))\n",
    "plt.plot(K, silhouette, 'bx-')\n",
    "plt.xlabel('k')\n",
    "plt.ylabel('silhouette score')\n",
    "plt.xticks(np.arange(min(K), max(K)+1, 1.0))\n",
    "plt.title('Slhouette score showing the optimal k')"
   ]
  },
  {
   "cell_type": "markdown",
   "id": "480d2978",
   "metadata": {},
   "source": [
    "11 clusters seems like the right way to go"
   ]
  },
  {
   "cell_type": "code",
   "execution_count": 117,
   "id": "ee98ca9a",
   "metadata": {},
   "outputs": [
    {
     "data": {
      "text/html": [
       "<style>#sk-container-id-6 {color: black;background-color: white;}#sk-container-id-6 pre{padding: 0;}#sk-container-id-6 div.sk-toggleable {background-color: white;}#sk-container-id-6 label.sk-toggleable__label {cursor: pointer;display: block;width: 100%;margin-bottom: 0;padding: 0.3em;box-sizing: border-box;text-align: center;}#sk-container-id-6 label.sk-toggleable__label-arrow:before {content: \"▸\";float: left;margin-right: 0.25em;color: #696969;}#sk-container-id-6 label.sk-toggleable__label-arrow:hover:before {color: black;}#sk-container-id-6 div.sk-estimator:hover label.sk-toggleable__label-arrow:before {color: black;}#sk-container-id-6 div.sk-toggleable__content {max-height: 0;max-width: 0;overflow: hidden;text-align: left;background-color: #f0f8ff;}#sk-container-id-6 div.sk-toggleable__content pre {margin: 0.2em;color: black;border-radius: 0.25em;background-color: #f0f8ff;}#sk-container-id-6 input.sk-toggleable__control:checked~div.sk-toggleable__content {max-height: 200px;max-width: 100%;overflow: auto;}#sk-container-id-6 input.sk-toggleable__control:checked~label.sk-toggleable__label-arrow:before {content: \"▾\";}#sk-container-id-6 div.sk-estimator input.sk-toggleable__control:checked~label.sk-toggleable__label {background-color: #d4ebff;}#sk-container-id-6 div.sk-label input.sk-toggleable__control:checked~label.sk-toggleable__label {background-color: #d4ebff;}#sk-container-id-6 input.sk-hidden--visually {border: 0;clip: rect(1px 1px 1px 1px);clip: rect(1px, 1px, 1px, 1px);height: 1px;margin: -1px;overflow: hidden;padding: 0;position: absolute;width: 1px;}#sk-container-id-6 div.sk-estimator {font-family: monospace;background-color: #f0f8ff;border: 1px dotted black;border-radius: 0.25em;box-sizing: border-box;margin-bottom: 0.5em;}#sk-container-id-6 div.sk-estimator:hover {background-color: #d4ebff;}#sk-container-id-6 div.sk-parallel-item::after {content: \"\";width: 100%;border-bottom: 1px solid gray;flex-grow: 1;}#sk-container-id-6 div.sk-label:hover label.sk-toggleable__label {background-color: #d4ebff;}#sk-container-id-6 div.sk-serial::before {content: \"\";position: absolute;border-left: 1px solid gray;box-sizing: border-box;top: 0;bottom: 0;left: 50%;z-index: 0;}#sk-container-id-6 div.sk-serial {display: flex;flex-direction: column;align-items: center;background-color: white;padding-right: 0.2em;padding-left: 0.2em;position: relative;}#sk-container-id-6 div.sk-item {position: relative;z-index: 1;}#sk-container-id-6 div.sk-parallel {display: flex;align-items: stretch;justify-content: center;background-color: white;position: relative;}#sk-container-id-6 div.sk-item::before, #sk-container-id-6 div.sk-parallel-item::before {content: \"\";position: absolute;border-left: 1px solid gray;box-sizing: border-box;top: 0;bottom: 0;left: 50%;z-index: -1;}#sk-container-id-6 div.sk-parallel-item {display: flex;flex-direction: column;z-index: 1;position: relative;background-color: white;}#sk-container-id-6 div.sk-parallel-item:first-child::after {align-self: flex-end;width: 50%;}#sk-container-id-6 div.sk-parallel-item:last-child::after {align-self: flex-start;width: 50%;}#sk-container-id-6 div.sk-parallel-item:only-child::after {width: 0;}#sk-container-id-6 div.sk-dashed-wrapped {border: 1px dashed gray;margin: 0 0.4em 0.5em 0.4em;box-sizing: border-box;padding-bottom: 0.4em;background-color: white;}#sk-container-id-6 div.sk-label label {font-family: monospace;font-weight: bold;display: inline-block;line-height: 1.2em;}#sk-container-id-6 div.sk-label-container {text-align: center;}#sk-container-id-6 div.sk-container {/* jupyter's `normalize.less` sets `[hidden] { display: none; }` but bootstrap.min.css set `[hidden] { display: none !important; }` so we also need the `!important` here to be able to override the default hidden behavior on the sphinx rendered scikit-learn.org. See: https://github.com/scikit-learn/scikit-learn/issues/21755 */display: inline-block !important;position: relative;}#sk-container-id-6 div.sk-text-repr-fallback {display: none;}</style><div id=\"sk-container-id-6\" class=\"sk-top-container\"><div class=\"sk-text-repr-fallback\"><pre>KMeans(n_clusters=11, random_state=1989)</pre><b>In a Jupyter environment, please rerun this cell to show the HTML representation or trust the notebook. <br />On GitHub, the HTML representation is unable to render, please try loading this page with nbviewer.org.</b></div><div class=\"sk-container\" hidden><div class=\"sk-item\"><div class=\"sk-estimator sk-toggleable\"><input class=\"sk-toggleable__control sk-hidden--visually\" id=\"sk-estimator-id-6\" type=\"checkbox\" checked><label for=\"sk-estimator-id-6\" class=\"sk-toggleable__label sk-toggleable__label-arrow\">KMeans</label><div class=\"sk-toggleable__content\"><pre>KMeans(n_clusters=11, random_state=1989)</pre></div></div></div></div></div>"
      ],
      "text/plain": [
       "KMeans(n_clusters=11, random_state=1989)"
      ]
     },
     "execution_count": 117,
     "metadata": {},
     "output_type": "execute_result"
    }
   ],
   "source": [
    "kmeans = cluster.KMeans(n_clusters=11, random_state=1989)\n",
    "kmeans.fit(matrix)"
   ]
  },
  {
   "cell_type": "code",
   "execution_count": 120,
   "id": "39552c8f",
   "metadata": {},
   "outputs": [],
   "source": [
    "groups = kmeans.predict(matrix)"
   ]
  },
  {
   "cell_type": "code",
   "execution_count": 121,
   "id": "648d101f",
   "metadata": {},
   "outputs": [
    {
     "data": {
      "text/plain": [
       "253712"
      ]
     },
     "execution_count": 121,
     "metadata": {},
     "output_type": "execute_result"
    }
   ],
   "source": [
    "len(groups)"
   ]
  },
  {
   "cell_type": "code",
   "execution_count": 118,
   "id": "f3395dfc",
   "metadata": {},
   "outputs": [],
   "source": [
    "clustered = pd.DataFrame()"
   ]
  },
  {
   "cell_type": "code",
   "execution_count": 119,
   "id": "5b0697a2",
   "metadata": {},
   "outputs": [],
   "source": [
    "clustered['recipe'] = df['name'].copy()"
   ]
  },
  {
   "cell_type": "code",
   "execution_count": 122,
   "id": "18d9fbec",
   "metadata": {},
   "outputs": [],
   "source": [
    "clustered['group'] = groups"
   ]
  },
  {
   "cell_type": "code",
   "execution_count": 2,
   "id": "bebe0a49",
   "metadata": {},
   "outputs": [],
   "source": [
    "#clustered.head(60)"
   ]
  },
  {
   "cell_type": "code",
   "execution_count": 3,
   "id": "c4871bba",
   "metadata": {},
   "outputs": [],
   "source": [
    "#clustered[clustered['group']==0].head(60)"
   ]
  },
  {
   "cell_type": "code",
   "execution_count": 126,
   "id": "fece4bb1",
   "metadata": {},
   "outputs": [],
   "source": [
    "# 0: lots of soups and sauces"
   ]
  },
  {
   "cell_type": "code",
   "execution_count": 4,
   "id": "d49454ee",
   "metadata": {},
   "outputs": [],
   "source": [
    "#clustered[clustered['group']==1].head(60)"
   ]
  },
  {
   "cell_type": "code",
   "execution_count": 128,
   "id": "bd5f645a",
   "metadata": {},
   "outputs": [],
   "source": [
    "# ???"
   ]
  },
  {
   "cell_type": "code",
   "execution_count": 5,
   "id": "ef540ac0",
   "metadata": {},
   "outputs": [],
   "source": [
    "#clustered[clustered['group']==2].head(60)"
   ]
  },
  {
   "cell_type": "code",
   "execution_count": 130,
   "id": "a5abd90d",
   "metadata": {},
   "outputs": [],
   "source": [
    "# 2: sweets and booze"
   ]
  },
  {
   "cell_type": "code",
   "execution_count": 6,
   "id": "54353150",
   "metadata": {},
   "outputs": [],
   "source": [
    "#clustered[clustered['group']==3].head(60)"
   ]
  },
  {
   "cell_type": "code",
   "execution_count": 7,
   "id": "bf6230ab",
   "metadata": {},
   "outputs": [],
   "source": [
    "#clustered[clustered['group']==4].head(60)"
   ]
  },
  {
   "cell_type": "code",
   "execution_count": 8,
   "id": "8d5d022b",
   "metadata": {},
   "outputs": [],
   "source": [
    "#clustered[clustered['group']==5].head(60)"
   ]
  },
  {
   "cell_type": "code",
   "execution_count": 134,
   "id": "14f35c0c",
   "metadata": {},
   "outputs": [],
   "source": [
    "#5: sweets"
   ]
  },
  {
   "cell_type": "markdown",
   "id": "bd23e132",
   "metadata": {},
   "source": [
    "Based on these few samples, I'm really not sure that there is anything useful to get from clustering. I want to focus on the combinations of individual ingredients right now, not group the overall recipes."
   ]
  },
  {
   "cell_type": "code",
   "execution_count": null,
   "id": "6a863f28",
   "metadata": {},
   "outputs": [],
   "source": []
  },
  {
   "cell_type": "markdown",
   "id": "12ebee62",
   "metadata": {},
   "source": [
    "# Some more pruning"
   ]
  },
  {
   "cell_type": "markdown",
   "id": "33b00f3b",
   "metadata": {},
   "source": [
    "In exploring the data, I found out that some of my 533 ingredients have zero instances (e.g. 'blue food coloring' and 'thai red curry paste'. I'll weed out those columns."
   ]
  },
  {
   "cell_type": "code",
   "execution_count": 138,
   "id": "aa21d4f7",
   "metadata": {},
   "outputs": [],
   "source": [
    "frequencies = {}\n",
    "for column in matrix.columns:\n",
    "    frequencies[column] = matrix[column].sum()"
   ]
  },
  {
   "cell_type": "code",
   "execution_count": 141,
   "id": "123f8bda",
   "metadata": {},
   "outputs": [],
   "source": [
    "frequencies = sorted(frequencies.items(), key=lambda item: item[1], reverse = True)"
   ]
  },
  {
   "cell_type": "code",
   "execution_count": 9,
   "id": "567173b7",
   "metadata": {},
   "outputs": [],
   "source": [
    "#frequencies"
   ]
  },
  {
   "cell_type": "code",
   "execution_count": 143,
   "id": "03b74fd3",
   "metadata": {},
   "outputs": [],
   "source": [
    "droplist = []\n",
    "for i in frequencies:\n",
    "    if i[1] == 0:\n",
    "        droplist.append(i[0])"
   ]
  },
  {
   "cell_type": "code",
   "execution_count": 145,
   "id": "60805f0f",
   "metadata": {},
   "outputs": [
    {
     "data": {
      "text/plain": [
       "57"
      ]
     },
     "execution_count": 145,
     "metadata": {},
     "output_type": "execute_result"
    }
   ],
   "source": [
    "len(droplist)"
   ]
  },
  {
   "cell_type": "code",
   "execution_count": 152,
   "id": "714280d5",
   "metadata": {},
   "outputs": [
    {
     "data": {
      "text/plain": [
       "True"
      ]
     },
     "execution_count": 152,
     "metadata": {},
     "output_type": "execute_result"
    }
   ],
   "source": [
    "'pear' in masterlist"
   ]
  },
  {
   "cell_type": "code",
   "execution_count": 149,
   "id": "b9352872",
   "metadata": {},
   "outputs": [
    {
     "data": {
      "text/plain": [
       "True"
      ]
     },
     "execution_count": 149,
     "metadata": {},
     "output_type": "execute_result"
    }
   ],
   "source": [
    "'chickpea' in masterlist"
   ]
  },
  {
   "cell_type": "code",
   "execution_count": 155,
   "id": "9869d29c",
   "metadata": {},
   "outputs": [
    {
     "data": {
      "text/plain": [
       "True"
      ]
     },
     "execution_count": 155,
     "metadata": {},
     "output_type": "execute_result"
    }
   ],
   "source": [
    "'egg plant' in masterlist"
   ]
  },
  {
   "cell_type": "code",
   "execution_count": 156,
   "id": "a2ca1991",
   "metadata": {},
   "outputs": [
    {
     "data": {
      "text/plain": [
       "533"
      ]
     },
     "execution_count": 156,
     "metadata": {},
     "output_type": "execute_result"
    }
   ],
   "source": [
    "len(masterlist)"
   ]
  },
  {
   "cell_type": "code",
   "execution_count": 157,
   "id": "bd7962e5",
   "metadata": {},
   "outputs": [
    {
     "data": {
      "text/plain": [
       "True"
      ]
     },
     "execution_count": 157,
     "metadata": {},
     "output_type": "execute_result"
    }
   ],
   "source": [
    "'aubergine' in masterlist"
   ]
  },
  {
   "cell_type": "code",
   "execution_count": 10,
   "id": "1c66f9ab",
   "metadata": {},
   "outputs": [],
   "source": [
    "#frequencies"
   ]
  },
  {
   "cell_type": "code",
   "execution_count": 167,
   "id": "db7ae73f",
   "metadata": {},
   "outputs": [
    {
     "data": {
      "text/plain": [
       "False"
      ]
     },
     "execution_count": 167,
     "metadata": {},
     "output_type": "execute_result"
    }
   ],
   "source": [
    "'chickpeas' in masterlist"
   ]
  },
  {
   "cell_type": "code",
   "execution_count": 170,
   "id": "42b92608",
   "metadata": {},
   "outputs": [],
   "source": [
    "matrix.to_csv('matrix.csv', index = False)"
   ]
  }
 ],
 "metadata": {
  "kernelspec": {
   "display_name": "Python 3 (ipykernel)",
   "language": "python",
   "name": "python3"
  },
  "language_info": {
   "codemirror_mode": {
    "name": "ipython",
    "version": 3
   },
   "file_extension": ".py",
   "mimetype": "text/x-python",
   "name": "python",
   "nbconvert_exporter": "python",
   "pygments_lexer": "ipython3",
   "version": "3.10.6"
  }
 },
 "nbformat": 4,
 "nbformat_minor": 5
}
