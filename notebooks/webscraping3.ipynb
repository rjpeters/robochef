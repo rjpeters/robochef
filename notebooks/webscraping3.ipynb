{
 "cells": [
  {
   "cell_type": "code",
   "execution_count": 22,
   "id": "db4e64eb",
   "metadata": {},
   "outputs": [],
   "source": [
    "import pandas as pd\n",
    "import numpy as np\n",
    "import requests\n",
    "from bs4 import BeautifulSoup\n",
    "from time import sleep\n",
    "from random import randint\n",
    "import json\n",
    "import re"
   ]
  },
  {
   "cell_type": "code",
   "execution_count": 23,
   "id": "98c236e8",
   "metadata": {},
   "outputs": [],
   "source": [
    "sitemap = requests.get('https://www.bonappetit.com/sitemap.xml')"
   ]
  },
  {
   "cell_type": "code",
   "execution_count": 26,
   "id": "c996c09b",
   "metadata": {},
   "outputs": [],
   "source": [
    "soup = BeautifulSoup(sitemap.content, \"html.parser\")"
   ]
  },
  {
   "cell_type": "code",
   "execution_count": 27,
   "id": "91ce6544",
   "metadata": {},
   "outputs": [],
   "source": [
    "metapagelist = []\n",
    "for i in soup.select(\"loc\"):\n",
    "    metapagelist.append(i.get_text())"
   ]
  },
  {
   "cell_type": "code",
   "execution_count": 28,
   "id": "012eca37",
   "metadata": {},
   "outputs": [
    {
     "data": {
      "text/plain": [
       "1035"
      ]
     },
     "execution_count": 28,
     "metadata": {},
     "output_type": "execute_result"
    }
   ],
   "source": [
    "len(metapagelist)"
   ]
  },
  {
   "cell_type": "code",
   "execution_count": 29,
   "id": "c10d8f6d",
   "metadata": {},
   "outputs": [],
   "source": [
    "pagelist = []\n",
    "for page in metapagelist: \n",
    "    subpage = requests.get(page)\n",
    "    soup = BeautifulSoup(subpage.content, 'html.parser')\n",
    "    for i in soup.select(\"loc\"):\n",
    "        pagelist.append(i.get_text())"
   ]
  },
  {
   "cell_type": "code",
   "execution_count": 30,
   "id": "8b5f4744",
   "metadata": {},
   "outputs": [
    {
     "data": {
      "text/plain": [
       "40167"
      ]
     },
     "execution_count": 30,
     "metadata": {},
     "output_type": "execute_result"
    }
   ],
   "source": [
    "len(pagelist)"
   ]
  },
  {
   "cell_type": "code",
   "execution_count": 33,
   "id": "3b30f7ab",
   "metadata": {},
   "outputs": [
    {
     "data": {
      "text/plain": [
       "'https://www.bonappetit.com/recipe/dry-rubbed-roast-turkey'"
      ]
     },
     "execution_count": 33,
     "metadata": {},
     "output_type": "execute_result"
    }
   ],
   "source": [
    "pagelist[2]"
   ]
  },
  {
   "cell_type": "code",
   "execution_count": 34,
   "id": "bafc5856",
   "metadata": {},
   "outputs": [],
   "source": [
    "newpagelist = []\n",
    "for page in pagelist: \n",
    "    if 'https://www.bonappetit.com/recipe' in page:\n",
    "        newpagelist.append(page)"
   ]
  },
  {
   "cell_type": "code",
   "execution_count": 35,
   "id": "c52004a7",
   "metadata": {},
   "outputs": [
    {
     "data": {
      "text/plain": [
       "17682"
      ]
     },
     "execution_count": 35,
     "metadata": {},
     "output_type": "execute_result"
    }
   ],
   "source": [
    "len(newpagelist)"
   ]
  },
  {
   "cell_type": "code",
   "execution_count": 36,
   "id": "60026689",
   "metadata": {},
   "outputs": [
    {
     "data": {
      "text/plain": [
       "'https://www.bonappetit.com/recipe/dry-rubbed-roast-turkey'"
      ]
     },
     "execution_count": 36,
     "metadata": {},
     "output_type": "execute_result"
    }
   ],
   "source": [
    "newpagelist[0]"
   ]
  },
  {
   "cell_type": "code",
   "execution_count": 37,
   "id": "5b2f511b",
   "metadata": {},
   "outputs": [],
   "source": [
    "def getrecipe(recipeslist):\n",
    "    recipes = []\n",
    "\n",
    "    for page in recipeslist: \n",
    "        try: \n",
    "            req = requests.get(page)\n",
    "            soup = BeautifulSoup(req.content, \"html.parser\")\n",
    "            data = json.loads(soup.find('script', type='application/ld+json').text)\n",
    "            name = data['name']\n",
    "            ingredientlist = data['recipeIngredient']\n",
    "            recipes.append([name, page, ingredientlist])\n",
    "            print(f\"Done with index # {recipeslist.index(page)}\")\n",
    "           \n",
    "            # The try/except structure here has two benefits: \n",
    "            # - It guards against a patchy internet connection: It just keeps on rolling until it's back.\n",
    "            # - It will automatically skip pages that do not conform to the same json format (recipeIngredient)\n",
    "            \n",
    "        except: \n",
    "            print(\"No success, moving on.\")\n",
    "        \n",
    "        # Polite wait time\n",
    "        wait_time = randint(1,4000)\n",
    "        print(\"I will sleep for \" + str(wait_time/4000) + \" seconds.\")\n",
    "        sleep(wait_time/4000)\n",
    "        \n",
    "    return recipes"
   ]
  },
  {
   "cell_type": "code",
   "execution_count": 1,
   "id": "bb8f543b",
   "metadata": {},
   "outputs": [],
   "source": [
    "#bonap1 = getrecipe(newpagelist[0:5000])"
   ]
  },
  {
   "cell_type": "code",
   "execution_count": 2,
   "id": "f25c84ec",
   "metadata": {},
   "outputs": [],
   "source": [
    "#bonap2 = getrecipe(newpagelist[5000:10000])"
   ]
  },
  {
   "cell_type": "code",
   "execution_count": 43,
   "id": "0d9779d1",
   "metadata": {},
   "outputs": [],
   "source": [
    "ba1 = pd.DataFrame(bonap1)\n",
    "ba2 = pd.DataFrame(bonap2)"
   ]
  },
  {
   "cell_type": "code",
   "execution_count": 44,
   "id": "c0c4ec0e",
   "metadata": {},
   "outputs": [],
   "source": [
    "bonapp_df = pd.concat([ba1, ba2], axis = 0)"
   ]
  },
  {
   "cell_type": "code",
   "execution_count": 45,
   "id": "fd7ff132",
   "metadata": {},
   "outputs": [],
   "source": [
    "bonapp_df.to_csv('bonapp1.csv', sep = '|', index = False)"
   ]
  },
  {
   "cell_type": "code",
   "execution_count": 3,
   "id": "829d55cd",
   "metadata": {},
   "outputs": [],
   "source": [
    "#bonap3 = getrecipe(newpagelist[10000:15000])"
   ]
  },
  {
   "cell_type": "code",
   "execution_count": 4,
   "id": "37580b65",
   "metadata": {},
   "outputs": [],
   "source": [
    "#bonap4 = getrecipe(newpagelist[15000:])"
   ]
  },
  {
   "cell_type": "code",
   "execution_count": null,
   "id": "7a7f6dd2",
   "metadata": {},
   "outputs": [],
   "source": [
    "ba3 = pd.DataFrame(bonap3)\n",
    "ba4 = pd.DataFrame(bonap4)\n",
    "bonap = pd.concat([ba1, ba2, ba3, ba4], axis = 0)"
   ]
  },
  {
   "cell_type": "code",
   "execution_count": null,
   "id": "2b7321df",
   "metadata": {},
   "outputs": [],
   "source": [
    "bonap.head()"
   ]
  },
  {
   "cell_type": "code",
   "execution_count": null,
   "id": "26bd35f5",
   "metadata": {},
   "outputs": [],
   "source": [
    "bonap.columns = ['name', 'url', 'ingredients']"
   ]
  }
 ],
 "metadata": {
  "kernelspec": {
   "display_name": "Python 3 (ipykernel)",
   "language": "python",
   "name": "python3"
  },
  "language_info": {
   "codemirror_mode": {
    "name": "ipython",
    "version": 3
   },
   "file_extension": ".py",
   "mimetype": "text/x-python",
   "name": "python",
   "nbconvert_exporter": "python",
   "pygments_lexer": "ipython3",
   "version": "3.10.6"
  }
 },
 "nbformat": 4,
 "nbformat_minor": 5
}
