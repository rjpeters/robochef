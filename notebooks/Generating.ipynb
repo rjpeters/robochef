{
 "cells": [
  {
   "cell_type": "markdown",
   "id": "e970113c",
   "metadata": {},
   "source": [
    "# Generating the final matrix "
   ]
  },
  {
   "cell_type": "code",
   "execution_count": 1,
   "id": "97f57d43",
   "metadata": {},
   "outputs": [],
   "source": [
    "import pandas as pd\n",
    "import numpy as np"
   ]
  },
  {
   "cell_type": "code",
   "execution_count": 2,
   "id": "35f913ae",
   "metadata": {},
   "outputs": [],
   "source": [
    "nyt = pd.read_csv(\"data/nyt_cleaned.csv\", sep = \"|\")"
   ]
  },
  {
   "cell_type": "code",
   "execution_count": 3,
   "id": "5d6ef803",
   "metadata": {},
   "outputs": [],
   "source": [
    "nyt.drop(columns = ['cleaned'], inplace = True)"
   ]
  },
  {
   "cell_type": "code",
   "execution_count": 4,
   "id": "d6dffaeb",
   "metadata": {},
   "outputs": [],
   "source": [
    "bonap = pd.read_csv(\"data/bonap.csv\", sep = \"|\")"
   ]
  },
  {
   "cell_type": "code",
   "execution_count": 5,
   "id": "0019240e",
   "metadata": {},
   "outputs": [],
   "source": [
    "epic = pd.read_csv(\"data/epicurious.csv\", sep = \"|\")"
   ]
  },
  {
   "cell_type": "code",
   "execution_count": 12,
   "id": "b6f6ae61",
   "metadata": {},
   "outputs": [],
   "source": [
    "allrecipes = pd.read_csv(\"data/allrecipes.csv\", sep = \"|\")"
   ]
  },
  {
   "cell_type": "code",
   "execution_count": 13,
   "id": "61194e23",
   "metadata": {},
   "outputs": [],
   "source": [
    "columns = bonap.columns"
   ]
  },
  {
   "cell_type": "code",
   "execution_count": 14,
   "id": "f6688996",
   "metadata": {},
   "outputs": [],
   "source": [
    "allrecipes.columns = columns"
   ]
  },
  {
   "cell_type": "code",
   "execution_count": 15,
   "id": "b6bbf53c",
   "metadata": {},
   "outputs": [],
   "source": [
    "df = pd.concat([nyt, bonap, epic, allrecipes], axis = 0)"
   ]
  },
  {
   "cell_type": "code",
   "execution_count": 16,
   "id": "e7cdb2da",
   "metadata": {},
   "outputs": [],
   "source": [
    "metamasterlist = pd.read_csv(\"masterlist.csv\")"
   ]
  },
  {
   "cell_type": "code",
   "execution_count": 17,
   "id": "94aa9217",
   "metadata": {
    "scrolled": false
   },
   "outputs": [],
   "source": [
    "metamasterlist.drop_duplicates(inplace = True)"
   ]
  },
  {
   "cell_type": "code",
   "execution_count": 18,
   "id": "047408f4",
   "metadata": {},
   "outputs": [],
   "source": [
    "masterlist = metamasterlist['ingredient'].to_list()"
   ]
  },
  {
   "cell_type": "code",
   "execution_count": 19,
   "id": "68231b80",
   "metadata": {},
   "outputs": [],
   "source": [
    "masterlist = sorted(masterlist, key=len, reverse = True)"
   ]
  },
  {
   "cell_type": "code",
   "execution_count": 20,
   "id": "7b421a3e",
   "metadata": {},
   "outputs": [],
   "source": [
    "# Function, copy-pasted from previous cleaning notebook\n",
    "def simplify(row):\n",
    "\n",
    "    rowresults = []\n",
    "    row = row.replace('[\\'', '\\']')\n",
    "    row = row.replace(']', '') \n",
    "    items = row.split(', ')\n",
    "    for item in items: \n",
    "        for ingredient in masterlist:\n",
    "            if ingredient in item: \n",
    "                rowresults.append(ingredient)\n",
    "                break\n",
    "    return list(set(rowresults))"
   ]
  },
  {
   "cell_type": "code",
   "execution_count": 21,
   "id": "5d3445a5",
   "metadata": {},
   "outputs": [],
   "source": [
    "df['cleaned'] = df['ingredients'].apply(simplify)"
   ]
  },
  {
   "cell_type": "code",
   "execution_count": 22,
   "id": "8295c448",
   "metadata": {},
   "outputs": [],
   "source": [
    "df.reset_index(drop=True, inplace=True)"
   ]
  },
  {
   "cell_type": "code",
   "execution_count": 23,
   "id": "6281b696",
   "metadata": {},
   "outputs": [
    {
     "data": {
      "text/html": [
       "<div>\n",
       "<style scoped>\n",
       "    .dataframe tbody tr th:only-of-type {\n",
       "        vertical-align: middle;\n",
       "    }\n",
       "\n",
       "    .dataframe tbody tr th {\n",
       "        vertical-align: top;\n",
       "    }\n",
       "\n",
       "    .dataframe thead th {\n",
       "        text-align: right;\n",
       "    }\n",
       "</style>\n",
       "<table border=\"1\" class=\"dataframe\">\n",
       "  <thead>\n",
       "    <tr style=\"text-align: right;\">\n",
       "      <th></th>\n",
       "      <th>name</th>\n",
       "      <th>url</th>\n",
       "      <th>ingredients</th>\n",
       "      <th>cleaned</th>\n",
       "    </tr>\n",
       "  </thead>\n",
       "  <tbody>\n",
       "    <tr>\n",
       "      <th>0</th>\n",
       "      <td>Harissa-Roasted Sweet Potatoes and Red Onion</td>\n",
       "      <td>https://cooking.nytimes.com/recipes/1023541-ha...</td>\n",
       "      <td>['3 medium sweet potatoes, washed and trimmed,...</td>\n",
       "      <td>[sweet potato, feta, ground cumin, lemon, hari...</td>\n",
       "    </tr>\n",
       "    <tr>\n",
       "      <th>1</th>\n",
       "      <td>Tofu and Mushroom Jorim (Soy-Braised Tofu)</td>\n",
       "      <td>https://cooking.nytimes.com/recipes/1023476-to...</td>\n",
       "      <td>['1/3 cup low-sodium soy sauce', '5 garlic clo...</td>\n",
       "      <td>[oil, soy sauce, brown sugar, kimchi, scallion...</td>\n",
       "    </tr>\n",
       "    <tr>\n",
       "      <th>2</th>\n",
       "      <td>Roasted Chicken With Crispy Mushrooms</td>\n",
       "      <td>https://cooking.nytimes.com/recipes/1023551-ro...</td>\n",
       "      <td>['2 to 2 1/4 pounds boneless, skinless chicken...</td>\n",
       "      <td>[tarragon, red onion, oyster, shiitake, chicke...</td>\n",
       "    </tr>\n",
       "    <tr>\n",
       "      <th>3</th>\n",
       "      <td>Chocolate Pumpkin Swirl Muffins</td>\n",
       "      <td>https://cooking.nytimes.com/recipes/1023565-ch...</td>\n",
       "      <td>['2 cups/256 grams all-purpose flour', '1 tabl...</td>\n",
       "      <td>[kosher salt, yogurt, baking powder, vanilla e...</td>\n",
       "    </tr>\n",
       "    <tr>\n",
       "      <th>4</th>\n",
       "      <td>Pasta e Patate (Pasta and Potato Soup)</td>\n",
       "      <td>https://cooking.nytimes.com/recipes/1023564-pa...</td>\n",
       "      <td>['1/3 cup extra-virgin olive oil', '1 large ye...</td>\n",
       "      <td>[pecorino, celery, carrot, spaghetti, rosemary...</td>\n",
       "    </tr>\n",
       "  </tbody>\n",
       "</table>\n",
       "</div>"
      ],
      "text/plain": [
       "                                           name  \\\n",
       "0  Harissa-Roasted Sweet Potatoes and Red Onion   \n",
       "1    Tofu and Mushroom Jorim (Soy-Braised Tofu)   \n",
       "2         Roasted Chicken With Crispy Mushrooms   \n",
       "3               Chocolate Pumpkin Swirl Muffins   \n",
       "4        Pasta e Patate (Pasta and Potato Soup)   \n",
       "\n",
       "                                                 url  \\\n",
       "0  https://cooking.nytimes.com/recipes/1023541-ha...   \n",
       "1  https://cooking.nytimes.com/recipes/1023476-to...   \n",
       "2  https://cooking.nytimes.com/recipes/1023551-ro...   \n",
       "3  https://cooking.nytimes.com/recipes/1023565-ch...   \n",
       "4  https://cooking.nytimes.com/recipes/1023564-pa...   \n",
       "\n",
       "                                         ingredients  \\\n",
       "0  ['3 medium sweet potatoes, washed and trimmed,...   \n",
       "1  ['1/3 cup low-sodium soy sauce', '5 garlic clo...   \n",
       "2  ['2 to 2 1/4 pounds boneless, skinless chicken...   \n",
       "3  ['2 cups/256 grams all-purpose flour', '1 tabl...   \n",
       "4  ['1/3 cup extra-virgin olive oil', '1 large ye...   \n",
       "\n",
       "                                             cleaned  \n",
       "0  [sweet potato, feta, ground cumin, lemon, hari...  \n",
       "1  [oil, soy sauce, brown sugar, kimchi, scallion...  \n",
       "2  [tarragon, red onion, oyster, shiitake, chicke...  \n",
       "3  [kosher salt, yogurt, baking powder, vanilla e...  \n",
       "4  [pecorino, celery, carrot, spaghetti, rosemary...  "
      ]
     },
     "execution_count": 23,
     "metadata": {},
     "output_type": "execute_result"
    }
   ],
   "source": [
    "df.head()"
   ]
  },
  {
   "cell_type": "code",
   "execution_count": 24,
   "id": "abb2c68b",
   "metadata": {},
   "outputs": [
    {
     "data": {
      "text/plain": [
       "(104353, 4)"
      ]
     },
     "execution_count": 24,
     "metadata": {},
     "output_type": "execute_result"
    }
   ],
   "source": [
    "df.shape"
   ]
  },
  {
   "cell_type": "code",
   "execution_count": 25,
   "id": "ad4cb6be",
   "metadata": {},
   "outputs": [
    {
     "data": {
      "text/plain": [
       "pandas.core.frame.DataFrame"
      ]
     },
     "execution_count": 25,
     "metadata": {},
     "output_type": "execute_result"
    }
   ],
   "source": [
    "type(df)"
   ]
  },
  {
   "cell_type": "code",
   "execution_count": 26,
   "id": "c2bdd0aa",
   "metadata": {},
   "outputs": [],
   "source": [
    "drop = list(df.loc[df.astype(str).duplicated()].index.values)"
   ]
  },
  {
   "cell_type": "code",
   "execution_count": 1,
   "id": "f3117287",
   "metadata": {},
   "outputs": [],
   "source": [
    "#drop"
   ]
  },
  {
   "cell_type": "code",
   "execution_count": 28,
   "id": "e5214a31",
   "metadata": {},
   "outputs": [],
   "source": [
    "df.drop(drop, axis = 0, inplace = True)"
   ]
  },
  {
   "cell_type": "code",
   "execution_count": 29,
   "id": "99fc63d0",
   "metadata": {},
   "outputs": [],
   "source": [
    "df.to_csv('df_final.csv', sep = '|', index = False)"
   ]
  },
  {
   "cell_type": "code",
   "execution_count": 30,
   "id": "0ac52a38",
   "metadata": {},
   "outputs": [
    {
     "data": {
      "text/plain": [
       "(102263, 4)"
      ]
     },
     "execution_count": 30,
     "metadata": {},
     "output_type": "execute_result"
    }
   ],
   "source": [
    "df.shape"
   ]
  },
  {
   "cell_type": "code",
   "execution_count": 31,
   "id": "943c8508",
   "metadata": {},
   "outputs": [],
   "source": [
    "biglist = []\n",
    "for i in range(len(df)):\n",
    "    smallist = []\n",
    "    for ingredient in masterlist: \n",
    "        if ingredient in df['cleaned'].iloc[i]:    \n",
    "            smallist.append(1)\n",
    "        else: \n",
    "            smallist.append(0)\n",
    "    biglist.append(smallist)"
   ]
  },
  {
   "cell_type": "code",
   "execution_count": 32,
   "id": "ff2767ae",
   "metadata": {},
   "outputs": [],
   "source": [
    "matrix = pd.DataFrame(data = biglist, columns = masterlist)"
   ]
  },
  {
   "cell_type": "code",
   "execution_count": 33,
   "id": "a2710ccc",
   "metadata": {},
   "outputs": [],
   "source": [
    "matrix.to_csv('matrix.csv', index = False)"
   ]
  },
  {
   "cell_type": "code",
   "execution_count": 34,
   "id": "5a961d8b",
   "metadata": {},
   "outputs": [],
   "source": [
    "droplist = []\n",
    "for column in matrix.columns: \n",
    "    if matrix[column].sum() == 0:\n",
    "        droplist.append(column)\n",
    "#    droplist.append([column,matrix[column].sum()])"
   ]
  },
  {
   "cell_type": "code",
   "execution_count": 35,
   "id": "0b6a108b",
   "metadata": {},
   "outputs": [
    {
     "data": {
      "text/plain": [
       "0"
      ]
     },
     "execution_count": 35,
     "metadata": {},
     "output_type": "execute_result"
    }
   ],
   "source": [
    "len(droplist)"
   ]
  },
  {
   "cell_type": "code",
   "execution_count": 36,
   "id": "c543c25e",
   "metadata": {},
   "outputs": [
    {
     "data": {
      "text/plain": [
       "[]"
      ]
     },
     "execution_count": 36,
     "metadata": {},
     "output_type": "execute_result"
    }
   ],
   "source": [
    "droplist"
   ]
  },
  {
   "cell_type": "code",
   "execution_count": 37,
   "id": "bad82e83",
   "metadata": {},
   "outputs": [],
   "source": [
    "metamasterlist = metamasterlist[~metamasterlist['ingredient'].isin(droplist)]"
   ]
  },
  {
   "cell_type": "code",
   "execution_count": 38,
   "id": "4433b155",
   "metadata": {},
   "outputs": [],
   "source": [
    "metamasterlist.reset_index(drop=True, inplace=True)"
   ]
  },
  {
   "cell_type": "code",
   "execution_count": 39,
   "id": "5b3384d0",
   "metadata": {},
   "outputs": [
    {
     "data": {
      "text/html": [
       "<div>\n",
       "<style scoped>\n",
       "    .dataframe tbody tr th:only-of-type {\n",
       "        vertical-align: middle;\n",
       "    }\n",
       "\n",
       "    .dataframe tbody tr th {\n",
       "        vertical-align: top;\n",
       "    }\n",
       "\n",
       "    .dataframe thead th {\n",
       "        text-align: right;\n",
       "    }\n",
       "</style>\n",
       "<table border=\"1\" class=\"dataframe\">\n",
       "  <thead>\n",
       "    <tr style=\"text-align: right;\">\n",
       "      <th></th>\n",
       "      <th>ingredient</th>\n",
       "      <th>meat</th>\n",
       "    </tr>\n",
       "  </thead>\n",
       "  <tbody>\n",
       "    <tr>\n",
       "      <th>0</th>\n",
       "      <td>green bean</td>\n",
       "      <td>0.0</td>\n",
       "    </tr>\n",
       "    <tr>\n",
       "      <th>1</th>\n",
       "      <td>mincemeat</td>\n",
       "      <td>1.0</td>\n",
       "    </tr>\n",
       "    <tr>\n",
       "      <th>2</th>\n",
       "      <td>beef</td>\n",
       "      <td>1.0</td>\n",
       "    </tr>\n",
       "    <tr>\n",
       "      <th>3</th>\n",
       "      <td>graham crackers</td>\n",
       "      <td>0.0</td>\n",
       "    </tr>\n",
       "    <tr>\n",
       "      <th>4</th>\n",
       "      <td>leek</td>\n",
       "      <td>0.0</td>\n",
       "    </tr>\n",
       "    <tr>\n",
       "      <th>...</th>\n",
       "      <td>...</td>\n",
       "      <td>...</td>\n",
       "    </tr>\n",
       "    <tr>\n",
       "      <th>806</th>\n",
       "      <td>lard</td>\n",
       "      <td>1.0</td>\n",
       "    </tr>\n",
       "    <tr>\n",
       "      <th>807</th>\n",
       "      <td>pear</td>\n",
       "      <td>0.0</td>\n",
       "    </tr>\n",
       "    <tr>\n",
       "      <th>808</th>\n",
       "      <td>chicken backs</td>\n",
       "      <td>1.0</td>\n",
       "    </tr>\n",
       "    <tr>\n",
       "      <th>809</th>\n",
       "      <td>salami</td>\n",
       "      <td>1.0</td>\n",
       "    </tr>\n",
       "    <tr>\n",
       "      <th>810</th>\n",
       "      <td>pepperoni</td>\n",
       "      <td>1.0</td>\n",
       "    </tr>\n",
       "  </tbody>\n",
       "</table>\n",
       "<p>811 rows × 2 columns</p>\n",
       "</div>"
      ],
      "text/plain": [
       "          ingredient   meat\n",
       "0         green bean    0.0\n",
       "1          mincemeat    1.0\n",
       "2               beef    1.0\n",
       "3    graham crackers    0.0\n",
       "4               leek    0.0\n",
       "..               ...    ...\n",
       "806             lard    1.0\n",
       "807             pear    0.0\n",
       "808    chicken backs    1.0\n",
       "809           salami    1.0\n",
       "810        pepperoni    1.0\n",
       "\n",
       "[811 rows x 2 columns]"
      ]
     },
     "execution_count": 39,
     "metadata": {},
     "output_type": "execute_result"
    }
   ],
   "source": [
    "metamasterlist"
   ]
  },
  {
   "cell_type": "code",
   "execution_count": 40,
   "id": "7352cd85",
   "metadata": {},
   "outputs": [],
   "source": [
    "metamasterlist.to_csv('masterlist.csv', index = False)"
   ]
  },
  {
   "cell_type": "code",
   "execution_count": null,
   "id": "dd22584a",
   "metadata": {},
   "outputs": [],
   "source": []
  }
 ],
 "metadata": {
  "kernelspec": {
   "display_name": "Python 3 (ipykernel)",
   "language": "python",
   "name": "python3"
  },
  "language_info": {
   "codemirror_mode": {
    "name": "ipython",
    "version": 3
   },
   "file_extension": ".py",
   "mimetype": "text/x-python",
   "name": "python",
   "nbconvert_exporter": "python",
   "pygments_lexer": "ipython3",
   "version": "3.10.6"
  }
 },
 "nbformat": 4,
 "nbformat_minor": 5
}
