{
 "cells": [
  {
   "cell_type": "markdown",
   "id": "933792d5",
   "metadata": {},
   "source": [
    "# Web scraping"
   ]
  },
  {
   "cell_type": "markdown",
   "id": "a8792045",
   "metadata": {},
   "source": [
    "### Imports"
   ]
  },
  {
   "cell_type": "code",
   "execution_count": 1,
   "id": "a9aed559",
   "metadata": {},
   "outputs": [],
   "source": [
    "import pandas as pd\n",
    "import numpy as np\n",
    "import requests\n",
    "from bs4 import BeautifulSoup\n",
    "from time import sleep\n",
    "from random import randint\n",
    "import json\n",
    "import re"
   ]
  },
  {
   "cell_type": "markdown",
   "id": "398b069c",
   "metadata": {},
   "source": [
    "I'll try to scrape recipes from the NYT website. I found the sitemap that contains links to pages with all the recipes:"
   ]
  },
  {
   "cell_type": "raw",
   "id": "d71131ee",
   "metadata": {},
   "source": [
    "sitemap: https://www.nytimes.com/sitemaps/new/cooking.xml.gz"
   ]
  },
  {
   "cell_type": "code",
   "execution_count": null,
   "id": "723f9532",
   "metadata": {},
   "outputs": [],
   "source": [
    "sitemap = requests.get('https://www.nytimes.com/sitemaps/new/cooking.xml.gz')"
   ]
  },
  {
   "cell_type": "code",
   "execution_count": null,
   "id": "6ceb9abc",
   "metadata": {},
   "outputs": [],
   "source": [
    "sitemap"
   ]
  },
  {
   "cell_type": "code",
   "execution_count": null,
   "id": "b005a2e7",
   "metadata": {},
   "outputs": [],
   "source": [
    "soup = BeautifulSoup(sitemap.content, \"html.parser\")"
   ]
  },
  {
   "cell_type": "code",
   "execution_count": null,
   "id": "583896a9",
   "metadata": {},
   "outputs": [],
   "source": [
    "pagelist = []\n",
    "for i in soup.select(\"loc\"):\n",
    "    pagelist.append(i.get_text())"
   ]
  },
  {
   "cell_type": "code",
   "execution_count": null,
   "id": "3d245f25",
   "metadata": {},
   "outputs": [],
   "source": [
    "len(pagelist)"
   ]
  },
  {
   "cell_type": "markdown",
   "id": "66eb0a0a",
   "metadata": {},
   "source": [
    "That gives me a list of pages, each of which contains links to actual recipes. Now I'll explore one of these pages, in order to find an algorithm for scraping."
   ]
  },
  {
   "cell_type": "code",
   "execution_count": null,
   "id": "d077686c",
   "metadata": {},
   "outputs": [],
   "source": [
    "pagelist[0]"
   ]
  },
  {
   "cell_type": "code",
   "execution_count": null,
   "id": "98db0942",
   "metadata": {},
   "outputs": [],
   "source": [
    "page = requests.get(pagelist[0])"
   ]
  },
  {
   "cell_type": "code",
   "execution_count": null,
   "id": "5e9f3313",
   "metadata": {},
   "outputs": [],
   "source": [
    "souppage = BeautifulSoup(page.content, \"html.parser\")"
   ]
  },
  {
   "cell_type": "code",
   "execution_count": null,
   "id": "e8b76143",
   "metadata": {},
   "outputs": [],
   "source": [
    "#souppage"
   ]
  },
  {
   "cell_type": "code",
   "execution_count": null,
   "id": "a3337c65",
   "metadata": {},
   "outputs": [],
   "source": [
    "pagelist_recipes = []\n",
    "for i in souppage.select(\"loc\"):\n",
    "    pagelist_recipes.append(i.get_text())"
   ]
  },
  {
   "cell_type": "code",
   "execution_count": null,
   "id": "fdc3e579",
   "metadata": {},
   "outputs": [],
   "source": [
    "#pagelist_recipes"
   ]
  },
  {
   "cell_type": "code",
   "execution_count": null,
   "id": "d9468485",
   "metadata": {},
   "outputs": [],
   "source": [
    "recipelist = []\n",
    "for i in pagelist:\n",
    "    page = requests.get(i)\n",
    "    soup = BeautifulSoup(page.content, \"html.parser\")\n",
    "    for i in soup.select(\"loc\"):\n",
    "        recipelist.append(i.get_text())\n",
    "    wait_time = randint(1,4000)\n",
    "    print(\"I will sleep for \" + str(wait_time/2000) + \" seconds.\")\n",
    "    sleep(wait_time/2000)"
   ]
  },
  {
   "cell_type": "code",
   "execution_count": null,
   "id": "e6f8928b",
   "metadata": {},
   "outputs": [],
   "source": [
    "len(recipelist)"
   ]
  },
  {
   "cell_type": "code",
   "execution_count": null,
   "id": "491292ba",
   "metadata": {},
   "outputs": [],
   "source": [
    "with open(\"nytimespages.txt\", \"w\") as f:\n",
    "    for line in recipelist:\n",
    "        f.write(line)\n",
    "        f.write(\"\\n\")"
   ]
  },
  {
   "cell_type": "markdown",
   "id": "79e47873",
   "metadata": {},
   "source": [
    "Now that I have that list, the million dollar question is whether the NYT website will allow me full access to the recipe pages. When you visit it in a browser, it wants you to sign up."
   ]
  },
  {
   "cell_type": "code",
   "execution_count": null,
   "id": "c03c6a28",
   "metadata": {},
   "outputs": [],
   "source": [
    "url = recipelist[0]"
   ]
  },
  {
   "cell_type": "code",
   "execution_count": null,
   "id": "61bf5cba",
   "metadata": {},
   "outputs": [],
   "source": [
    "harissa = requests.get(url)"
   ]
  },
  {
   "cell_type": "code",
   "execution_count": null,
   "id": "45195441",
   "metadata": {},
   "outputs": [],
   "source": [
    "souppage = BeautifulSoup(harissa.content, \"html.parser\")"
   ]
  },
  {
   "cell_type": "code",
   "execution_count": null,
   "id": "1eab201c",
   "metadata": {},
   "outputs": [],
   "source": [
    "data = json.loads(souppage.find('script', type='application/ld+json').text)"
   ]
  },
  {
   "cell_type": "code",
   "execution_count": null,
   "id": "ba7a9c79",
   "metadata": {
    "scrolled": false
   },
   "outputs": [],
   "source": [
    "data['recipeIngredient']"
   ]
  },
  {
   "cell_type": "markdown",
   "id": "7989df66",
   "metadata": {},
   "source": [
    "### Re-open the list of pages from the file (i.e. without scraping it again)"
   ]
  },
  {
   "cell_type": "code",
   "execution_count": 2,
   "id": "8a59df0c",
   "metadata": {},
   "outputs": [],
   "source": [
    "with open(\"nytimespages.txt\", \"r\") as file:\n",
    "    dummy = file.readlines()"
   ]
  },
  {
   "cell_type": "code",
   "execution_count": 3,
   "id": "2a938933",
   "metadata": {},
   "outputs": [],
   "source": [
    "recipelist = []\n",
    "for item in dummy:\n",
    "    recipelist.append(item.replace(\"\\n\", \"\"))"
   ]
  },
  {
   "cell_type": "code",
   "execution_count": null,
   "id": "d20e6ff0",
   "metadata": {},
   "outputs": [],
   "source": [
    "recipelist"
   ]
  },
  {
   "cell_type": "markdown",
   "id": "92c99426",
   "metadata": {},
   "source": [
    "Since I'm scraping over 20,000 pages, I will divide the list up into different batches. I define a formula here that I can use to generate different batches."
   ]
  },
  {
   "cell_type": "code",
   "execution_count": null,
   "id": "e625b3c1",
   "metadata": {},
   "outputs": [],
   "source": [
    "for page in recipelist: \n",
    "    print(recipelist.index(page))"
   ]
  },
  {
   "cell_type": "code",
   "execution_count": 4,
   "id": "e97d8ebe",
   "metadata": {},
   "outputs": [],
   "source": [
    "def getrecipe(recipeslist):\n",
    "    recipes = []\n",
    "\n",
    "    for page in recipeslist: \n",
    "        try: \n",
    "            req = requests.get(page)\n",
    "            soup = BeautifulSoup(req.content, \"html.parser\")\n",
    "            data = json.loads(soup.find('script', type='application/ld+json').text)\n",
    "            name = data['name']\n",
    "            ingredientlist = data['recipeIngredient']\n",
    "            recipes.append([name, page, ingredientlist])\n",
    "            print(f\"Done with index # {recipeslist.index(page)}\")\n",
    "           \n",
    "            # The try/except structure here has two benefits: \n",
    "            # - It guards against a patchy internet connection: It just keeps on rolling until it's back.\n",
    "            # - It will automatically skip pages that do not conform to the same json format (recipeIngredient)\n",
    "            \n",
    "        except: \n",
    "            print(\"No success, moving on.\")\n",
    "        \n",
    "        # Polite wait time\n",
    "        wait_time = randint(1,4000)\n",
    "        print(\"I will sleep for \" + str(wait_time/2000) + \" seconds.\")\n",
    "        sleep(wait_time/2000)\n",
    "        \n",
    "    return recipes"
   ]
  },
  {
   "cell_type": "code",
   "execution_count": null,
   "id": "12dcd6cf",
   "metadata": {},
   "outputs": [],
   "source": [
    "batch1 = getrecipe(recipelist[:1000])"
   ]
  },
  {
   "cell_type": "code",
   "execution_count": null,
   "id": "0b35231c",
   "metadata": {},
   "outputs": [],
   "source": [
    "batch1"
   ]
  },
  {
   "cell_type": "code",
   "execution_count": null,
   "id": "130c5e12",
   "metadata": {},
   "outputs": [],
   "source": [
    "batch2 = getrecipe(recipelist[1000:2000])"
   ]
  },
  {
   "cell_type": "code",
   "execution_count": null,
   "id": "0734f72e",
   "metadata": {},
   "outputs": [],
   "source": [
    "batch3 = getrecipe(recipelist[2000:3000])"
   ]
  },
  {
   "cell_type": "code",
   "execution_count": null,
   "id": "ff7a69fb",
   "metadata": {},
   "outputs": [],
   "source": [
    "batch4 = getrecipe(recipelist[3000:4000])"
   ]
  },
  {
   "cell_type": "code",
   "execution_count": null,
   "id": "9998a709",
   "metadata": {},
   "outputs": [],
   "source": [
    "df1 = pd.DataFrame(batch1)\n",
    "df2 = pd.DataFrame(batch2)\n",
    "df3 = pd.DataFrame(batch3)\n",
    "df4 = pd.DataFrame(batch4)"
   ]
  },
  {
   "cell_type": "code",
   "execution_count": null,
   "id": "abe0c6b1",
   "metadata": {},
   "outputs": [],
   "source": [
    "firstbunch = pd.concat([df1, df2, df3, df3], axis = 0)"
   ]
  },
  {
   "cell_type": "code",
   "execution_count": null,
   "id": "1857c5fd",
   "metadata": {},
   "outputs": [],
   "source": [
    "firstbunch.to_csv(\"firstbunch.csv\", sep = \"|\", index = False)"
   ]
  },
  {
   "cell_type": "markdown",
   "id": "6de049c1",
   "metadata": {},
   "source": [
    "### Next round"
   ]
  },
  {
   "cell_type": "code",
   "execution_count": null,
   "id": "b7c77a7a",
   "metadata": {},
   "outputs": [],
   "source": [
    "batch5 = getrecipe(recipelist[4000:7500])"
   ]
  },
  {
   "cell_type": "code",
   "execution_count": null,
   "id": "eeba4fb7",
   "metadata": {},
   "outputs": [],
   "source": [
    "%%time\n",
    "batch6 = getrecipe(recipelist[7500:10000])"
   ]
  },
  {
   "cell_type": "code",
   "execution_count": null,
   "id": "1aa377f5",
   "metadata": {},
   "outputs": [],
   "source": [
    "df5 = pd.DataFrame(batch5)\n",
    "df6 = pd.DataFrame(batch6)"
   ]
  },
  {
   "cell_type": "code",
   "execution_count": null,
   "id": "458100d8",
   "metadata": {},
   "outputs": [],
   "source": [
    "df5"
   ]
  },
  {
   "cell_type": "code",
   "execution_count": null,
   "id": "a0361161",
   "metadata": {},
   "outputs": [],
   "source": [
    "secondbunch = pd.concat([df5, df6], axis = 0)\n",
    "secondbunch.to_csv(\"secondbunch.csv\", sep = \"|\", index = False)"
   ]
  },
  {
   "cell_type": "code",
   "execution_count": null,
   "id": "fc8f7fab",
   "metadata": {},
   "outputs": [],
   "source": [
    "secondbunch"
   ]
  },
  {
   "cell_type": "code",
   "execution_count": null,
   "id": "fd8ceda2",
   "metadata": {},
   "outputs": [],
   "source": [
    "%%time\n",
    "batch7 = getrecipe(recipelist[10000:12500])"
   ]
  },
  {
   "cell_type": "code",
   "execution_count": null,
   "id": "db3990bb",
   "metadata": {},
   "outputs": [],
   "source": [
    "batch8 = getrecipe(recipelist[12500:15000])"
   ]
  },
  {
   "cell_type": "code",
   "execution_count": null,
   "id": "0bb5712c",
   "metadata": {},
   "outputs": [],
   "source": [
    "df7 = pd.DataFrame(batch7)\n",
    "df8 = pd.DataFrame(batch8)"
   ]
  },
  {
   "cell_type": "code",
   "execution_count": null,
   "id": "e4d256a1",
   "metadata": {},
   "outputs": [],
   "source": [
    "thirdbunch = pd.concat([df7, df8], axis = 0)"
   ]
  },
  {
   "cell_type": "code",
   "execution_count": null,
   "id": "13ab719e",
   "metadata": {},
   "outputs": [],
   "source": [
    "thirdbunch.to_csv(\"thirdbunch.csv\", sep = \"|\", index = False)"
   ]
  },
  {
   "cell_type": "code",
   "execution_count": null,
   "id": "12670add",
   "metadata": {},
   "outputs": [],
   "source": [
    "batch9 = getrecipe(recipelist[15000:17500])"
   ]
  },
  {
   "cell_type": "code",
   "execution_count": null,
   "id": "a2bd7b1e",
   "metadata": {},
   "outputs": [],
   "source": [
    "fourthbunch = pd.DataFrame(batch9)"
   ]
  },
  {
   "cell_type": "code",
   "execution_count": null,
   "id": "27931baf",
   "metadata": {},
   "outputs": [],
   "source": [
    "fourthbunch.to_csv(\"fourthbunch.csv\", sep = \"|\", index = False)"
   ]
  },
  {
   "cell_type": "code",
   "execution_count": null,
   "id": "91b68c88",
   "metadata": {},
   "outputs": [],
   "source": [
    "recipelist"
   ]
  },
  {
   "cell_type": "code",
   "execution_count": 1,
   "id": "2b67a99a",
   "metadata": {
    "scrolled": true
   },
   "outputs": [],
   "source": [
    "batch10 = getrecipe(recipelist[17500:])\n",
    "fifthbunch = pd.DataFrame(batch10)\n",
    "fifthbunch.to_csv(\"fifthbunch.csv\", sep = \"|\", index = False)"
   ]
  },
  {
   "cell_type": "code",
   "execution_count": 3,
   "id": "531453ef",
   "metadata": {},
   "outputs": [],
   "source": [
    "first = pd.read_csv(\"firstbunch.csv\", sep = '|')\n",
    "second = pd.read_csv(\"secondbunch.csv\", sep = '|')\n",
    "third = pd.read_csv(\"thirdbunch.csv\", sep = '|')\n",
    "fourth = pd.read_csv(\"fourthbunch.csv\", sep = '|')\n",
    "fifth = pd.read_csv(\"fifthbunch.csv\", sep = '|')"
   ]
  },
  {
   "cell_type": "code",
   "execution_count": 10,
   "id": "368d25ee",
   "metadata": {},
   "outputs": [],
   "source": [
    "nyt = pd.concat([first, second, third, fourth, fifth], axis = 0)"
   ]
  },
  {
   "cell_type": "code",
   "execution_count": 12,
   "id": "88171196",
   "metadata": {},
   "outputs": [
    {
     "data": {
      "text/plain": [
       "0    0\n",
       "1    0\n",
       "2    0\n",
       "dtype: int64"
      ]
     },
     "execution_count": 12,
     "metadata": {},
     "output_type": "execute_result"
    }
   ],
   "source": [
    "nyt.isna().sum()"
   ]
  },
  {
   "cell_type": "code",
   "execution_count": 13,
   "id": "1167e895",
   "metadata": {},
   "outputs": [],
   "source": [
    "nyt = nyt.reset_index(drop = True)"
   ]
  },
  {
   "cell_type": "code",
   "execution_count": 19,
   "id": "007d3a1d",
   "metadata": {},
   "outputs": [
    {
     "data": {
      "text/plain": [
       "\"['3 medium sweet potatoes, washed and trimmed, (about 1 1/2 pounds)', '3 medium red onions, peeled and trimmed (about 1 pound)', '2 tablespoons extra-virgin olive oil', '2 tablespoons harissa paste, plus more for serving', '1 teaspoon ground cumin', 'Kosher salt and black pepper', '1/2 lemon', '3 ounces feta, crumbled (optional)', 'Handful of cilantro or mint leaves']\""
      ]
     },
     "execution_count": 19,
     "metadata": {},
     "output_type": "execute_result"
    }
   ],
   "source": [
    "nyt['2'][0]"
   ]
  },
  {
   "cell_type": "code",
   "execution_count": 20,
   "id": "420e9d52",
   "metadata": {},
   "outputs": [],
   "source": [
    "nyt.columns = ['name', 'url', 'ingredients']"
   ]
  },
  {
   "cell_type": "code",
   "execution_count": 21,
   "id": "a58c884e",
   "metadata": {},
   "outputs": [
    {
     "data": {
      "text/html": [
       "<div>\n",
       "<style scoped>\n",
       "    .dataframe tbody tr th:only-of-type {\n",
       "        vertical-align: middle;\n",
       "    }\n",
       "\n",
       "    .dataframe tbody tr th {\n",
       "        vertical-align: top;\n",
       "    }\n",
       "\n",
       "    .dataframe thead th {\n",
       "        text-align: right;\n",
       "    }\n",
       "</style>\n",
       "<table border=\"1\" class=\"dataframe\">\n",
       "  <thead>\n",
       "    <tr style=\"text-align: right;\">\n",
       "      <th></th>\n",
       "      <th>name</th>\n",
       "      <th>url</th>\n",
       "      <th>ingredients</th>\n",
       "    </tr>\n",
       "  </thead>\n",
       "  <tbody>\n",
       "    <tr>\n",
       "      <th>0</th>\n",
       "      <td>Harissa-Roasted Sweet Potatoes and Red Onion</td>\n",
       "      <td>https://cooking.nytimes.com/recipes/1023541-ha...</td>\n",
       "      <td>['3 medium sweet potatoes, washed and trimmed,...</td>\n",
       "    </tr>\n",
       "    <tr>\n",
       "      <th>1</th>\n",
       "      <td>Tofu and Mushroom Jorim (Soy-Braised Tofu)</td>\n",
       "      <td>https://cooking.nytimes.com/recipes/1023476-to...</td>\n",
       "      <td>['1/3 cup low-sodium soy sauce', '5 garlic clo...</td>\n",
       "    </tr>\n",
       "    <tr>\n",
       "      <th>2</th>\n",
       "      <td>Roasted Chicken With Crispy Mushrooms</td>\n",
       "      <td>https://cooking.nytimes.com/recipes/1023551-ro...</td>\n",
       "      <td>['2 to 2 1/4 pounds boneless, skinless chicken...</td>\n",
       "    </tr>\n",
       "    <tr>\n",
       "      <th>3</th>\n",
       "      <td>Chocolate Pumpkin Swirl Muffins</td>\n",
       "      <td>https://cooking.nytimes.com/recipes/1023565-ch...</td>\n",
       "      <td>['2 cups/256 grams all-purpose flour', '1 tabl...</td>\n",
       "    </tr>\n",
       "    <tr>\n",
       "      <th>4</th>\n",
       "      <td>Pasta e Patate (Pasta and Potato Soup)</td>\n",
       "      <td>https://cooking.nytimes.com/recipes/1023564-pa...</td>\n",
       "      <td>['1/3 cup extra-virgin olive oil', '1 large ye...</td>\n",
       "    </tr>\n",
       "    <tr>\n",
       "      <th>...</th>\n",
       "      <td>...</td>\n",
       "      <td>...</td>\n",
       "      <td>...</td>\n",
       "    </tr>\n",
       "    <tr>\n",
       "      <th>22070</th>\n",
       "      <td>Mushrooms in Marsala Wine (Funghi Alla Marsala)</td>\n",
       "      <td>https://cooking.nytimes.com/recipes/31-mushroo...</td>\n",
       "      <td>['1 ounce dried mushrooms, preferably imported...</td>\n",
       "    </tr>\n",
       "    <tr>\n",
       "      <th>22071</th>\n",
       "      <td>Veal Scaloppine With Mushrooms Bordelaise</td>\n",
       "      <td>https://cooking.nytimes.com/recipes/30-veal-sc...</td>\n",
       "      <td>['12 slices veal scaloppine, about 1 1/4 pound...</td>\n",
       "    </tr>\n",
       "    <tr>\n",
       "      <th>22072</th>\n",
       "      <td>Mushroom and Meat Loaf</td>\n",
       "      <td>https://cooking.nytimes.com/recipes/28-mushroo...</td>\n",
       "      <td>['1/2 pound mushrooms', '1 tablespoon butter',...</td>\n",
       "    </tr>\n",
       "    <tr>\n",
       "      <th>22073</th>\n",
       "      <td>Mushroom and Pepper Salad</td>\n",
       "      <td>https://cooking.nytimes.com/recipes/29-mushroo...</td>\n",
       "      <td>['1 large sweet red pepper, about 1/2 pound', ...</td>\n",
       "    </tr>\n",
       "    <tr>\n",
       "      <th>22074</th>\n",
       "      <td>Stuffed Mushrooms</td>\n",
       "      <td>https://cooking.nytimes.com/recipes/27-stuffed...</td>\n",
       "      <td>['1 1/4 pounds mushrooms', '4 tablespoons butt...</td>\n",
       "    </tr>\n",
       "  </tbody>\n",
       "</table>\n",
       "<p>22075 rows × 3 columns</p>\n",
       "</div>"
      ],
      "text/plain": [
       "                                                  name  \\\n",
       "0         Harissa-Roasted Sweet Potatoes and Red Onion   \n",
       "1           Tofu and Mushroom Jorim (Soy-Braised Tofu)   \n",
       "2                Roasted Chicken With Crispy Mushrooms   \n",
       "3                      Chocolate Pumpkin Swirl Muffins   \n",
       "4               Pasta e Patate (Pasta and Potato Soup)   \n",
       "...                                                ...   \n",
       "22070  Mushrooms in Marsala Wine (Funghi Alla Marsala)   \n",
       "22071        Veal Scaloppine With Mushrooms Bordelaise   \n",
       "22072                           Mushroom and Meat Loaf   \n",
       "22073                        Mushroom and Pepper Salad   \n",
       "22074                                Stuffed Mushrooms   \n",
       "\n",
       "                                                     url  \\\n",
       "0      https://cooking.nytimes.com/recipes/1023541-ha...   \n",
       "1      https://cooking.nytimes.com/recipes/1023476-to...   \n",
       "2      https://cooking.nytimes.com/recipes/1023551-ro...   \n",
       "3      https://cooking.nytimes.com/recipes/1023565-ch...   \n",
       "4      https://cooking.nytimes.com/recipes/1023564-pa...   \n",
       "...                                                  ...   \n",
       "22070  https://cooking.nytimes.com/recipes/31-mushroo...   \n",
       "22071  https://cooking.nytimes.com/recipes/30-veal-sc...   \n",
       "22072  https://cooking.nytimes.com/recipes/28-mushroo...   \n",
       "22073  https://cooking.nytimes.com/recipes/29-mushroo...   \n",
       "22074  https://cooking.nytimes.com/recipes/27-stuffed...   \n",
       "\n",
       "                                             ingredients  \n",
       "0      ['3 medium sweet potatoes, washed and trimmed,...  \n",
       "1      ['1/3 cup low-sodium soy sauce', '5 garlic clo...  \n",
       "2      ['2 to 2 1/4 pounds boneless, skinless chicken...  \n",
       "3      ['2 cups/256 grams all-purpose flour', '1 tabl...  \n",
       "4      ['1/3 cup extra-virgin olive oil', '1 large ye...  \n",
       "...                                                  ...  \n",
       "22070  ['1 ounce dried mushrooms, preferably imported...  \n",
       "22071  ['12 slices veal scaloppine, about 1 1/4 pound...  \n",
       "22072  ['1/2 pound mushrooms', '1 tablespoon butter',...  \n",
       "22073  ['1 large sweet red pepper, about 1/2 pound', ...  \n",
       "22074  ['1 1/4 pounds mushrooms', '4 tablespoons butt...  \n",
       "\n",
       "[22075 rows x 3 columns]"
      ]
     },
     "execution_count": 21,
     "metadata": {},
     "output_type": "execute_result"
    }
   ],
   "source": [
    "nyt"
   ]
  },
  {
   "cell_type": "code",
   "execution_count": 22,
   "id": "7ed393ac",
   "metadata": {},
   "outputs": [],
   "source": [
    "nyt.to_csv('nyt.csv', sep = '|', index = False)"
   ]
  }
 ],
 "metadata": {
  "kernelspec": {
   "display_name": "Python 3 (ipykernel)",
   "language": "python",
   "name": "python3"
  },
  "language_info": {
   "codemirror_mode": {
    "name": "ipython",
    "version": 3
   },
   "file_extension": ".py",
   "mimetype": "text/x-python",
   "name": "python",
   "nbconvert_exporter": "python",
   "pygments_lexer": "ipython3",
   "version": "3.10.6"
  }
 },
 "nbformat": 4,
 "nbformat_minor": 5
}
