{
 "cells": [
  {
   "cell_type": "markdown",
   "id": "3ee18a19",
   "metadata": {},
   "source": [
    "# Cleaning the dataset from Kaggle"
   ]
  },
  {
   "cell_type": "code",
   "execution_count": 1,
   "id": "5951aeef",
   "metadata": {},
   "outputs": [],
   "source": [
    "import pandas as pd\n",
    "import numpy as np\n",
    "import re\n",
    "import random\n",
    "import requests\n",
    "import json\n",
    "from nltk.probability import FreqDist"
   ]
  },
  {
   "cell_type": "code",
   "execution_count": 259,
   "id": "725c5898",
   "metadata": {},
   "outputs": [],
   "source": [
    "data = pd.read_csv('kagglerecipes/RAW_recipes.csv')"
   ]
  },
  {
   "cell_type": "code",
   "execution_count": 260,
   "id": "e490db69",
   "metadata": {},
   "outputs": [],
   "source": [
    "data = data[['name', 'id', 'ingredients']]"
   ]
  },
  {
   "cell_type": "code",
   "execution_count": 261,
   "id": "a59a7d04",
   "metadata": {},
   "outputs": [
    {
     "data": {
      "text/html": [
       "<div>\n",
       "<style scoped>\n",
       "    .dataframe tbody tr th:only-of-type {\n",
       "        vertical-align: middle;\n",
       "    }\n",
       "\n",
       "    .dataframe tbody tr th {\n",
       "        vertical-align: top;\n",
       "    }\n",
       "\n",
       "    .dataframe thead th {\n",
       "        text-align: right;\n",
       "    }\n",
       "</style>\n",
       "<table border=\"1\" class=\"dataframe\">\n",
       "  <thead>\n",
       "    <tr style=\"text-align: right;\">\n",
       "      <th></th>\n",
       "      <th>name</th>\n",
       "      <th>id</th>\n",
       "      <th>ingredients</th>\n",
       "    </tr>\n",
       "  </thead>\n",
       "  <tbody>\n",
       "    <tr>\n",
       "      <th>0</th>\n",
       "      <td>arriba   baked winter squash mexican style</td>\n",
       "      <td>137739</td>\n",
       "      <td>['winter squash', 'mexican seasoning', 'mixed ...</td>\n",
       "    </tr>\n",
       "    <tr>\n",
       "      <th>1</th>\n",
       "      <td>a bit different  breakfast pizza</td>\n",
       "      <td>31490</td>\n",
       "      <td>['prepared pizza crust', 'sausage patty', 'egg...</td>\n",
       "    </tr>\n",
       "    <tr>\n",
       "      <th>2</th>\n",
       "      <td>all in the kitchen  chili</td>\n",
       "      <td>112140</td>\n",
       "      <td>['ground beef', 'yellow onions', 'diced tomato...</td>\n",
       "    </tr>\n",
       "    <tr>\n",
       "      <th>3</th>\n",
       "      <td>alouette  potatoes</td>\n",
       "      <td>59389</td>\n",
       "      <td>['spreadable cheese with garlic and herbs', 'n...</td>\n",
       "    </tr>\n",
       "    <tr>\n",
       "      <th>4</th>\n",
       "      <td>amish  tomato ketchup  for canning</td>\n",
       "      <td>44061</td>\n",
       "      <td>['tomato juice', 'apple cider vinegar', 'sugar...</td>\n",
       "    </tr>\n",
       "    <tr>\n",
       "      <th>...</th>\n",
       "      <td>...</td>\n",
       "      <td>...</td>\n",
       "      <td>...</td>\n",
       "    </tr>\n",
       "    <tr>\n",
       "      <th>231632</th>\n",
       "      <td>zydeco soup</td>\n",
       "      <td>486161</td>\n",
       "      <td>['celery', 'onion', 'green sweet pepper', 'gar...</td>\n",
       "    </tr>\n",
       "    <tr>\n",
       "      <th>231633</th>\n",
       "      <td>zydeco spice mix</td>\n",
       "      <td>493372</td>\n",
       "      <td>['paprika', 'salt', 'garlic powder', 'onion po...</td>\n",
       "    </tr>\n",
       "    <tr>\n",
       "      <th>231634</th>\n",
       "      <td>zydeco ya ya deviled eggs</td>\n",
       "      <td>308080</td>\n",
       "      <td>['hard-cooked eggs', 'mayonnaise', 'dijon must...</td>\n",
       "    </tr>\n",
       "    <tr>\n",
       "      <th>231635</th>\n",
       "      <td>cookies by design   cookies on a stick</td>\n",
       "      <td>298512</td>\n",
       "      <td>['butter', 'eagle brand condensed milk', 'ligh...</td>\n",
       "    </tr>\n",
       "    <tr>\n",
       "      <th>231636</th>\n",
       "      <td>cookies by design   sugar shortbread cookies</td>\n",
       "      <td>298509</td>\n",
       "      <td>['granulated sugar', 'shortening', 'eggs', 'fl...</td>\n",
       "    </tr>\n",
       "  </tbody>\n",
       "</table>\n",
       "<p>231637 rows × 3 columns</p>\n",
       "</div>"
      ],
      "text/plain": [
       "                                                name      id  \\\n",
       "0         arriba   baked winter squash mexican style  137739   \n",
       "1                   a bit different  breakfast pizza   31490   \n",
       "2                          all in the kitchen  chili  112140   \n",
       "3                                 alouette  potatoes   59389   \n",
       "4                 amish  tomato ketchup  for canning   44061   \n",
       "...                                              ...     ...   \n",
       "231632                                   zydeco soup  486161   \n",
       "231633                              zydeco spice mix  493372   \n",
       "231634                     zydeco ya ya deviled eggs  308080   \n",
       "231635        cookies by design   cookies on a stick  298512   \n",
       "231636  cookies by design   sugar shortbread cookies  298509   \n",
       "\n",
       "                                              ingredients  \n",
       "0       ['winter squash', 'mexican seasoning', 'mixed ...  \n",
       "1       ['prepared pizza crust', 'sausage patty', 'egg...  \n",
       "2       ['ground beef', 'yellow onions', 'diced tomato...  \n",
       "3       ['spreadable cheese with garlic and herbs', 'n...  \n",
       "4       ['tomato juice', 'apple cider vinegar', 'sugar...  \n",
       "...                                                   ...  \n",
       "231632  ['celery', 'onion', 'green sweet pepper', 'gar...  \n",
       "231633  ['paprika', 'salt', 'garlic powder', 'onion po...  \n",
       "231634  ['hard-cooked eggs', 'mayonnaise', 'dijon must...  \n",
       "231635  ['butter', 'eagle brand condensed milk', 'ligh...  \n",
       "231636  ['granulated sugar', 'shortening', 'eggs', 'fl...  \n",
       "\n",
       "[231637 rows x 3 columns]"
      ]
     },
     "execution_count": 261,
     "metadata": {},
     "output_type": "execute_result"
    }
   ],
   "source": [
    "data"
   ]
  },
  {
   "cell_type": "code",
   "execution_count": 7,
   "id": "53f22cad",
   "metadata": {},
   "outputs": [],
   "source": [
    "# I will extract a list of ingredients (just to see how many I end up with)"
   ]
  },
  {
   "cell_type": "code",
   "execution_count": 8,
   "id": "63e83af4",
   "metadata": {},
   "outputs": [],
   "source": [
    "ingredients = []\n",
    "for row in data['ingredients']:\n",
    "    row = row.replace('[\\'', '\\']')\n",
    "    row = row.replace(']', '') \n",
    "    items = row.split(', ')\n",
    "    for item in items: \n",
    "        ingredients.append(item.replace('\\'', ''))"
   ]
  },
  {
   "cell_type": "code",
   "execution_count": 9,
   "id": "54587fb3",
   "metadata": {},
   "outputs": [
    {
     "data": {
      "text/plain": [
       "2103719"
      ]
     },
     "execution_count": 9,
     "metadata": {},
     "output_type": "execute_result"
    }
   ],
   "source": [
    "len(ingredients)"
   ]
  },
  {
   "cell_type": "code",
   "execution_count": 10,
   "id": "22505ed6",
   "metadata": {},
   "outputs": [],
   "source": [
    "# Converting to set to get unique values\n",
    "ingr_set = set(ingredients)"
   ]
  },
  {
   "cell_type": "code",
   "execution_count": 11,
   "id": "8bdcc7a8",
   "metadata": {},
   "outputs": [
    {
     "data": {
      "text/plain": [
       "14968"
      ]
     },
     "execution_count": 11,
     "metadata": {},
     "output_type": "execute_result"
    }
   ],
   "source": [
    "len(ingr_set)"
   ]
  },
  {
   "cell_type": "code",
   "execution_count": 12,
   "id": "c49b60cc",
   "metadata": {},
   "outputs": [],
   "source": [
    "#print(ingr_set)"
   ]
  },
  {
   "cell_type": "markdown",
   "id": "4a430e9b",
   "metadata": {},
   "source": [
    "I need to pare this down a bit. I'll try to cut off at least those ingredients that only occur once."
   ]
  },
  {
   "cell_type": "code",
   "execution_count": 13,
   "id": "b60d6431",
   "metadata": {},
   "outputs": [],
   "source": [
    "frequencies = FreqDist(ingredients)"
   ]
  },
  {
   "cell_type": "code",
   "execution_count": 14,
   "id": "5ce30874",
   "metadata": {},
   "outputs": [
    {
     "data": {
      "text/plain": [
       "FreqDist({'salt': 85746, 'butter': 54975, 'sugar': 44535, 'onion': 39065, 'water': 34914, 'eggs': 33761, 'olive oil': 32822, 'flour': 26266, 'milk': 25786, 'garlic cloves': 25748, ...})"
      ]
     },
     "execution_count": 14,
     "metadata": {},
     "output_type": "execute_result"
    }
   ],
   "source": [
    "frequencies"
   ]
  },
  {
   "cell_type": "code",
   "execution_count": 15,
   "id": "e2c7131b",
   "metadata": {},
   "outputs": [
    {
     "data": {
      "text/plain": [
       "14968"
      ]
     },
     "execution_count": 15,
     "metadata": {},
     "output_type": "execute_result"
    }
   ],
   "source": [
    "len(frequencies)"
   ]
  },
  {
   "cell_type": "code",
   "execution_count": 16,
   "id": "b56a5c27",
   "metadata": {},
   "outputs": [],
   "source": [
    "frequencies = dict(frequencies)"
   ]
  },
  {
   "cell_type": "code",
   "execution_count": 17,
   "id": "00647adf",
   "metadata": {},
   "outputs": [],
   "source": [
    "frequencies = sorted(frequencies.items(), key=lambda item: item[1], reverse = True)"
   ]
  },
  {
   "cell_type": "code",
   "execution_count": 1,
   "id": "0823d47e",
   "metadata": {},
   "outputs": [],
   "source": [
    "#frequencies"
   ]
  },
  {
   "cell_type": "markdown",
   "id": "cc99ea2c",
   "metadata": {},
   "source": [
    "The BIG problem here is that you get different descriptors for the same thing. I want to treat 'chunky peanut butter' as identical to 'peanut butter', 'cauliflower florets' as identical to 'cauliflower'."
   ]
  },
  {
   "cell_type": "markdown",
   "id": "f59ff4c8",
   "metadata": {},
   "source": [
    "But this is hard to automate. The obvious option would be overly restrictive:\n",
    "- Reduce all longer entries whose substrings are separate entries to that separate entry. E.g. 'peanut butter' is in the list, as is 'chunky peanut butter', so remove 'chunky peanut butter'. BUT this would reduce 'olive oil' to 'oil', 'coconut milk' to 'milk', and 'cream cheese' to 'cheese'. \n",
    "- But it might help if I only remove *one* word at a time, rather than reducing everything all the way down right away. "
   ]
  },
  {
   "cell_type": "markdown",
   "id": "261812c5",
   "metadata": {},
   "source": [
    "# Simplify list of ingredients"
   ]
  },
  {
   "cell_type": "markdown",
   "id": "a23ea86d",
   "metadata": {},
   "source": [
    "## First attempt: using the API from theMealDB"
   ]
  },
  {
   "cell_type": "markdown",
   "id": "696326e9",
   "metadata": {},
   "source": [
    "theMealDB (www.themealdb.com) has a nicely organized list of 'basic' ingredients (a total of 574). However, this list is based on 'only' 284 recipes, so there's a good chance that I will miss some (or many) of the ingredients in my bigger dataset. That is the main thing that I need to test here."
   ]
  },
  {
   "cell_type": "markdown",
   "id": "591dfbfb",
   "metadata": {},
   "source": [
    "### First extract the list of ingredients"
   ]
  },
  {
   "cell_type": "code",
   "execution_count": 3,
   "id": "bfa87bcd",
   "metadata": {},
   "outputs": [],
   "source": [
    "url = 'https://www.themealdb.com/api/json/v1/1/list.php?i=list'"
   ]
  },
  {
   "cell_type": "code",
   "execution_count": 4,
   "id": "f0b0f770",
   "metadata": {},
   "outputs": [],
   "source": [
    "page = requests.get(url)"
   ]
  },
  {
   "cell_type": "code",
   "execution_count": 5,
   "id": "5a22abee",
   "metadata": {},
   "outputs": [],
   "source": [
    "content = page.content"
   ]
  },
  {
   "cell_type": "code",
   "execution_count": 6,
   "id": "ff3ddf31",
   "metadata": {},
   "outputs": [],
   "source": [
    "jsoncontent = json.loads(content)"
   ]
  },
  {
   "cell_type": "code",
   "execution_count": 7,
   "id": "9145dc7c",
   "metadata": {},
   "outputs": [],
   "source": [
    "ingredientlist = []\n",
    "for item in jsoncontent['meals']:\n",
    "    ingredientlist.append(item['strIngredient'].lower())"
   ]
  },
  {
   "cell_type": "code",
   "execution_count": 2,
   "id": "463d30f3",
   "metadata": {},
   "outputs": [],
   "source": [
    "#ingredientlist"
   ]
  },
  {
   "cell_type": "markdown",
   "id": "8b702054",
   "metadata": {},
   "source": [
    "This list is a little messy (e.g. 'basil' / 'basil leaves', 'bay leaf' / 'bay leaves'), but much more manageable.\n",
    "Before I start pruning this out by hand, though, I'll check how much I would lose if I were to just use this version of the list as a criterion."
   ]
  },
  {
   "cell_type": "code",
   "execution_count": 9,
   "id": "dd637f36",
   "metadata": {},
   "outputs": [
    {
     "ename": "NameError",
     "evalue": "name 'ingredients' is not defined",
     "output_type": "error",
     "traceback": [
      "\u001b[0;31m---------------------------------------------------------------------------\u001b[0m",
      "\u001b[0;31mNameError\u001b[0m                                 Traceback (most recent call last)",
      "File \u001b[0;32m<timed exec>:4\u001b[0m, in \u001b[0;36m<module>\u001b[0;34m\u001b[0m\n",
      "\u001b[0;31mNameError\u001b[0m: name 'ingredients' is not defined"
     ]
    }
   ],
   "source": [
    "%%time\n",
    "\n",
    "newlist = []\n",
    "notincluded = []\n",
    "for listingredient in ingredientlist:\n",
    "    for item in ingredients:\n",
    "        if ingredient in item:\n",
    "            newlist.append(ingredient)\n",
    "        else:  \n",
    "            notincluded.append(item)"
   ]
  },
  {
   "cell_type": "code",
   "execution_count": 88,
   "id": "3595b752",
   "metadata": {},
   "outputs": [
    {
     "data": {
      "text/plain": [
       "1207534706"
      ]
     },
     "execution_count": 88,
     "metadata": {},
     "output_type": "execute_result"
    }
   ],
   "source": [
    "(len(ingredientlist) * len(ingredients)) "
   ]
  },
  {
   "cell_type": "code",
   "execution_count": 77,
   "id": "01492029",
   "metadata": {},
   "outputs": [
    {
     "data": {
      "text/plain": [
       "1204924488"
      ]
     },
     "execution_count": 77,
     "metadata": {},
     "output_type": "execute_result"
    }
   ],
   "source": [
    "len(notincluded)"
   ]
  },
  {
   "cell_type": "code",
   "execution_count": 75,
   "id": "0aad4b0b",
   "metadata": {
    "scrolled": false
   },
   "outputs": [
    {
     "data": {
      "text/plain": [
       "2610218"
      ]
     },
     "execution_count": 75,
     "metadata": {},
     "output_type": "execute_result"
    }
   ],
   "source": [
    "len(newlist)"
   ]
  },
  {
   "cell_type": "code",
   "execution_count": 87,
   "id": "ef28b2c7",
   "metadata": {},
   "outputs": [
    {
     "data": {
      "text/plain": [
       "2103719"
      ]
     },
     "execution_count": 87,
     "metadata": {},
     "output_type": "execute_result"
    }
   ],
   "source": [
    "len(ingredients)"
   ]
  },
  {
   "cell_type": "code",
   "execution_count": 76,
   "id": "71e1f9ba",
   "metadata": {},
   "outputs": [
    {
     "data": {
      "text/plain": [
       "14968"
      ]
     },
     "execution_count": 76,
     "metadata": {},
     "output_type": "execute_result"
    }
   ],
   "source": [
    "len(set(notincluded))"
   ]
  },
  {
   "cell_type": "code",
   "execution_count": 67,
   "id": "016a70d9",
   "metadata": {
    "scrolled": true
   },
   "outputs": [
    {
     "data": {
      "text/plain": [
       "14968"
      ]
     },
     "execution_count": 67,
     "metadata": {},
     "output_type": "execute_result"
    }
   ],
   "source": [
    "len(set(ingredients))"
   ]
  },
  {
   "cell_type": "markdown",
   "id": "e722354a",
   "metadata": {},
   "source": [
    "Uhhhhhh..."
   ]
  },
  {
   "cell_type": "code",
   "execution_count": null,
   "id": "f6bc59b3",
   "metadata": {},
   "outputs": [],
   "source": [
    "# I'll just move on and see what this would do to the dataframe..."
   ]
  },
  {
   "cell_type": "code",
   "execution_count": 89,
   "id": "6d796f6d",
   "metadata": {},
   "outputs": [],
   "source": [
    "def simplify(row):\n",
    "\n",
    "    rowresults = []\n",
    "    row = row.replace('[\\'', '\\']')\n",
    "    row = row.replace(']', '') \n",
    "    items = row.split(', ')\n",
    "    for item in items: \n",
    "        for ingredient in ingredientlist:\n",
    "            if ingredient in item: \n",
    "                rowresults.append(ingredient)\n",
    "    return rowresults"
   ]
  },
  {
   "cell_type": "code",
   "execution_count": 90,
   "id": "8e67f150",
   "metadata": {},
   "outputs": [],
   "source": [
    "data['newcolumn'] = data['ingredients']"
   ]
  },
  {
   "cell_type": "code",
   "execution_count": 94,
   "id": "b29d8865",
   "metadata": {},
   "outputs": [],
   "source": [
    "data['newcolumn'] = data['newcolumn'].apply(simplify)"
   ]
  },
  {
   "cell_type": "code",
   "execution_count": 95,
   "id": "2779fbd6",
   "metadata": {},
   "outputs": [
    {
     "data": {
      "text/html": [
       "<div>\n",
       "<style scoped>\n",
       "    .dataframe tbody tr th:only-of-type {\n",
       "        vertical-align: middle;\n",
       "    }\n",
       "\n",
       "    .dataframe tbody tr th {\n",
       "        vertical-align: top;\n",
       "    }\n",
       "\n",
       "    .dataframe thead th {\n",
       "        text-align: right;\n",
       "    }\n",
       "</style>\n",
       "<table border=\"1\" class=\"dataframe\">\n",
       "  <thead>\n",
       "    <tr style=\"text-align: right;\">\n",
       "      <th></th>\n",
       "      <th>name</th>\n",
       "      <th>id</th>\n",
       "      <th>ingredients</th>\n",
       "      <th>newcolumn</th>\n",
       "    </tr>\n",
       "  </thead>\n",
       "  <tbody>\n",
       "    <tr>\n",
       "      <th>0</th>\n",
       "      <td>arriba   baked winter squash mexican style</td>\n",
       "      <td>137739</td>\n",
       "      <td>['winter squash', 'mexican seasoning', 'mixed ...</td>\n",
       "      <td>[squash, mixed spice, honey, butter, oil, oliv...</td>\n",
       "    </tr>\n",
       "    <tr>\n",
       "      <th>1</th>\n",
       "      <td>a bit different  breakfast pizza</td>\n",
       "      <td>31490</td>\n",
       "      <td>['prepared pizza crust', 'sausage patty', 'egg...</td>\n",
       "      <td>[sage, eggs, egg, milk, pepper, salt, cheese]</td>\n",
       "    </tr>\n",
       "    <tr>\n",
       "      <th>2</th>\n",
       "      <td>all in the kitchen  chili</td>\n",
       "      <td>112140</td>\n",
       "      <td>['ground beef', 'yellow onions', 'diced tomato...</td>\n",
       "      <td>[beef, ground beef, onions, onion, yellow onio...</td>\n",
       "    </tr>\n",
       "    <tr>\n",
       "      <th>3</th>\n",
       "      <td>alouette  potatoes</td>\n",
       "      <td>59389</td>\n",
       "      <td>['spreadable cheese with garlic and herbs', 'n...</td>\n",
       "      <td>[cheese, garlic, potatoes, shallots, parsley, ...</td>\n",
       "    </tr>\n",
       "    <tr>\n",
       "      <th>4</th>\n",
       "      <td>amish  tomato ketchup  for canning</td>\n",
       "      <td>44061</td>\n",
       "      <td>['tomato juice', 'apple cider vinegar', 'sugar...</td>\n",
       "      <td>[tomato, apple cider vinegar, vinegar, cider, ...</td>\n",
       "    </tr>\n",
       "    <tr>\n",
       "      <th>...</th>\n",
       "      <td>...</td>\n",
       "      <td>...</td>\n",
       "      <td>...</td>\n",
       "      <td>...</td>\n",
       "    </tr>\n",
       "    <tr>\n",
       "      <th>231632</th>\n",
       "      <td>zydeco soup</td>\n",
       "      <td>486161</td>\n",
       "      <td>['celery', 'onion', 'green sweet pepper', 'gar...</td>\n",
       "      <td>[celery, onion, pepper, cloves, garlic, garlic...</td>\n",
       "    </tr>\n",
       "    <tr>\n",
       "      <th>231633</th>\n",
       "      <td>zydeco spice mix</td>\n",
       "      <td>493372</td>\n",
       "      <td>['paprika', 'salt', 'garlic powder', 'onion po...</td>\n",
       "      <td>[paprika, salt, garlic, garlic powder, onion, ...</td>\n",
       "    </tr>\n",
       "    <tr>\n",
       "      <th>231634</th>\n",
       "      <td>zydeco ya ya deviled eggs</td>\n",
       "      <td>308080</td>\n",
       "      <td>['hard-cooked eggs', 'mayonnaise', 'dijon must...</td>\n",
       "      <td>[eggs, egg, mayonnaise, mustard, dijon mustard...</td>\n",
       "    </tr>\n",
       "    <tr>\n",
       "      <th>231635</th>\n",
       "      <td>cookies by design   cookies on a stick</td>\n",
       "      <td>298512</td>\n",
       "      <td>['butter', 'eagle brand condensed milk', 'ligh...</td>\n",
       "      <td>[butter, condensed milk, milk, brown sugar, su...</td>\n",
       "    </tr>\n",
       "    <tr>\n",
       "      <th>231636</th>\n",
       "      <td>cookies by design   sugar shortbread cookies</td>\n",
       "      <td>298509</td>\n",
       "      <td>['granulated sugar', 'shortening', 'eggs', 'fl...</td>\n",
       "      <td>[granulated sugar, sugar, shortening, eggs, eg...</td>\n",
       "    </tr>\n",
       "  </tbody>\n",
       "</table>\n",
       "<p>231637 rows × 4 columns</p>\n",
       "</div>"
      ],
      "text/plain": [
       "                                                name      id  \\\n",
       "0         arriba   baked winter squash mexican style  137739   \n",
       "1                   a bit different  breakfast pizza   31490   \n",
       "2                          all in the kitchen  chili  112140   \n",
       "3                                 alouette  potatoes   59389   \n",
       "4                 amish  tomato ketchup  for canning   44061   \n",
       "...                                              ...     ...   \n",
       "231632                                   zydeco soup  486161   \n",
       "231633                              zydeco spice mix  493372   \n",
       "231634                     zydeco ya ya deviled eggs  308080   \n",
       "231635        cookies by design   cookies on a stick  298512   \n",
       "231636  cookies by design   sugar shortbread cookies  298509   \n",
       "\n",
       "                                              ingredients  \\\n",
       "0       ['winter squash', 'mexican seasoning', 'mixed ...   \n",
       "1       ['prepared pizza crust', 'sausage patty', 'egg...   \n",
       "2       ['ground beef', 'yellow onions', 'diced tomato...   \n",
       "3       ['spreadable cheese with garlic and herbs', 'n...   \n",
       "4       ['tomato juice', 'apple cider vinegar', 'sugar...   \n",
       "...                                                   ...   \n",
       "231632  ['celery', 'onion', 'green sweet pepper', 'gar...   \n",
       "231633  ['paprika', 'salt', 'garlic powder', 'onion po...   \n",
       "231634  ['hard-cooked eggs', 'mayonnaise', 'dijon must...   \n",
       "231635  ['butter', 'eagle brand condensed milk', 'ligh...   \n",
       "231636  ['granulated sugar', 'shortening', 'eggs', 'fl...   \n",
       "\n",
       "                                                newcolumn  \n",
       "0       [squash, mixed spice, honey, butter, oil, oliv...  \n",
       "1           [sage, eggs, egg, milk, pepper, salt, cheese]  \n",
       "2       [beef, ground beef, onions, onion, yellow onio...  \n",
       "3       [cheese, garlic, potatoes, shallots, parsley, ...  \n",
       "4       [tomato, apple cider vinegar, vinegar, cider, ...  \n",
       "...                                                   ...  \n",
       "231632  [celery, onion, pepper, cloves, garlic, garlic...  \n",
       "231633  [paprika, salt, garlic, garlic powder, onion, ...  \n",
       "231634  [eggs, egg, mayonnaise, mustard, dijon mustard...  \n",
       "231635  [butter, condensed milk, milk, brown sugar, su...  \n",
       "231636  [granulated sugar, sugar, shortening, eggs, eg...  \n",
       "\n",
       "[231637 rows x 4 columns]"
      ]
     },
     "execution_count": 95,
     "metadata": {},
     "output_type": "execute_result"
    }
   ],
   "source": [
    "data"
   ]
  },
  {
   "cell_type": "markdown",
   "id": "b9b7e1f6",
   "metadata": {},
   "source": [
    "I need to do this a different way: order the ingredientlist by number of words (from many to few), and then loop through and stop once it's found a match. That way it will not reduce 'tomato juice' to 'tomato', and will not have 'apple cider vinegar' return both 'apple' and 'cider' and 'vinegar'. "
   ]
  },
  {
   "cell_type": "code",
   "execution_count": null,
   "id": "77c48ff8",
   "metadata": {},
   "outputs": [],
   "source": [
    "for row in data['ingredients']:\n",
    "    row = row.replace('[\\'', '\\']')\n",
    "    row = row.replace(']', '') \n",
    "    items = row.split(', ')"
   ]
  },
  {
   "cell_type": "code",
   "execution_count": 3,
   "id": "7c25ee26",
   "metadata": {},
   "outputs": [],
   "source": [
    "#ingredientlist"
   ]
  },
  {
   "cell_type": "code",
   "execution_count": 104,
   "id": "b1fbfafc",
   "metadata": {},
   "outputs": [],
   "source": [
    "countlist = []\n",
    "for item in ingredientlist:\n",
    "    itemlist = item.split(' ')\n",
    "    countlist.append(len(itemlist))"
   ]
  },
  {
   "cell_type": "code",
   "execution_count": 105,
   "id": "26e94b96",
   "metadata": {},
   "outputs": [
    {
     "data": {
      "text/plain": [
       "574"
      ]
     },
     "execution_count": 105,
     "metadata": {},
     "output_type": "execute_result"
    }
   ],
   "source": [
    "len(countlist)"
   ]
  },
  {
   "cell_type": "code",
   "execution_count": 112,
   "id": "f3982ae3",
   "metadata": {},
   "outputs": [],
   "source": [
    "zipper = dict(zip(ingredientlist, countlist))"
   ]
  },
  {
   "cell_type": "code",
   "execution_count": 4,
   "id": "59ea1c7e",
   "metadata": {},
   "outputs": [],
   "source": [
    "#zipper"
   ]
  },
  {
   "cell_type": "code",
   "execution_count": 123,
   "id": "80d12582",
   "metadata": {},
   "outputs": [],
   "source": [
    "ingredientlistdict = dict(sorted(zipper.items(), key=lambda item: item[1], reverse = True))"
   ]
  },
  {
   "cell_type": "code",
   "execution_count": 126,
   "id": "0999deb8",
   "metadata": {},
   "outputs": [],
   "source": [
    "ingredientlist = list(ingredientlistdict.keys())"
   ]
  },
  {
   "cell_type": "code",
   "execution_count": 134,
   "id": "c28eb897",
   "metadata": {},
   "outputs": [],
   "source": [
    "def simplify2(row):\n",
    "\n",
    "    rowresults = []\n",
    "    row = row.replace('[\\'', '\\']')\n",
    "    row = row.replace(']', '') \n",
    "    items = row.split(', ')\n",
    "    for item in items: \n",
    "        for ingredient in ingredientlist:\n",
    "            if ingredient in item: \n",
    "                rowresults.append(ingredient)\n",
    "                break\n",
    "    return rowresults"
   ]
  },
  {
   "cell_type": "code",
   "execution_count": 135,
   "id": "225de874",
   "metadata": {},
   "outputs": [],
   "source": [
    "data['newcolumn'] = data['ingredients'].apply(simplify2)"
   ]
  },
  {
   "cell_type": "code",
   "execution_count": 136,
   "id": "5783c6c3",
   "metadata": {},
   "outputs": [
    {
     "data": {
      "text/plain": [
       "0         [squash, mixed spice, honey, butter, olive oil...\n",
       "1                        [sage, eggs, milk, pepper, cheese]\n",
       "2         [ground beef, yellow onion, diced tomatoes, to...\n",
       "3         [cheese, potatoes, shallots, parsley, olive oi...\n",
       "4         [tomato, apple cider vinegar, sugar, salt, pep...\n",
       "                                ...                        \n",
       "231632    [celery, onion, pepper, garlic clove, olive oi...\n",
       "231633    [paprika, salt, garlic powder, onion, basil, d...\n",
       "231634    [eggs, mayonnaise, dijon mustard, cajun, tabas...\n",
       "231635    [butter, condensed milk, brown sugar, sour cre...\n",
       "231636    [granulated sugar, shortening, eggs, flour, cr...\n",
       "Name: newcolumn, Length: 231637, dtype: object"
      ]
     },
     "execution_count": 136,
     "metadata": {},
     "output_type": "execute_result"
    }
   ],
   "source": [
    "data['newcolumn']"
   ]
  },
  {
   "cell_type": "markdown",
   "id": "4cf43a41",
   "metadata": {},
   "source": [
    "This is good enough for me. I might still miss a number of ingredients, but I can add those as I go along, if I make a pipeline for cleaning and filtering. "
   ]
  },
  {
   "cell_type": "markdown",
   "id": "8ad8b658",
   "metadata": {},
   "source": [
    "One task that is left: see if any of the items in the list are substrings of other items (I noticed that 'sauSAGE' returns 'sage')"
   ]
  },
  {
   "cell_type": "markdown",
   "id": "7714b964",
   "metadata": {},
   "source": [
    "I actually think it will be worth my while to manually go through the list, add some things that I notice are not in there (like sausage and tomato juice), and weed out some hidden duplicates (like 'bay leaf' / 'bay leaves')"
   ]
  },
  {
   "cell_type": "markdown",
   "id": "c95183e9",
   "metadata": {},
   "source": [
    "But first I'll use NLTK to lemmatize everything"
   ]
  },
  {
   "cell_type": "markdown",
   "id": "7dfc9378",
   "metadata": {},
   "source": [
    "## Cleaning 2: NLTK"
   ]
  },
  {
   "cell_type": "code",
   "execution_count": 10,
   "id": "dd7d7bb2",
   "metadata": {},
   "outputs": [],
   "source": [
    "from nltk.stem import WordNetLemmatizer\n",
    "  \n",
    "wnl = WordNetLemmatizer()"
   ]
  },
  {
   "cell_type": "code",
   "execution_count": 11,
   "id": "05443deb",
   "metadata": {},
   "outputs": [],
   "source": [
    "ingredientlist_split = []\n",
    "for ingredient in ingredientlist:\n",
    "    ingredientlist_split.append(ingredient.split(' '))"
   ]
  },
  {
   "cell_type": "code",
   "execution_count": 5,
   "id": "04439dd8",
   "metadata": {},
   "outputs": [],
   "source": [
    "#ingredientlist_split"
   ]
  },
  {
   "cell_type": "code",
   "execution_count": 13,
   "id": "afd66ead",
   "metadata": {},
   "outputs": [],
   "source": [
    "newingredientlist = []\n",
    "for entry in ingredientlist_split: \n",
    "    dummy = []\n",
    "    for item in entry:         \n",
    "        dummy.append(wnl.lemmatize(item))\n",
    "    newingredientlist.append(' '.join(dummy))\n",
    "    "
   ]
  },
  {
   "cell_type": "markdown",
   "id": "19ef5ee5",
   "metadata": {},
   "source": [
    "## Be advised: here comes a long list of line-by-line cleaning."
   ]
  },
  {
   "cell_type": "code",
   "execution_count": 6,
   "id": "6e9f036a",
   "metadata": {},
   "outputs": [],
   "source": [
    "#newingredientlist"
   ]
  },
  {
   "cell_type": "code",
   "execution_count": 15,
   "id": "7f4757ab",
   "metadata": {},
   "outputs": [
    {
     "name": "stdout",
     "output_type": "stream",
     "text": [
      "574\n",
      "567\n"
     ]
    }
   ],
   "source": [
    "print(len(newingredientlist))\n",
    "print(len(set(newingredientlist)))"
   ]
  },
  {
   "cell_type": "code",
   "execution_count": 20,
   "id": "3e71752d",
   "metadata": {},
   "outputs": [],
   "source": [
    "def listreplacer(to_replace, replacement):\n",
    "    i = newingredientlist.index(to_replace)\n",
    "    newingredientlist[i] = replacement"
   ]
  },
  {
   "cell_type": "code",
   "execution_count": 21,
   "id": "518cf631",
   "metadata": {},
   "outputs": [],
   "source": [
    "listreplacer('free-range egg, beaten', 'egg')"
   ]
  },
  {
   "cell_type": "code",
   "execution_count": 22,
   "id": "3409555f",
   "metadata": {},
   "outputs": [],
   "source": [
    "listreplacer('free-range eggs, beaten', 'egg')"
   ]
  },
  {
   "cell_type": "code",
   "execution_count": 23,
   "id": "3efba517",
   "metadata": {},
   "outputs": [],
   "source": [
    "listreplacer('bramley apple','apple')"
   ]
  },
  {
   "cell_type": "code",
   "execution_count": 24,
   "id": "cc2b1370",
   "metadata": {},
   "outputs": [],
   "source": [
    "listreplacer( 'chopped onion','onion')"
   ]
  },
  {
   "cell_type": "code",
   "execution_count": 25,
   "id": "b55f239a",
   "metadata": {},
   "outputs": [],
   "source": [
    "listreplacer( 'chopped parsley','parsley')"
   ]
  },
  {
   "cell_type": "code",
   "execution_count": 26,
   "id": "f18de20b",
   "metadata": {},
   "outputs": [],
   "source": [
    "listreplacer( 'chopped tomato','tomato')"
   ]
  },
  {
   "cell_type": "code",
   "execution_count": 27,
   "id": "36b04867",
   "metadata": {},
   "outputs": [],
   "source": [
    "newingredientlist.remove( 'cold water')"
   ]
  },
  {
   "cell_type": "code",
   "execution_count": 28,
   "id": "bbc825bc",
   "metadata": {},
   "outputs": [],
   "source": [
    "newingredientlist.remove('coriander leaf')"
   ]
  },
  {
   "cell_type": "code",
   "execution_count": 29,
   "id": "7ecef281",
   "metadata": {},
   "outputs": [],
   "source": [
    "listreplacer( 'flaked almond','almond')"
   ]
  },
  {
   "cell_type": "code",
   "execution_count": 30,
   "id": "5926d742",
   "metadata": {},
   "outputs": [],
   "source": [
    "listreplacer( 'floury potato','potato')"
   ]
  },
  {
   "cell_type": "code",
   "execution_count": 31,
   "id": "34426d90",
   "metadata": {},
   "outputs": [],
   "source": [
    "listreplacer( 'fresh basil','basil')"
   ]
  },
  {
   "cell_type": "code",
   "execution_count": 32,
   "id": "309114b2",
   "metadata": {},
   "outputs": [],
   "source": [
    "listreplacer('fresh thyme','thyme')"
   ]
  },
  {
   "cell_type": "code",
   "execution_count": 33,
   "id": "ce6513cb",
   "metadata": {},
   "outputs": [],
   "source": [
    "listreplacer( 'garlic clove','garlic')"
   ]
  },
  {
   "cell_type": "code",
   "execution_count": 34,
   "id": "8baf1118",
   "metadata": {},
   "outputs": [],
   "source": [
    "listreplacer( 'gouda cheese','gouda')"
   ]
  },
  {
   "cell_type": "code",
   "execution_count": 35,
   "id": "cba14321",
   "metadata": {},
   "outputs": [],
   "source": [
    "listreplacer('miniature marshmallow', 'marshmallow')"
   ]
  },
  {
   "cell_type": "code",
   "execution_count": 36,
   "id": "61d6e194",
   "metadata": {},
   "outputs": [],
   "source": [
    "listreplacer('mozzarella ball','mozzarella')"
   ]
  },
  {
   "cell_type": "code",
   "execution_count": 37,
   "id": "d4f96310",
   "metadata": {},
   "outputs": [],
   "source": [
    "newingredientlist.remove( 'parmesan cheese')"
   ]
  },
  {
   "cell_type": "code",
   "execution_count": 38,
   "id": "c962a238",
   "metadata": {},
   "outputs": [],
   "source": [
    "listreplacer( 'plain chocolate','chocolate')"
   ]
  },
  {
   "cell_type": "code",
   "execution_count": 39,
   "id": "bb47dbd3",
   "metadata": {},
   "outputs": [],
   "source": [
    "listreplacer('plain flour', 'flour')"
   ]
  },
  {
   "cell_type": "code",
   "execution_count": 40,
   "id": "f2be48a5",
   "metadata": {},
   "outputs": [],
   "source": [
    "newingredientlist.remove( 'smoky paprika')"
   ]
  },
  {
   "cell_type": "code",
   "execution_count": 41,
   "id": "a85f04ac",
   "metadata": {},
   "outputs": [],
   "source": [
    "newingredientlist.remove('tamarind ball')"
   ]
  },
  {
   "cell_type": "code",
   "execution_count": 42,
   "id": "f2d5b58c",
   "metadata": {},
   "outputs": [],
   "source": [
    "listreplacer( 'tamarind paste','tamarind')"
   ]
  },
  {
   "cell_type": "code",
   "execution_count": 43,
   "id": "b2f569fe",
   "metadata": {},
   "outputs": [],
   "source": [
    "listreplacer( 'tomato ketchup','ketchup')"
   ]
  },
  {
   "cell_type": "code",
   "execution_count": 44,
   "id": "7bb2ffcf",
   "metadata": {},
   "outputs": [],
   "source": [
    "listreplacer( 'vermicelli pasta','vermicelli')"
   ]
  },
  {
   "cell_type": "code",
   "execution_count": 45,
   "id": "550f06b3",
   "metadata": {},
   "outputs": [],
   "source": [
    "listreplacer( 'pappardelle pasta','pappardelle')"
   ]
  },
  {
   "cell_type": "code",
   "execution_count": 46,
   "id": "cc267165",
   "metadata": {},
   "outputs": [],
   "source": [
    "listreplacer( 'paccheri pasta','paccheri')"
   ]
  },
  {
   "cell_type": "code",
   "execution_count": 47,
   "id": "4accb0e3",
   "metadata": {},
   "outputs": [],
   "source": [
    "listreplacer( 'linguine pasta','linguin')"
   ]
  },
  {
   "cell_type": "code",
   "execution_count": 48,
   "id": "50ce2f34",
   "metadata": {},
   "outputs": [],
   "source": [
    "listreplacer( 'stilton cheese','stilton')"
   ]
  },
  {
   "cell_type": "code",
   "execution_count": 49,
   "id": "fa9b68ce",
   "metadata": {},
   "outputs": [],
   "source": [
    "listreplacer( 'shiitake mushroom','shiitake')"
   ]
  },
  {
   "cell_type": "code",
   "execution_count": 50,
   "id": "fc1814c6",
   "metadata": {},
   "outputs": [],
   "source": [
    "listreplacer( 'braeburn apple','apple')"
   ]
  },
  {
   "cell_type": "code",
   "execution_count": 51,
   "id": "d5e0b004",
   "metadata": {},
   "outputs": [],
   "source": [
    "listreplacer('white flour', 'flour')"
   ]
  },
  {
   "cell_type": "code",
   "execution_count": 52,
   "id": "5367a369",
   "metadata": {},
   "outputs": [],
   "source": [
    "listreplacer( 'potatoe bun','potato bun')"
   ]
  },
  {
   "cell_type": "code",
   "execution_count": 53,
   "id": "4b59c423",
   "metadata": {},
   "outputs": [],
   "source": [
    "listreplacer( 'bulgur wheat','bulgur')"
   ]
  },
  {
   "cell_type": "code",
   "execution_count": 54,
   "id": "e4f8c320",
   "metadata": {},
   "outputs": [],
   "source": [
    "newingredientlist.remove( 'cheese slice')"
   ]
  },
  {
   "cell_type": "code",
   "execution_count": 55,
   "id": "952254fe",
   "metadata": {},
   "outputs": [],
   "source": [
    "newingredientlist.remove('warm water')"
   ]
  },
  {
   "cell_type": "code",
   "execution_count": 56,
   "id": "7e40b9ec",
   "metadata": {},
   "outputs": [],
   "source": [
    "newingredientlist.remove('dark soft brown sugar')"
   ]
  },
  {
   "cell_type": "code",
   "execution_count": 57,
   "id": "35925ffb",
   "metadata": {},
   "outputs": [],
   "source": [
    "newingredientlist.remove('light brown soft sugar')"
   ]
  },
  {
   "cell_type": "code",
   "execution_count": 58,
   "id": "2bf611ab",
   "metadata": {},
   "outputs": [],
   "source": [
    "newingredientlist.remove('dark brown soft sugar')"
   ]
  },
  {
   "cell_type": "code",
   "execution_count": 59,
   "id": "c7a228d3",
   "metadata": {},
   "outputs": [
    {
     "data": {
      "text/plain": [
       "89"
      ]
     },
     "execution_count": 59,
     "metadata": {},
     "output_type": "execute_result"
    }
   ],
   "source": [
    "newingredientlist.index('cubed feta cheese')"
   ]
  },
  {
   "cell_type": "code",
   "execution_count": 61,
   "id": "3e39e63c",
   "metadata": {},
   "outputs": [],
   "source": [
    "newingredientlist[89] = 'feta cheese'"
   ]
  },
  {
   "cell_type": "code",
   "execution_count": 62,
   "id": "80ed0a4a",
   "metadata": {},
   "outputs": [],
   "source": [
    "listreplacer('dark soy sauce','soy sauce')"
   ]
  },
  {
   "cell_type": "code",
   "execution_count": 63,
   "id": "97bc591f",
   "metadata": {},
   "outputs": [],
   "source": [
    "listreplacer( 'freshly chopped parsley','parsley')"
   ]
  },
  {
   "cell_type": "code",
   "execution_count": 64,
   "id": "e865d420",
   "metadata": {},
   "outputs": [],
   "source": [
    "listreplacer('little gem lettuce','gem lettuce')"
   ]
  },
  {
   "cell_type": "code",
   "execution_count": 65,
   "id": "5cce29b8",
   "metadata": {},
   "outputs": [],
   "source": [
    "listreplacer('pitted black olive','black olive')"
   ]
  },
  {
   "cell_type": "code",
   "execution_count": 66,
   "id": "781e5e77",
   "metadata": {},
   "outputs": [],
   "source": [
    "listreplacer('raw king prawn', 'prawn')"
   ]
  },
  {
   "cell_type": "code",
   "execution_count": 67,
   "id": "90884baa",
   "metadata": {},
   "outputs": [],
   "source": [
    "listreplacer('vegetable stock cube', 'vegetable stock')"
   ]
  },
  {
   "cell_type": "code",
   "execution_count": 68,
   "id": "3be9bde5",
   "metadata": {},
   "outputs": [],
   "source": [
    "listreplacer('chicken stock cube', 'chicken stock')"
   ]
  },
  {
   "cell_type": "code",
   "execution_count": 69,
   "id": "26790184",
   "metadata": {},
   "outputs": [],
   "source": [
    "listreplacer('ra el hanout','ras el hanout')"
   ]
  },
  {
   "cell_type": "code",
   "execution_count": 70,
   "id": "f4258c1c",
   "metadata": {},
   "outputs": [],
   "source": [
    "listreplacer('beef stock concentrate', 'beef stock')"
   ]
  },
  {
   "cell_type": "code",
   "execution_count": 71,
   "id": "fdca4fae",
   "metadata": {},
   "outputs": [],
   "source": [
    "listreplacer('chicken stock concentrate', 'chicken stock')"
   ]
  },
  {
   "cell_type": "code",
   "execution_count": 72,
   "id": "2622be5b",
   "metadata": {},
   "outputs": [],
   "source": [
    "listreplacer('sugar snap pea','sugar snap')"
   ]
  },
  {
   "cell_type": "code",
   "execution_count": 73,
   "id": "fa39c385",
   "metadata": {},
   "outputs": [],
   "source": [
    "listreplacer('shredded monterey jack cheese','monterey jack cheese')"
   ]
  },
  {
   "cell_type": "code",
   "execution_count": 74,
   "id": "f1e7e334",
   "metadata": {},
   "outputs": [
    {
     "data": {
      "text/plain": [
       "532"
      ]
     },
     "execution_count": 74,
     "metadata": {},
     "output_type": "execute_result"
    }
   ],
   "source": [
    "len(set(newingredientlist))"
   ]
  },
  {
   "cell_type": "code",
   "execution_count": 75,
   "id": "38a20954",
   "metadata": {},
   "outputs": [],
   "source": [
    "ingr = list(set(newingredientlist))"
   ]
  },
  {
   "cell_type": "code",
   "execution_count": 7,
   "id": "925c30a0",
   "metadata": {},
   "outputs": [],
   "source": [
    "#ingr"
   ]
  },
  {
   "cell_type": "markdown",
   "id": "44c7fe30",
   "metadata": {},
   "source": [
    "...And convert this back to the long-to-short sorting."
   ]
  },
  {
   "cell_type": "code",
   "execution_count": 77,
   "id": "8f39683d",
   "metadata": {},
   "outputs": [],
   "source": [
    "countlist = []\n",
    "for item in ingr:\n",
    "    itemlist = item.split(' ')\n",
    "    countlist.append(len(itemlist))"
   ]
  },
  {
   "cell_type": "code",
   "execution_count": 78,
   "id": "b4937323",
   "metadata": {},
   "outputs": [
    {
     "data": {
      "text/plain": [
       "532"
      ]
     },
     "execution_count": 78,
     "metadata": {},
     "output_type": "execute_result"
    }
   ],
   "source": [
    "len(countlist)"
   ]
  },
  {
   "cell_type": "code",
   "execution_count": 79,
   "id": "eed7f802",
   "metadata": {},
   "outputs": [],
   "source": [
    "zipper = dict(zip(ingr, countlist))"
   ]
  },
  {
   "cell_type": "code",
   "execution_count": 8,
   "id": "13641a64",
   "metadata": {},
   "outputs": [],
   "source": [
    "#zipper"
   ]
  },
  {
   "cell_type": "code",
   "execution_count": 81,
   "id": "70ace21e",
   "metadata": {},
   "outputs": [],
   "source": [
    "ingredientlistdict = dict(sorted(zipper.items(), key=lambda item: item[1], reverse = True))"
   ]
  },
  {
   "cell_type": "code",
   "execution_count": 82,
   "id": "8289f78d",
   "metadata": {},
   "outputs": [],
   "source": [
    "ingredientlist = list(ingredientlistdict.keys())"
   ]
  },
  {
   "cell_type": "code",
   "execution_count": 9,
   "id": "0859da94",
   "metadata": {},
   "outputs": [],
   "source": [
    "#ingredientlist"
   ]
  },
  {
   "cell_type": "markdown",
   "id": "7463726f",
   "metadata": {},
   "source": [
    "I will save this to a file, as it will be the cornerstone of all the data cleaning (and one of the obvious points to work on if I want to improve the system later on). This one is far from perfect, but it's good enough to allow me to build a first prototype. "
   ]
  },
  {
   "cell_type": "code",
   "execution_count": 84,
   "id": "11e4ef48",
   "metadata": {},
   "outputs": [],
   "source": [
    "with open('masterlist.txt', 'w') as f:\n",
    "    for line in ingredientlist:\n",
    "        f.write(f\"{line}\\n\")"
   ]
  },
  {
   "cell_type": "markdown",
   "id": "5b7c25d6",
   "metadata": {},
   "source": [
    "Now use this new list to clean the whole shebang"
   ]
  },
  {
   "cell_type": "code",
   "execution_count": 262,
   "id": "ba04b3a0",
   "metadata": {},
   "outputs": [],
   "source": [
    "data['cleaned'] = data['ingredients'].apply(simplify2)"
   ]
  },
  {
   "cell_type": "code",
   "execution_count": 10,
   "id": "286647a2",
   "metadata": {},
   "outputs": [
    {
     "ename": "NameError",
     "evalue": "name 'data' is not defined",
     "output_type": "error",
     "traceback": [
      "\u001b[0;31m---------------------------------------------------------------------------\u001b[0m",
      "\u001b[0;31mNameError\u001b[0m                                 Traceback (most recent call last)",
      "Input \u001b[0;32mIn [10]\u001b[0m, in \u001b[0;36m<cell line: 1>\u001b[0;34m()\u001b[0m\n\u001b[0;32m----> 1\u001b[0m \u001b[43mdata\u001b[49m\u001b[38;5;241m.\u001b[39mhead()\n",
      "\u001b[0;31mNameError\u001b[0m: name 'data' is not defined"
     ]
    }
   ],
   "source": [
    "data.head()"
   ]
  },
  {
   "cell_type": "markdown",
   "id": "43c20862",
   "metadata": {},
   "source": [
    "Finally, I want to get the original URLs for these recipes (if I can), so that I can recommend the recipes to the user."
   ]
  },
  {
   "cell_type": "code",
   "execution_count": 266,
   "id": "42b4842e",
   "metadata": {},
   "outputs": [
    {
     "data": {
      "text/html": [
       "<div>\n",
       "<style scoped>\n",
       "    .dataframe tbody tr th:only-of-type {\n",
       "        vertical-align: middle;\n",
       "    }\n",
       "\n",
       "    .dataframe tbody tr th {\n",
       "        vertical-align: top;\n",
       "    }\n",
       "\n",
       "    .dataframe thead th {\n",
       "        text-align: right;\n",
       "    }\n",
       "</style>\n",
       "<table border=\"1\" class=\"dataframe\">\n",
       "  <thead>\n",
       "    <tr style=\"text-align: right;\">\n",
       "      <th></th>\n",
       "      <th>name</th>\n",
       "      <th>id</th>\n",
       "      <th>ingredients</th>\n",
       "      <th>cleaned</th>\n",
       "    </tr>\n",
       "  </thead>\n",
       "  <tbody>\n",
       "  </tbody>\n",
       "</table>\n",
       "</div>"
      ],
      "text/plain": [
       "Empty DataFrame\n",
       "Columns: [name, id, ingredients, cleaned]\n",
       "Index: []"
      ]
     },
     "execution_count": 266,
     "metadata": {},
     "output_type": "execute_result"
    }
   ],
   "source": [
    "data[data['id']==19135]"
   ]
  },
  {
   "cell_type": "code",
   "execution_count": 267,
   "id": "c8faf9ca",
   "metadata": {},
   "outputs": [],
   "source": [
    "data['url'] = f\"https://www.food.com/recipe/{data['id']}\""
   ]
  },
  {
   "cell_type": "code",
   "execution_count": 269,
   "id": "558be140",
   "metadata": {},
   "outputs": [],
   "source": [
    "data.drop(columns=['url'], inplace = True)"
   ]
  },
  {
   "cell_type": "code",
   "execution_count": 271,
   "id": "b514a271",
   "metadata": {},
   "outputs": [],
   "source": [
    "urllist = []\n",
    "for item in data['id']:\n",
    "    urllist.append(f\"https://www.food.com/recipe/{item}\")"
   ]
  },
  {
   "cell_type": "code",
   "execution_count": 274,
   "id": "f5db0169",
   "metadata": {},
   "outputs": [],
   "source": [
    "data['url'] = urllist"
   ]
  },
  {
   "cell_type": "code",
   "execution_count": 276,
   "id": "7f1df0fd",
   "metadata": {},
   "outputs": [],
   "source": [
    "data = data[['name', 'url', 'ingredients', 'cleaned']]"
   ]
  },
  {
   "cell_type": "code",
   "execution_count": 277,
   "id": "841822d6",
   "metadata": {},
   "outputs": [
    {
     "data": {
      "text/html": [
       "<div>\n",
       "<style scoped>\n",
       "    .dataframe tbody tr th:only-of-type {\n",
       "        vertical-align: middle;\n",
       "    }\n",
       "\n",
       "    .dataframe tbody tr th {\n",
       "        vertical-align: top;\n",
       "    }\n",
       "\n",
       "    .dataframe thead th {\n",
       "        text-align: right;\n",
       "    }\n",
       "</style>\n",
       "<table border=\"1\" class=\"dataframe\">\n",
       "  <thead>\n",
       "    <tr style=\"text-align: right;\">\n",
       "      <th></th>\n",
       "      <th>name</th>\n",
       "      <th>url</th>\n",
       "      <th>ingredients</th>\n",
       "      <th>cleaned</th>\n",
       "    </tr>\n",
       "  </thead>\n",
       "  <tbody>\n",
       "    <tr>\n",
       "      <th>0</th>\n",
       "      <td>arriba   baked winter squash mexican style</td>\n",
       "      <td>https://www.food.com/recipe/137739</td>\n",
       "      <td>['winter squash', 'mexican seasoning', 'mixed ...</td>\n",
       "      <td>[squash, mixed spice, honey, butter, olive oil...</td>\n",
       "    </tr>\n",
       "    <tr>\n",
       "      <th>1</th>\n",
       "      <td>a bit different  breakfast pizza</td>\n",
       "      <td>https://www.food.com/recipe/31490</td>\n",
       "      <td>['prepared pizza crust', 'sausage patty', 'egg...</td>\n",
       "      <td>[sage, egg, milk, salt, cheese]</td>\n",
       "    </tr>\n",
       "    <tr>\n",
       "      <th>2</th>\n",
       "      <td>all in the kitchen  chili</td>\n",
       "      <td>https://www.food.com/recipe/112140</td>\n",
       "      <td>['ground beef', 'yellow onions', 'diced tomato...</td>\n",
       "      <td>[ground beef, yellow onion, diced tomato, toma...</td>\n",
       "    </tr>\n",
       "    <tr>\n",
       "      <th>3</th>\n",
       "      <td>alouette  potatoes</td>\n",
       "      <td>https://www.food.com/recipe/59389</td>\n",
       "      <td>['spreadable cheese with garlic and herbs', 'n...</td>\n",
       "      <td>[cheese, potato, shallot, parsley, olive oil, ...</td>\n",
       "    </tr>\n",
       "    <tr>\n",
       "      <th>4</th>\n",
       "      <td>amish  tomato ketchup  for canning</td>\n",
       "      <td>https://www.food.com/recipe/44061</td>\n",
       "      <td>['tomato juice', 'apple cider vinegar', 'sugar...</td>\n",
       "      <td>[tomato, apple cider vinegar, sugar, salt, pep...</td>\n",
       "    </tr>\n",
       "    <tr>\n",
       "      <th>...</th>\n",
       "      <td>...</td>\n",
       "      <td>...</td>\n",
       "      <td>...</td>\n",
       "      <td>...</td>\n",
       "    </tr>\n",
       "    <tr>\n",
       "      <th>231632</th>\n",
       "      <td>zydeco soup</td>\n",
       "      <td>https://www.food.com/recipe/486161</td>\n",
       "      <td>['celery', 'onion', 'green sweet pepper', 'gar...</td>\n",
       "      <td>[celery, onion, pepper, clove, olive oil, ham,...</td>\n",
       "    </tr>\n",
       "    <tr>\n",
       "      <th>231633</th>\n",
       "      <td>zydeco spice mix</td>\n",
       "      <td>https://www.food.com/recipe/493372</td>\n",
       "      <td>['paprika', 'salt', 'garlic powder', 'onion po...</td>\n",
       "      <td>[paprika, salt, garlic powder, onion, basil, d...</td>\n",
       "    </tr>\n",
       "    <tr>\n",
       "      <th>231634</th>\n",
       "      <td>zydeco ya ya deviled eggs</td>\n",
       "      <td>https://www.food.com/recipe/308080</td>\n",
       "      <td>['hard-cooked eggs', 'mayonnaise', 'dijon must...</td>\n",
       "      <td>[egg, mayonnaise, dijon mustard, salt, tabasco...</td>\n",
       "    </tr>\n",
       "    <tr>\n",
       "      <th>231635</th>\n",
       "      <td>cookies by design   cookies on a stick</td>\n",
       "      <td>https://www.food.com/recipe/298512</td>\n",
       "      <td>['butter', 'eagle brand condensed milk', 'ligh...</td>\n",
       "      <td>[butter, condensed milk, brown sugar, sour cre...</td>\n",
       "    </tr>\n",
       "    <tr>\n",
       "      <th>231636</th>\n",
       "      <td>cookies by design   sugar shortbread cookies</td>\n",
       "      <td>https://www.food.com/recipe/298509</td>\n",
       "      <td>['granulated sugar', 'shortening', 'eggs', 'fl...</td>\n",
       "      <td>[granulated sugar, shortening, egg, flour, cre...</td>\n",
       "    </tr>\n",
       "  </tbody>\n",
       "</table>\n",
       "<p>231637 rows × 4 columns</p>\n",
       "</div>"
      ],
      "text/plain": [
       "                                                name  \\\n",
       "0         arriba   baked winter squash mexican style   \n",
       "1                   a bit different  breakfast pizza   \n",
       "2                          all in the kitchen  chili   \n",
       "3                                 alouette  potatoes   \n",
       "4                 amish  tomato ketchup  for canning   \n",
       "...                                              ...   \n",
       "231632                                   zydeco soup   \n",
       "231633                              zydeco spice mix   \n",
       "231634                     zydeco ya ya deviled eggs   \n",
       "231635        cookies by design   cookies on a stick   \n",
       "231636  cookies by design   sugar shortbread cookies   \n",
       "\n",
       "                                       url  \\\n",
       "0       https://www.food.com/recipe/137739   \n",
       "1        https://www.food.com/recipe/31490   \n",
       "2       https://www.food.com/recipe/112140   \n",
       "3        https://www.food.com/recipe/59389   \n",
       "4        https://www.food.com/recipe/44061   \n",
       "...                                    ...   \n",
       "231632  https://www.food.com/recipe/486161   \n",
       "231633  https://www.food.com/recipe/493372   \n",
       "231634  https://www.food.com/recipe/308080   \n",
       "231635  https://www.food.com/recipe/298512   \n",
       "231636  https://www.food.com/recipe/298509   \n",
       "\n",
       "                                              ingredients  \\\n",
       "0       ['winter squash', 'mexican seasoning', 'mixed ...   \n",
       "1       ['prepared pizza crust', 'sausage patty', 'egg...   \n",
       "2       ['ground beef', 'yellow onions', 'diced tomato...   \n",
       "3       ['spreadable cheese with garlic and herbs', 'n...   \n",
       "4       ['tomato juice', 'apple cider vinegar', 'sugar...   \n",
       "...                                                   ...   \n",
       "231632  ['celery', 'onion', 'green sweet pepper', 'gar...   \n",
       "231633  ['paprika', 'salt', 'garlic powder', 'onion po...   \n",
       "231634  ['hard-cooked eggs', 'mayonnaise', 'dijon must...   \n",
       "231635  ['butter', 'eagle brand condensed milk', 'ligh...   \n",
       "231636  ['granulated sugar', 'shortening', 'eggs', 'fl...   \n",
       "\n",
       "                                                  cleaned  \n",
       "0       [squash, mixed spice, honey, butter, olive oil...  \n",
       "1                         [sage, egg, milk, salt, cheese]  \n",
       "2       [ground beef, yellow onion, diced tomato, toma...  \n",
       "3       [cheese, potato, shallot, parsley, olive oil, ...  \n",
       "4       [tomato, apple cider vinegar, sugar, salt, pep...  \n",
       "...                                                   ...  \n",
       "231632  [celery, onion, pepper, clove, olive oil, ham,...  \n",
       "231633  [paprika, salt, garlic powder, onion, basil, d...  \n",
       "231634  [egg, mayonnaise, dijon mustard, salt, tabasco...  \n",
       "231635  [butter, condensed milk, brown sugar, sour cre...  \n",
       "231636  [granulated sugar, shortening, egg, flour, cre...  \n",
       "\n",
       "[231637 rows x 4 columns]"
      ]
     },
     "execution_count": 277,
     "metadata": {},
     "output_type": "execute_result"
    }
   ],
   "source": [
    "data"
   ]
  },
  {
   "cell_type": "markdown",
   "id": "bf19130c",
   "metadata": {},
   "source": [
    "# Cleaning, NYT"
   ]
  },
  {
   "cell_type": "markdown",
   "id": "95b377c6",
   "metadata": {},
   "source": [
    "Cleaning the data I got from the New York Times website."
   ]
  },
  {
   "cell_type": "code",
   "execution_count": 1,
   "id": "9347b38a",
   "metadata": {},
   "outputs": [],
   "source": [
    "import pandas as pd\n",
    "import numpy as np\n",
    "import re\n",
    "import random\n",
    "import requests\n",
    "import json\n",
    "from nltk.probability import FreqDist"
   ]
  },
  {
   "cell_type": "code",
   "execution_count": 3,
   "id": "46609e1e",
   "metadata": {},
   "outputs": [],
   "source": [
    "nyt = pd.read_csv('nyt/nyt.csv', sep = '|')"
   ]
  },
  {
   "cell_type": "code",
   "execution_count": 4,
   "id": "9c6800af",
   "metadata": {},
   "outputs": [
    {
     "data": {
      "text/html": [
       "<div>\n",
       "<style scoped>\n",
       "    .dataframe tbody tr th:only-of-type {\n",
       "        vertical-align: middle;\n",
       "    }\n",
       "\n",
       "    .dataframe tbody tr th {\n",
       "        vertical-align: top;\n",
       "    }\n",
       "\n",
       "    .dataframe thead th {\n",
       "        text-align: right;\n",
       "    }\n",
       "</style>\n",
       "<table border=\"1\" class=\"dataframe\">\n",
       "  <thead>\n",
       "    <tr style=\"text-align: right;\">\n",
       "      <th></th>\n",
       "      <th>name</th>\n",
       "      <th>url</th>\n",
       "      <th>ingredients</th>\n",
       "    </tr>\n",
       "  </thead>\n",
       "  <tbody>\n",
       "    <tr>\n",
       "      <th>0</th>\n",
       "      <td>Harissa-Roasted Sweet Potatoes and Red Onion</td>\n",
       "      <td>https://cooking.nytimes.com/recipes/1023541-ha...</td>\n",
       "      <td>['3 medium sweet potatoes, washed and trimmed,...</td>\n",
       "    </tr>\n",
       "    <tr>\n",
       "      <th>1</th>\n",
       "      <td>Tofu and Mushroom Jorim (Soy-Braised Tofu)</td>\n",
       "      <td>https://cooking.nytimes.com/recipes/1023476-to...</td>\n",
       "      <td>['1/3 cup low-sodium soy sauce', '5 garlic clo...</td>\n",
       "    </tr>\n",
       "    <tr>\n",
       "      <th>2</th>\n",
       "      <td>Roasted Chicken With Crispy Mushrooms</td>\n",
       "      <td>https://cooking.nytimes.com/recipes/1023551-ro...</td>\n",
       "      <td>['2 to 2 1/4 pounds boneless, skinless chicken...</td>\n",
       "    </tr>\n",
       "    <tr>\n",
       "      <th>3</th>\n",
       "      <td>Chocolate Pumpkin Swirl Muffins</td>\n",
       "      <td>https://cooking.nytimes.com/recipes/1023565-ch...</td>\n",
       "      <td>['2 cups/256 grams all-purpose flour', '1 tabl...</td>\n",
       "    </tr>\n",
       "    <tr>\n",
       "      <th>4</th>\n",
       "      <td>Pasta e Patate (Pasta and Potato Soup)</td>\n",
       "      <td>https://cooking.nytimes.com/recipes/1023564-pa...</td>\n",
       "      <td>['1/3 cup extra-virgin olive oil', '1 large ye...</td>\n",
       "    </tr>\n",
       "    <tr>\n",
       "      <th>...</th>\n",
       "      <td>...</td>\n",
       "      <td>...</td>\n",
       "      <td>...</td>\n",
       "    </tr>\n",
       "    <tr>\n",
       "      <th>22070</th>\n",
       "      <td>Mushrooms in Marsala Wine (Funghi Alla Marsala)</td>\n",
       "      <td>https://cooking.nytimes.com/recipes/31-mushroo...</td>\n",
       "      <td>['1 ounce dried mushrooms, preferably imported...</td>\n",
       "    </tr>\n",
       "    <tr>\n",
       "      <th>22071</th>\n",
       "      <td>Veal Scaloppine With Mushrooms Bordelaise</td>\n",
       "      <td>https://cooking.nytimes.com/recipes/30-veal-sc...</td>\n",
       "      <td>['12 slices veal scaloppine, about 1 1/4 pound...</td>\n",
       "    </tr>\n",
       "    <tr>\n",
       "      <th>22072</th>\n",
       "      <td>Mushroom and Meat Loaf</td>\n",
       "      <td>https://cooking.nytimes.com/recipes/28-mushroo...</td>\n",
       "      <td>['1/2 pound mushrooms', '1 tablespoon butter',...</td>\n",
       "    </tr>\n",
       "    <tr>\n",
       "      <th>22073</th>\n",
       "      <td>Mushroom and Pepper Salad</td>\n",
       "      <td>https://cooking.nytimes.com/recipes/29-mushroo...</td>\n",
       "      <td>['1 large sweet red pepper, about 1/2 pound', ...</td>\n",
       "    </tr>\n",
       "    <tr>\n",
       "      <th>22074</th>\n",
       "      <td>Stuffed Mushrooms</td>\n",
       "      <td>https://cooking.nytimes.com/recipes/27-stuffed...</td>\n",
       "      <td>['1 1/4 pounds mushrooms', '4 tablespoons butt...</td>\n",
       "    </tr>\n",
       "  </tbody>\n",
       "</table>\n",
       "<p>22075 rows × 3 columns</p>\n",
       "</div>"
      ],
      "text/plain": [
       "                                                  name  \\\n",
       "0         Harissa-Roasted Sweet Potatoes and Red Onion   \n",
       "1           Tofu and Mushroom Jorim (Soy-Braised Tofu)   \n",
       "2                Roasted Chicken With Crispy Mushrooms   \n",
       "3                      Chocolate Pumpkin Swirl Muffins   \n",
       "4               Pasta e Patate (Pasta and Potato Soup)   \n",
       "...                                                ...   \n",
       "22070  Mushrooms in Marsala Wine (Funghi Alla Marsala)   \n",
       "22071        Veal Scaloppine With Mushrooms Bordelaise   \n",
       "22072                           Mushroom and Meat Loaf   \n",
       "22073                        Mushroom and Pepper Salad   \n",
       "22074                                Stuffed Mushrooms   \n",
       "\n",
       "                                                     url  \\\n",
       "0      https://cooking.nytimes.com/recipes/1023541-ha...   \n",
       "1      https://cooking.nytimes.com/recipes/1023476-to...   \n",
       "2      https://cooking.nytimes.com/recipes/1023551-ro...   \n",
       "3      https://cooking.nytimes.com/recipes/1023565-ch...   \n",
       "4      https://cooking.nytimes.com/recipes/1023564-pa...   \n",
       "...                                                  ...   \n",
       "22070  https://cooking.nytimes.com/recipes/31-mushroo...   \n",
       "22071  https://cooking.nytimes.com/recipes/30-veal-sc...   \n",
       "22072  https://cooking.nytimes.com/recipes/28-mushroo...   \n",
       "22073  https://cooking.nytimes.com/recipes/29-mushroo...   \n",
       "22074  https://cooking.nytimes.com/recipes/27-stuffed...   \n",
       "\n",
       "                                             ingredients  \n",
       "0      ['3 medium sweet potatoes, washed and trimmed,...  \n",
       "1      ['1/3 cup low-sodium soy sauce', '5 garlic clo...  \n",
       "2      ['2 to 2 1/4 pounds boneless, skinless chicken...  \n",
       "3      ['2 cups/256 grams all-purpose flour', '1 tabl...  \n",
       "4      ['1/3 cup extra-virgin olive oil', '1 large ye...  \n",
       "...                                                  ...  \n",
       "22070  ['1 ounce dried mushrooms, preferably imported...  \n",
       "22071  ['12 slices veal scaloppine, about 1 1/4 pound...  \n",
       "22072  ['1/2 pound mushrooms', '1 tablespoon butter',...  \n",
       "22073  ['1 large sweet red pepper, about 1/2 pound', ...  \n",
       "22074  ['1 1/4 pounds mushrooms', '4 tablespoons butt...  \n",
       "\n",
       "[22075 rows x 3 columns]"
      ]
     },
     "execution_count": 4,
     "metadata": {},
     "output_type": "execute_result"
    }
   ],
   "source": [
    "nyt"
   ]
  },
  {
   "cell_type": "code",
   "execution_count": 8,
   "id": "6059df4d",
   "metadata": {},
   "outputs": [],
   "source": [
    "file = open('masterlist.txt', 'r')"
   ]
  },
  {
   "cell_type": "code",
   "execution_count": 9,
   "id": "ab307628",
   "metadata": {},
   "outputs": [],
   "source": [
    "ingredientlist = [] \n",
    "for line in file.readlines():\n",
    "    ingredientlist.append(line.replace('\\n',''))"
   ]
  },
  {
   "cell_type": "code",
   "execution_count": 13,
   "id": "32483b9c",
   "metadata": {},
   "outputs": [],
   "source": [
    "def simplify(row):\n",
    "\n",
    "    rowresults = []\n",
    "    row = row.replace('[\\'', '\\']')\n",
    "    row = row.replace(']', '') \n",
    "    items = row.split(', ')\n",
    "    for item in items: \n",
    "        for ingredient in ingredientlist:\n",
    "            if ingredient in item: \n",
    "                rowresults.append(ingredient)\n",
    "                break\n",
    "    return rowresults"
   ]
  },
  {
   "cell_type": "code",
   "execution_count": 14,
   "id": "5b90f9fe",
   "metadata": {},
   "outputs": [],
   "source": [
    "nyt['cleaned'] = nyt['ingredients'].apply(simplify)"
   ]
  },
  {
   "cell_type": "code",
   "execution_count": 15,
   "id": "18c1a37f",
   "metadata": {},
   "outputs": [
    {
     "data": {
      "text/html": [
       "<div>\n",
       "<style scoped>\n",
       "    .dataframe tbody tr th:only-of-type {\n",
       "        vertical-align: middle;\n",
       "    }\n",
       "\n",
       "    .dataframe tbody tr th {\n",
       "        vertical-align: top;\n",
       "    }\n",
       "\n",
       "    .dataframe thead th {\n",
       "        text-align: right;\n",
       "    }\n",
       "</style>\n",
       "<table border=\"1\" class=\"dataframe\">\n",
       "  <thead>\n",
       "    <tr style=\"text-align: right;\">\n",
       "      <th></th>\n",
       "      <th>name</th>\n",
       "      <th>url</th>\n",
       "      <th>ingredients</th>\n",
       "      <th>cleaned</th>\n",
       "    </tr>\n",
       "  </thead>\n",
       "  <tbody>\n",
       "    <tr>\n",
       "      <th>0</th>\n",
       "      <td>Harissa-Roasted Sweet Potatoes and Red Onion</td>\n",
       "      <td>https://cooking.nytimes.com/recipes/1023541-ha...</td>\n",
       "      <td>['3 medium sweet potatoes, washed and trimmed,...</td>\n",
       "      <td>[sweet potato, red onion, olive oil, ground cu...</td>\n",
       "    </tr>\n",
       "    <tr>\n",
       "      <th>1</th>\n",
       "      <td>Tofu and Mushroom Jorim (Soy-Braised Tofu)</td>\n",
       "      <td>https://cooking.nytimes.com/recipes/1023476-to...</td>\n",
       "      <td>['1/3 cup low-sodium soy sauce', '5 garlic clo...</td>\n",
       "      <td>[soy sauce, clove, ginger, scallion, scallion,...</td>\n",
       "    </tr>\n",
       "    <tr>\n",
       "      <th>2</th>\n",
       "      <td>Roasted Chicken With Crispy Mushrooms</td>\n",
       "      <td>https://cooking.nytimes.com/recipes/1023551-ro...</td>\n",
       "      <td>['2 to 2 1/4 pounds boneless, skinless chicken...</td>\n",
       "      <td>[chicken thigh, black pepper, clove, thyme, th...</td>\n",
       "    </tr>\n",
       "    <tr>\n",
       "      <th>3</th>\n",
       "      <td>Chocolate Pumpkin Swirl Muffins</td>\n",
       "      <td>https://cooking.nytimes.com/recipes/1023565-ch...</td>\n",
       "      <td>['2 cups/256 grams all-purpose flour', '1 tabl...</td>\n",
       "      <td>[flour, cinnamon, baking powder, kosher salt, ...</td>\n",
       "    </tr>\n",
       "    <tr>\n",
       "      <th>4</th>\n",
       "      <td>Pasta e Patate (Pasta and Potato Soup)</td>\n",
       "      <td>https://cooking.nytimes.com/recipes/1023564-pa...</td>\n",
       "      <td>['1/3 cup extra-virgin olive oil', '1 large ye...</td>\n",
       "      <td>[olive oil, yellow onion, carrot, celery, clov...</td>\n",
       "    </tr>\n",
       "    <tr>\n",
       "      <th>...</th>\n",
       "      <td>...</td>\n",
       "      <td>...</td>\n",
       "      <td>...</td>\n",
       "      <td>...</td>\n",
       "    </tr>\n",
       "    <tr>\n",
       "      <th>22070</th>\n",
       "      <td>Mushrooms in Marsala Wine (Funghi Alla Marsala)</td>\n",
       "      <td>https://cooking.nytimes.com/recipes/31-mushroo...</td>\n",
       "      <td>['1 ounce dried mushrooms, preferably imported...</td>\n",
       "      <td>[mushroom, mushroom, water, olive oil, minced ...</td>\n",
       "    </tr>\n",
       "    <tr>\n",
       "      <th>22071</th>\n",
       "      <td>Veal Scaloppine With Mushrooms Bordelaise</td>\n",
       "      <td>https://cooking.nytimes.com/recipes/30-veal-sc...</td>\n",
       "      <td>['12 slices veal scaloppine, about 1 1/4 pound...</td>\n",
       "      <td>[veal, mushroom, olive oil, pea, oil, flour, p...</td>\n",
       "    </tr>\n",
       "    <tr>\n",
       "      <th>22072</th>\n",
       "      <td>Mushroom and Meat Loaf</td>\n",
       "      <td>https://cooking.nytimes.com/recipes/28-mushroo...</td>\n",
       "      <td>['1/2 pound mushrooms', '1 tablespoon butter',...</td>\n",
       "      <td>[mushroom, butter, onion, pork, veal, nutmeg, ...</td>\n",
       "    </tr>\n",
       "    <tr>\n",
       "      <th>22073</th>\n",
       "      <td>Mushroom and Pepper Salad</td>\n",
       "      <td>https://cooking.nytimes.com/recipes/29-mushroo...</td>\n",
       "      <td>['1 large sweet red pepper, about 1/2 pound', ...</td>\n",
       "      <td>[red pepper, green pepper, celery, mushroom, s...</td>\n",
       "    </tr>\n",
       "    <tr>\n",
       "      <th>22074</th>\n",
       "      <td>Stuffed Mushrooms</td>\n",
       "      <td>https://cooking.nytimes.com/recipes/27-stuffed...</td>\n",
       "      <td>['1 1/4 pounds mushrooms', '4 tablespoons butt...</td>\n",
       "      <td>[mushroom, butter, lemon, pepper, shallot, min...</td>\n",
       "    </tr>\n",
       "  </tbody>\n",
       "</table>\n",
       "<p>22075 rows × 4 columns</p>\n",
       "</div>"
      ],
      "text/plain": [
       "                                                  name  \\\n",
       "0         Harissa-Roasted Sweet Potatoes and Red Onion   \n",
       "1           Tofu and Mushroom Jorim (Soy-Braised Tofu)   \n",
       "2                Roasted Chicken With Crispy Mushrooms   \n",
       "3                      Chocolate Pumpkin Swirl Muffins   \n",
       "4               Pasta e Patate (Pasta and Potato Soup)   \n",
       "...                                                ...   \n",
       "22070  Mushrooms in Marsala Wine (Funghi Alla Marsala)   \n",
       "22071        Veal Scaloppine With Mushrooms Bordelaise   \n",
       "22072                           Mushroom and Meat Loaf   \n",
       "22073                        Mushroom and Pepper Salad   \n",
       "22074                                Stuffed Mushrooms   \n",
       "\n",
       "                                                     url  \\\n",
       "0      https://cooking.nytimes.com/recipes/1023541-ha...   \n",
       "1      https://cooking.nytimes.com/recipes/1023476-to...   \n",
       "2      https://cooking.nytimes.com/recipes/1023551-ro...   \n",
       "3      https://cooking.nytimes.com/recipes/1023565-ch...   \n",
       "4      https://cooking.nytimes.com/recipes/1023564-pa...   \n",
       "...                                                  ...   \n",
       "22070  https://cooking.nytimes.com/recipes/31-mushroo...   \n",
       "22071  https://cooking.nytimes.com/recipes/30-veal-sc...   \n",
       "22072  https://cooking.nytimes.com/recipes/28-mushroo...   \n",
       "22073  https://cooking.nytimes.com/recipes/29-mushroo...   \n",
       "22074  https://cooking.nytimes.com/recipes/27-stuffed...   \n",
       "\n",
       "                                             ingredients  \\\n",
       "0      ['3 medium sweet potatoes, washed and trimmed,...   \n",
       "1      ['1/3 cup low-sodium soy sauce', '5 garlic clo...   \n",
       "2      ['2 to 2 1/4 pounds boneless, skinless chicken...   \n",
       "3      ['2 cups/256 grams all-purpose flour', '1 tabl...   \n",
       "4      ['1/3 cup extra-virgin olive oil', '1 large ye...   \n",
       "...                                                  ...   \n",
       "22070  ['1 ounce dried mushrooms, preferably imported...   \n",
       "22071  ['12 slices veal scaloppine, about 1 1/4 pound...   \n",
       "22072  ['1/2 pound mushrooms', '1 tablespoon butter',...   \n",
       "22073  ['1 large sweet red pepper, about 1/2 pound', ...   \n",
       "22074  ['1 1/4 pounds mushrooms', '4 tablespoons butt...   \n",
       "\n",
       "                                                 cleaned  \n",
       "0      [sweet potato, red onion, olive oil, ground cu...  \n",
       "1      [soy sauce, clove, ginger, scallion, scallion,...  \n",
       "2      [chicken thigh, black pepper, clove, thyme, th...  \n",
       "3      [flour, cinnamon, baking powder, kosher salt, ...  \n",
       "4      [olive oil, yellow onion, carrot, celery, clov...  \n",
       "...                                                  ...  \n",
       "22070  [mushroom, mushroom, water, olive oil, minced ...  \n",
       "22071  [veal, mushroom, olive oil, pea, oil, flour, p...  \n",
       "22072  [mushroom, butter, onion, pork, veal, nutmeg, ...  \n",
       "22073  [red pepper, green pepper, celery, mushroom, s...  \n",
       "22074  [mushroom, butter, lemon, pepper, shallot, min...  \n",
       "\n",
       "[22075 rows x 4 columns]"
      ]
     },
     "execution_count": 15,
     "metadata": {},
     "output_type": "execute_result"
    }
   ],
   "source": [
    "nyt"
   ]
  },
  {
   "cell_type": "markdown",
   "id": "8203f803",
   "metadata": {},
   "source": [
    "Whew, that was fast. This is enough to work with for now."
   ]
  },
  {
   "cell_type": "code",
   "execution_count": 17,
   "id": "2eeeaecb",
   "metadata": {},
   "outputs": [],
   "source": [
    "nyt.to_csv('nyt_cleaned.csv', sep ='|', index = False)"
   ]
  },
  {
   "cell_type": "code",
   "execution_count": 278,
   "id": "36a87550",
   "metadata": {},
   "outputs": [],
   "source": [
    "nyt = pd.read_csv('nyt_cleaned.csv', sep = '|')"
   ]
  },
  {
   "cell_type": "code",
   "execution_count": 279,
   "id": "99a021c0",
   "metadata": {},
   "outputs": [
    {
     "data": {
      "text/html": [
       "<div>\n",
       "<style scoped>\n",
       "    .dataframe tbody tr th:only-of-type {\n",
       "        vertical-align: middle;\n",
       "    }\n",
       "\n",
       "    .dataframe tbody tr th {\n",
       "        vertical-align: top;\n",
       "    }\n",
       "\n",
       "    .dataframe thead th {\n",
       "        text-align: right;\n",
       "    }\n",
       "</style>\n",
       "<table border=\"1\" class=\"dataframe\">\n",
       "  <thead>\n",
       "    <tr style=\"text-align: right;\">\n",
       "      <th></th>\n",
       "      <th>name</th>\n",
       "      <th>url</th>\n",
       "      <th>ingredients</th>\n",
       "      <th>cleaned</th>\n",
       "    </tr>\n",
       "  </thead>\n",
       "  <tbody>\n",
       "    <tr>\n",
       "      <th>0</th>\n",
       "      <td>Harissa-Roasted Sweet Potatoes and Red Onion</td>\n",
       "      <td>https://cooking.nytimes.com/recipes/1023541-ha...</td>\n",
       "      <td>['3 medium sweet potatoes, washed and trimmed,...</td>\n",
       "      <td>['sweet potato', 'red onion', 'olive oil', 'gr...</td>\n",
       "    </tr>\n",
       "    <tr>\n",
       "      <th>1</th>\n",
       "      <td>Tofu and Mushroom Jorim (Soy-Braised Tofu)</td>\n",
       "      <td>https://cooking.nytimes.com/recipes/1023476-to...</td>\n",
       "      <td>['1/3 cup low-sodium soy sauce', '5 garlic clo...</td>\n",
       "      <td>['soy sauce', 'clove', 'ginger', 'scallion', '...</td>\n",
       "    </tr>\n",
       "    <tr>\n",
       "      <th>2</th>\n",
       "      <td>Roasted Chicken With Crispy Mushrooms</td>\n",
       "      <td>https://cooking.nytimes.com/recipes/1023551-ro...</td>\n",
       "      <td>['2 to 2 1/4 pounds boneless, skinless chicken...</td>\n",
       "      <td>['chicken thigh', 'black pepper', 'clove', 'th...</td>\n",
       "    </tr>\n",
       "    <tr>\n",
       "      <th>3</th>\n",
       "      <td>Chocolate Pumpkin Swirl Muffins</td>\n",
       "      <td>https://cooking.nytimes.com/recipes/1023565-ch...</td>\n",
       "      <td>['2 cups/256 grams all-purpose flour', '1 tabl...</td>\n",
       "      <td>['flour', 'cinnamon', 'baking powder', 'kosher...</td>\n",
       "    </tr>\n",
       "    <tr>\n",
       "      <th>4</th>\n",
       "      <td>Pasta e Patate (Pasta and Potato Soup)</td>\n",
       "      <td>https://cooking.nytimes.com/recipes/1023564-pa...</td>\n",
       "      <td>['1/3 cup extra-virgin olive oil', '1 large ye...</td>\n",
       "      <td>['olive oil', 'yellow onion', 'carrot', 'celer...</td>\n",
       "    </tr>\n",
       "    <tr>\n",
       "      <th>...</th>\n",
       "      <td>...</td>\n",
       "      <td>...</td>\n",
       "      <td>...</td>\n",
       "      <td>...</td>\n",
       "    </tr>\n",
       "    <tr>\n",
       "      <th>22070</th>\n",
       "      <td>Mushrooms in Marsala Wine (Funghi Alla Marsala)</td>\n",
       "      <td>https://cooking.nytimes.com/recipes/31-mushroo...</td>\n",
       "      <td>['1 ounce dried mushrooms, preferably imported...</td>\n",
       "      <td>['mushroom', 'mushroom', 'water', 'olive oil',...</td>\n",
       "    </tr>\n",
       "    <tr>\n",
       "      <th>22071</th>\n",
       "      <td>Veal Scaloppine With Mushrooms Bordelaise</td>\n",
       "      <td>https://cooking.nytimes.com/recipes/30-veal-sc...</td>\n",
       "      <td>['12 slices veal scaloppine, about 1 1/4 pound...</td>\n",
       "      <td>['veal', 'mushroom', 'olive oil', 'pea', 'oil'...</td>\n",
       "    </tr>\n",
       "    <tr>\n",
       "      <th>22072</th>\n",
       "      <td>Mushroom and Meat Loaf</td>\n",
       "      <td>https://cooking.nytimes.com/recipes/28-mushroo...</td>\n",
       "      <td>['1/2 pound mushrooms', '1 tablespoon butter',...</td>\n",
       "      <td>['mushroom', 'butter', 'onion', 'pork', 'veal'...</td>\n",
       "    </tr>\n",
       "    <tr>\n",
       "      <th>22073</th>\n",
       "      <td>Mushroom and Pepper Salad</td>\n",
       "      <td>https://cooking.nytimes.com/recipes/29-mushroo...</td>\n",
       "      <td>['1 large sweet red pepper, about 1/2 pound', ...</td>\n",
       "      <td>['red pepper', 'green pepper', 'celery', 'mush...</td>\n",
       "    </tr>\n",
       "    <tr>\n",
       "      <th>22074</th>\n",
       "      <td>Stuffed Mushrooms</td>\n",
       "      <td>https://cooking.nytimes.com/recipes/27-stuffed...</td>\n",
       "      <td>['1 1/4 pounds mushrooms', '4 tablespoons butt...</td>\n",
       "      <td>['mushroom', 'butter', 'lemon', 'pepper', 'sha...</td>\n",
       "    </tr>\n",
       "  </tbody>\n",
       "</table>\n",
       "<p>22075 rows × 4 columns</p>\n",
       "</div>"
      ],
      "text/plain": [
       "                                                  name  \\\n",
       "0         Harissa-Roasted Sweet Potatoes and Red Onion   \n",
       "1           Tofu and Mushroom Jorim (Soy-Braised Tofu)   \n",
       "2                Roasted Chicken With Crispy Mushrooms   \n",
       "3                      Chocolate Pumpkin Swirl Muffins   \n",
       "4               Pasta e Patate (Pasta and Potato Soup)   \n",
       "...                                                ...   \n",
       "22070  Mushrooms in Marsala Wine (Funghi Alla Marsala)   \n",
       "22071        Veal Scaloppine With Mushrooms Bordelaise   \n",
       "22072                           Mushroom and Meat Loaf   \n",
       "22073                        Mushroom and Pepper Salad   \n",
       "22074                                Stuffed Mushrooms   \n",
       "\n",
       "                                                     url  \\\n",
       "0      https://cooking.nytimes.com/recipes/1023541-ha...   \n",
       "1      https://cooking.nytimes.com/recipes/1023476-to...   \n",
       "2      https://cooking.nytimes.com/recipes/1023551-ro...   \n",
       "3      https://cooking.nytimes.com/recipes/1023565-ch...   \n",
       "4      https://cooking.nytimes.com/recipes/1023564-pa...   \n",
       "...                                                  ...   \n",
       "22070  https://cooking.nytimes.com/recipes/31-mushroo...   \n",
       "22071  https://cooking.nytimes.com/recipes/30-veal-sc...   \n",
       "22072  https://cooking.nytimes.com/recipes/28-mushroo...   \n",
       "22073  https://cooking.nytimes.com/recipes/29-mushroo...   \n",
       "22074  https://cooking.nytimes.com/recipes/27-stuffed...   \n",
       "\n",
       "                                             ingredients  \\\n",
       "0      ['3 medium sweet potatoes, washed and trimmed,...   \n",
       "1      ['1/3 cup low-sodium soy sauce', '5 garlic clo...   \n",
       "2      ['2 to 2 1/4 pounds boneless, skinless chicken...   \n",
       "3      ['2 cups/256 grams all-purpose flour', '1 tabl...   \n",
       "4      ['1/3 cup extra-virgin olive oil', '1 large ye...   \n",
       "...                                                  ...   \n",
       "22070  ['1 ounce dried mushrooms, preferably imported...   \n",
       "22071  ['12 slices veal scaloppine, about 1 1/4 pound...   \n",
       "22072  ['1/2 pound mushrooms', '1 tablespoon butter',...   \n",
       "22073  ['1 large sweet red pepper, about 1/2 pound', ...   \n",
       "22074  ['1 1/4 pounds mushrooms', '4 tablespoons butt...   \n",
       "\n",
       "                                                 cleaned  \n",
       "0      ['sweet potato', 'red onion', 'olive oil', 'gr...  \n",
       "1      ['soy sauce', 'clove', 'ginger', 'scallion', '...  \n",
       "2      ['chicken thigh', 'black pepper', 'clove', 'th...  \n",
       "3      ['flour', 'cinnamon', 'baking powder', 'kosher...  \n",
       "4      ['olive oil', 'yellow onion', 'carrot', 'celer...  \n",
       "...                                                  ...  \n",
       "22070  ['mushroom', 'mushroom', 'water', 'olive oil',...  \n",
       "22071  ['veal', 'mushroom', 'olive oil', 'pea', 'oil'...  \n",
       "22072  ['mushroom', 'butter', 'onion', 'pork', 'veal'...  \n",
       "22073  ['red pepper', 'green pepper', 'celery', 'mush...  \n",
       "22074  ['mushroom', 'butter', 'lemon', 'pepper', 'sha...  \n",
       "\n",
       "[22075 rows x 4 columns]"
      ]
     },
     "execution_count": 279,
     "metadata": {},
     "output_type": "execute_result"
    }
   ],
   "source": [
    "nyt"
   ]
  },
  {
   "cell_type": "code",
   "execution_count": 280,
   "id": "834c7328",
   "metadata": {},
   "outputs": [],
   "source": [
    "finaldf = pd.concat([data, nyt], axis = 0)"
   ]
  },
  {
   "cell_type": "code",
   "execution_count": 282,
   "id": "6d341d67",
   "metadata": {},
   "outputs": [
    {
     "data": {
      "text/plain": [
       "name           1\n",
       "url            0\n",
       "ingredients    0\n",
       "cleaned        0\n",
       "dtype: int64"
      ]
     },
     "execution_count": 282,
     "metadata": {},
     "output_type": "execute_result"
    }
   ],
   "source": [
    "finaldf.isna().sum()"
   ]
  },
  {
   "cell_type": "code",
   "execution_count": 283,
   "id": "dba3bb71",
   "metadata": {},
   "outputs": [
    {
     "data": {
      "text/html": [
       "<div>\n",
       "<style scoped>\n",
       "    .dataframe tbody tr th:only-of-type {\n",
       "        vertical-align: middle;\n",
       "    }\n",
       "\n",
       "    .dataframe tbody tr th {\n",
       "        vertical-align: top;\n",
       "    }\n",
       "\n",
       "    .dataframe thead th {\n",
       "        text-align: right;\n",
       "    }\n",
       "</style>\n",
       "<table border=\"1\" class=\"dataframe\">\n",
       "  <thead>\n",
       "    <tr style=\"text-align: right;\">\n",
       "      <th></th>\n",
       "      <th>name</th>\n",
       "      <th>url</th>\n",
       "      <th>ingredients</th>\n",
       "      <th>cleaned</th>\n",
       "    </tr>\n",
       "  </thead>\n",
       "  <tbody>\n",
       "    <tr>\n",
       "      <th>721</th>\n",
       "      <td>NaN</td>\n",
       "      <td>https://www.food.com/recipe/368257</td>\n",
       "      <td>['lemon', 'honey', 'horseradish mustard', 'gar...</td>\n",
       "      <td>[lemon, honey, horseradish, clove, parsley, ba...</td>\n",
       "    </tr>\n",
       "  </tbody>\n",
       "</table>\n",
       "</div>"
      ],
      "text/plain": [
       "    name                                 url  \\\n",
       "721  NaN  https://www.food.com/recipe/368257   \n",
       "\n",
       "                                           ingredients  \\\n",
       "721  ['lemon', 'honey', 'horseradish mustard', 'gar...   \n",
       "\n",
       "                                               cleaned  \n",
       "721  [lemon, honey, horseradish, clove, parsley, ba...  "
      ]
     },
     "execution_count": 283,
     "metadata": {},
     "output_type": "execute_result"
    }
   ],
   "source": [
    "finaldf[finaldf['name'].isna()]"
   ]
  },
  {
   "cell_type": "code",
   "execution_count": 287,
   "id": "c7fb01d3",
   "metadata": {},
   "outputs": [],
   "source": [
    "finaldf.reset_index(drop=True, inplace = True)"
   ]
  },
  {
   "cell_type": "code",
   "execution_count": 289,
   "id": "0cca86ab",
   "metadata": {},
   "outputs": [],
   "source": [
    "finaldf['name'][721] = 'honey-mustard dressing'"
   ]
  },
  {
   "cell_type": "markdown",
   "id": "ee15d252",
   "metadata": {},
   "source": [
    "The user who uploaded that particular recipe did not include a title..."
   ]
  },
  {
   "cell_type": "code",
   "execution_count": 291,
   "id": "5dce9aa8",
   "metadata": {},
   "outputs": [
    {
     "data": {
      "text/plain": [
       "720              hawaiian sunrise           mimosa\n",
       "721                         honey-mustard dressing\n",
       "722                            4 cheese baked ziti\n",
       "723    baked potato   baked  microwaved or grilled\n",
       "724                             light   berry loaf\n",
       "Name: name, dtype: object"
      ]
     },
     "execution_count": 291,
     "metadata": {},
     "output_type": "execute_result"
    }
   ],
   "source": [
    "finaldf['name'][720:725]"
   ]
  },
  {
   "cell_type": "code",
   "execution_count": 292,
   "id": "75624c15",
   "metadata": {},
   "outputs": [],
   "source": [
    "finaldf.to_csv('dataframe.csv', index = False, sep = '|')"
   ]
  },
  {
   "cell_type": "markdown",
   "id": "a19d11fe",
   "metadata": {},
   "source": [
    "That is it for the first round of cleaning. And here is some work that remains to be done: "
   ]
  },
  {
   "cell_type": "markdown",
   "id": "34708256",
   "metadata": {},
   "source": [
    "- Finetune the masterlist with ingredients. Since it is the backbone of the cleaning process, the better it is, the better my system will be. \n",
    "    - Remove items with no values (this will be easier down the line, once I have a matrix with ones and zeroes)\n",
    "    - Add new items\n",
    "    - Prune existing items even more\n",
    "- Also, since the final user interface will use the masterlist of ingredients, the better it is, the easier it is to accept a wide range of inputs. \n",
    "- Put all the above into an easily re-usable pipeline. I may decide to scrape even more recipes, and then it would be great to just be able to run a single function to clean it. But this is a case of YAGNI - it is very probable that any new dataset would follow a different formatting, making the whole process entirely different. So I will cross that bridge when I get there. "
   ]
  }
 ],
 "metadata": {
  "kernelspec": {
   "display_name": "Python 3 (ipykernel)",
   "language": "python",
   "name": "python3"
  },
  "language_info": {
   "codemirror_mode": {
    "name": "ipython",
    "version": 3
   },
   "file_extension": ".py",
   "mimetype": "text/x-python",
   "name": "python",
   "nbconvert_exporter": "python",
   "pygments_lexer": "ipython3",
   "version": "3.10.6"
  }
 },
 "nbformat": 4,
 "nbformat_minor": 5
}
