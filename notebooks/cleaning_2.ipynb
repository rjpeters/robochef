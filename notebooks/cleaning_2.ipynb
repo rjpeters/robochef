{
 "cells": [
  {
   "cell_type": "markdown",
   "id": "e443c064",
   "metadata": {},
   "source": [
    "# Some more pruning"
   ]
  },
  {
   "cell_type": "code",
   "execution_count": 218,
   "id": "f110d5ed",
   "metadata": {},
   "outputs": [],
   "source": [
    "import pandas as pd\n",
    "import numpy as np"
   ]
  },
  {
   "cell_type": "code",
   "execution_count": 219,
   "id": "2dbf73e8",
   "metadata": {},
   "outputs": [],
   "source": [
    "df = pd.read_csv('kagglerecipes/RAW_recipes.csv')"
   ]
  },
  {
   "cell_type": "code",
   "execution_count": 220,
   "id": "1e732626",
   "metadata": {},
   "outputs": [],
   "source": [
    "df = df[['name', 'id', 'ingredients']].copy()"
   ]
  },
  {
   "cell_type": "code",
   "execution_count": 221,
   "id": "8939e0e9",
   "metadata": {},
   "outputs": [
    {
     "data": {
      "text/html": [
       "<div>\n",
       "<style scoped>\n",
       "    .dataframe tbody tr th:only-of-type {\n",
       "        vertical-align: middle;\n",
       "    }\n",
       "\n",
       "    .dataframe tbody tr th {\n",
       "        vertical-align: top;\n",
       "    }\n",
       "\n",
       "    .dataframe thead th {\n",
       "        text-align: right;\n",
       "    }\n",
       "</style>\n",
       "<table border=\"1\" class=\"dataframe\">\n",
       "  <thead>\n",
       "    <tr style=\"text-align: right;\">\n",
       "      <th></th>\n",
       "      <th>name</th>\n",
       "      <th>id</th>\n",
       "      <th>ingredients</th>\n",
       "    </tr>\n",
       "  </thead>\n",
       "  <tbody>\n",
       "    <tr>\n",
       "      <th>0</th>\n",
       "      <td>arriba   baked winter squash mexican style</td>\n",
       "      <td>137739</td>\n",
       "      <td>['winter squash', 'mexican seasoning', 'mixed ...</td>\n",
       "    </tr>\n",
       "    <tr>\n",
       "      <th>1</th>\n",
       "      <td>a bit different  breakfast pizza</td>\n",
       "      <td>31490</td>\n",
       "      <td>['prepared pizza crust', 'sausage patty', 'egg...</td>\n",
       "    </tr>\n",
       "    <tr>\n",
       "      <th>2</th>\n",
       "      <td>all in the kitchen  chili</td>\n",
       "      <td>112140</td>\n",
       "      <td>['ground beef', 'yellow onions', 'diced tomato...</td>\n",
       "    </tr>\n",
       "    <tr>\n",
       "      <th>3</th>\n",
       "      <td>alouette  potatoes</td>\n",
       "      <td>59389</td>\n",
       "      <td>['spreadable cheese with garlic and herbs', 'n...</td>\n",
       "    </tr>\n",
       "    <tr>\n",
       "      <th>4</th>\n",
       "      <td>amish  tomato ketchup  for canning</td>\n",
       "      <td>44061</td>\n",
       "      <td>['tomato juice', 'apple cider vinegar', 'sugar...</td>\n",
       "    </tr>\n",
       "    <tr>\n",
       "      <th>...</th>\n",
       "      <td>...</td>\n",
       "      <td>...</td>\n",
       "      <td>...</td>\n",
       "    </tr>\n",
       "    <tr>\n",
       "      <th>231632</th>\n",
       "      <td>zydeco soup</td>\n",
       "      <td>486161</td>\n",
       "      <td>['celery', 'onion', 'green sweet pepper', 'gar...</td>\n",
       "    </tr>\n",
       "    <tr>\n",
       "      <th>231633</th>\n",
       "      <td>zydeco spice mix</td>\n",
       "      <td>493372</td>\n",
       "      <td>['paprika', 'salt', 'garlic powder', 'onion po...</td>\n",
       "    </tr>\n",
       "    <tr>\n",
       "      <th>231634</th>\n",
       "      <td>zydeco ya ya deviled eggs</td>\n",
       "      <td>308080</td>\n",
       "      <td>['hard-cooked eggs', 'mayonnaise', 'dijon must...</td>\n",
       "    </tr>\n",
       "    <tr>\n",
       "      <th>231635</th>\n",
       "      <td>cookies by design   cookies on a stick</td>\n",
       "      <td>298512</td>\n",
       "      <td>['butter', 'eagle brand condensed milk', 'ligh...</td>\n",
       "    </tr>\n",
       "    <tr>\n",
       "      <th>231636</th>\n",
       "      <td>cookies by design   sugar shortbread cookies</td>\n",
       "      <td>298509</td>\n",
       "      <td>['granulated sugar', 'shortening', 'eggs', 'fl...</td>\n",
       "    </tr>\n",
       "  </tbody>\n",
       "</table>\n",
       "<p>231637 rows × 3 columns</p>\n",
       "</div>"
      ],
      "text/plain": [
       "                                                name      id  \\\n",
       "0         arriba   baked winter squash mexican style  137739   \n",
       "1                   a bit different  breakfast pizza   31490   \n",
       "2                          all in the kitchen  chili  112140   \n",
       "3                                 alouette  potatoes   59389   \n",
       "4                 amish  tomato ketchup  for canning   44061   \n",
       "...                                              ...     ...   \n",
       "231632                                   zydeco soup  486161   \n",
       "231633                              zydeco spice mix  493372   \n",
       "231634                     zydeco ya ya deviled eggs  308080   \n",
       "231635        cookies by design   cookies on a stick  298512   \n",
       "231636  cookies by design   sugar shortbread cookies  298509   \n",
       "\n",
       "                                              ingredients  \n",
       "0       ['winter squash', 'mexican seasoning', 'mixed ...  \n",
       "1       ['prepared pizza crust', 'sausage patty', 'egg...  \n",
       "2       ['ground beef', 'yellow onions', 'diced tomato...  \n",
       "3       ['spreadable cheese with garlic and herbs', 'n...  \n",
       "4       ['tomato juice', 'apple cider vinegar', 'sugar...  \n",
       "...                                                   ...  \n",
       "231632  ['celery', 'onion', 'green sweet pepper', 'gar...  \n",
       "231633  ['paprika', 'salt', 'garlic powder', 'onion po...  \n",
       "231634  ['hard-cooked eggs', 'mayonnaise', 'dijon must...  \n",
       "231635  ['butter', 'eagle brand condensed milk', 'ligh...  \n",
       "231636  ['granulated sugar', 'shortening', 'eggs', 'fl...  \n",
       "\n",
       "[231637 rows x 3 columns]"
      ]
     },
     "execution_count": 221,
     "metadata": {},
     "output_type": "execute_result"
    }
   ],
   "source": [
    "df"
   ]
  },
  {
   "cell_type": "code",
   "execution_count": 222,
   "id": "6e405c76",
   "metadata": {},
   "outputs": [],
   "source": [
    "ingredients = []\n",
    "for row in df['ingredients']:\n",
    "    row = row.replace('[\\'', '\\']')\n",
    "    row = row.replace(']', '') \n",
    "    items = row.split(', ')\n",
    "    for item in items: \n",
    "        ingredients.append(item.replace('\\'', ''))"
   ]
  },
  {
   "cell_type": "code",
   "execution_count": 223,
   "id": "c412d2d7",
   "metadata": {},
   "outputs": [
    {
     "data": {
      "text/plain": [
       "2103719"
      ]
     },
     "execution_count": 223,
     "metadata": {},
     "output_type": "execute_result"
    }
   ],
   "source": [
    "len(ingredients)"
   ]
  },
  {
   "cell_type": "code",
   "execution_count": 224,
   "id": "a688f36a",
   "metadata": {},
   "outputs": [
    {
     "data": {
      "text/plain": [
       "14968"
      ]
     },
     "execution_count": 224,
     "metadata": {},
     "output_type": "execute_result"
    }
   ],
   "source": [
    "len(set(ingredients))"
   ]
  },
  {
   "cell_type": "code",
   "execution_count": 225,
   "id": "c666ca0e",
   "metadata": {},
   "outputs": [],
   "source": [
    "#ingredients[0:100]"
   ]
  },
  {
   "cell_type": "markdown",
   "id": "5f3ebb74",
   "metadata": {},
   "source": [
    "#### What would removing sneaky duplicates do?"
   ]
  },
  {
   "cell_type": "code",
   "execution_count": 226,
   "id": "1e99a91a",
   "metadata": {},
   "outputs": [],
   "source": [
    "ingrsets = []\n",
    "for item in ingredients: \n",
    "    ingrsets.append(frozenset(item))"
   ]
  },
  {
   "cell_type": "code",
   "execution_count": 227,
   "id": "052426cf",
   "metadata": {},
   "outputs": [
    {
     "data": {
      "text/plain": [
       "2103719"
      ]
     },
     "execution_count": 227,
     "metadata": {},
     "output_type": "execute_result"
    }
   ],
   "source": [
    "len(ingrsets)"
   ]
  },
  {
   "cell_type": "code",
   "execution_count": 228,
   "id": "b73275a3",
   "metadata": {},
   "outputs": [
    {
     "data": {
      "text/plain": [
       "13406"
      ]
     },
     "execution_count": 228,
     "metadata": {},
     "output_type": "execute_result"
    }
   ],
   "source": [
    "len(set(ingrsets))"
   ]
  },
  {
   "cell_type": "markdown",
   "id": "4c874cbe",
   "metadata": {},
   "source": [
    "#### Ok, that's something"
   ]
  },
  {
   "cell_type": "code",
   "execution_count": 1,
   "id": "8d588510",
   "metadata": {},
   "outputs": [],
   "source": [
    "#ingredients"
   ]
  },
  {
   "cell_type": "markdown",
   "id": "f6073706",
   "metadata": {},
   "source": [
    "### I will check how many words each entry has. The more it has, the more likely that it can be reduced"
   ]
  },
  {
   "cell_type": "code",
   "execution_count": 32,
   "id": "491548f7",
   "metadata": {},
   "outputs": [],
   "source": [
    "lengths = []\n",
    "for item in ingredients: \n",
    "    itemlist = item.split(' ')\n",
    "    lengths.append(len(itemlist))"
   ]
  },
  {
   "cell_type": "code",
   "execution_count": 37,
   "id": "890d3f82",
   "metadata": {},
   "outputs": [
    {
     "data": {
      "text/plain": [
       "2     980541\n",
       "1     805945\n",
       "3     239079\n",
       "4      62491\n",
       "5       9738\n",
       "6       4895\n",
       "7        730\n",
       "8        249\n",
       "9         33\n",
       "11         9\n",
       "10         8\n",
       "12         1\n",
       "dtype: int64"
      ]
     },
     "execution_count": 37,
     "metadata": {},
     "output_type": "execute_result"
    }
   ],
   "source": [
    "pd.value_counts(lengths)"
   ]
  },
  {
   "cell_type": "markdown",
   "id": "115d793e",
   "metadata": {},
   "source": [
    "I'll clean everything that has 5 and up, saving the shorter ones for (maybe) later"
   ]
  },
  {
   "cell_type": "code",
   "execution_count": 38,
   "id": "358d6594",
   "metadata": {},
   "outputs": [],
   "source": [
    "zipper = list(zip(ingredients, lengths))"
   ]
  },
  {
   "cell_type": "code",
   "execution_count": 40,
   "id": "bd2e6b48",
   "metadata": {},
   "outputs": [],
   "source": [
    "toclean = []\n",
    "shorts = []\n",
    "for item in zipper: \n",
    "    if item[1] >= 5:\n",
    "        toclean.append(item[0])\n",
    "    else: \n",
    "        shorts.append(item[0])\n",
    "        "
   ]
  },
  {
   "cell_type": "code",
   "execution_count": 47,
   "id": "78bc1155",
   "metadata": {},
   "outputs": [],
   "source": [
    "toclean2 = (list(set(toclean)))"
   ]
  },
  {
   "cell_type": "code",
   "execution_count": 62,
   "id": "3e69b6e7",
   "metadata": {},
   "outputs": [],
   "source": [
    "sortshort = sorted(shorts, key = len)"
   ]
  },
  {
   "cell_type": "code",
   "execution_count": 63,
   "id": "5bebdf3b",
   "metadata": {},
   "outputs": [],
   "source": [
    "sortshort.reverse()"
   ]
  },
  {
   "cell_type": "code",
   "execution_count": 65,
   "id": "2bfc1148",
   "metadata": {},
   "outputs": [],
   "source": [
    "sortshort = list(set(sortshort))"
   ]
  },
  {
   "cell_type": "code",
   "execution_count": 67,
   "id": "cbbfaa6d",
   "metadata": {},
   "outputs": [],
   "source": [
    "sortshort = sorted(sortshort, key = len)"
   ]
  },
  {
   "cell_type": "code",
   "execution_count": 72,
   "id": "97e6a9f3",
   "metadata": {},
   "outputs": [
    {
     "data": {
      "text/plain": [
       "13765"
      ]
     },
     "execution_count": 72,
     "metadata": {},
     "output_type": "execute_result"
    }
   ],
   "source": [
    "len(sortshort)"
   ]
  },
  {
   "cell_type": "markdown",
   "id": "b1ba8e53",
   "metadata": {},
   "source": [
    "A list of 'shorter' ingredients, from long to short. I'll now loop over the long ones and check if the substring is in the list of shorter ones. If so, I drop the long one. I'll see which longer ones I end up with. "
   ]
  },
  {
   "cell_type": "code",
   "execution_count": 108,
   "id": "5c63cc14",
   "metadata": {},
   "outputs": [],
   "source": [
    "droplist = []\n",
    "keeplist = []\n",
    "for item in toclean2: \n",
    "    for item2 in sortshort: \n",
    "        if item2 in item: \n",
    "            droplist.append(item)\n",
    "            break\n",
    "        else:\n",
    "            keeplist.append(item)"
   ]
  },
  {
   "cell_type": "code",
   "execution_count": 109,
   "id": "3f4993b7",
   "metadata": {},
   "outputs": [],
   "source": [
    "keep = set(keeplist) - set(droplist)"
   ]
  },
  {
   "cell_type": "code",
   "execution_count": 110,
   "id": "ecd6d835",
   "metadata": {},
   "outputs": [
    {
     "data": {
      "text/plain": [
       "{'\"jack daniels sizzling smokehouse blend grilling sauce\"',\n",
       " '\"jack daniels tennessee hickory mesquite grilling sauce\"',\n",
       " '\"morningstar farms better n burgers\"',\n",
       " '\"smuckers black cherry flavored topping\"',\n",
       " 'complete caesar salad in a bag',\n",
       " 'country bob all purpose sauce',\n",
       " 'dried* and torn into pieces',\n",
       " 'el torito adobo al pastor sauce',\n",
       " 'general foods international suisse mocha cafe',\n",
       " 'hidden valley ranch salad crispins',\n",
       " 'jack daniels black label mix',\n",
       " 'knorr parma rosa sauce mix',\n",
       " 'leaves separated and torn into pieces',\n",
       " 'martha white wild berry muffin mix',\n",
       " 'morningstar farms spicy black bean burgers',\n",
       " 'muscat de beaumes de venise',\n",
       " 'nestl toll house holiday morsels',\n",
       " 'nestl toll house premier white morsel',\n",
       " 'nestl toll house premier white morsels',\n",
       " 'nestle toll house halloween shapes and morsels',\n",
       " 'nestle toll house holiday shapes and morsels',\n",
       " 'pastry for a double-crust 9-inch pie',\n",
       " 'pastry for double-crust deep dish pie',\n",
       " 'philadelphia santa fe blend cooking creme',\n",
       " 'pillsbury crescent recipe creations refrigerated flaky dough sheet',\n",
       " 'pillsbury refrigerated crusty french loaf',\n",
       " 'prego ricotta and parmesan sauce',\n",
       " 'stirrings bloody mary cocktail mixer',\n",
       " 'sweet and sour cocktail mix',\n",
       " 'tall slender 4 cup container',\n",
       " 'zatarains bake and crisp mix'}"
      ]
     },
     "execution_count": 110,
     "metadata": {},
     "output_type": "execute_result"
    }
   ],
   "source": [
    "keep"
   ]
  },
  {
   "cell_type": "markdown",
   "id": "89df90bd",
   "metadata": {},
   "source": [
    "No big loss to dump these. So 'shorts' is now the list I will continue to work with."
   ]
  },
  {
   "cell_type": "code",
   "execution_count": 81,
   "id": "72606b93",
   "metadata": {},
   "outputs": [
    {
     "data": {
      "text/plain": [
       "False"
      ]
     },
     "execution_count": 81,
     "metadata": {},
     "output_type": "execute_result"
    }
   ],
   "source": [
    "'ricotta' in shorts"
   ]
  },
  {
   "cell_type": "code",
   "execution_count": 82,
   "id": "08641a05",
   "metadata": {},
   "outputs": [
    {
     "data": {
      "text/plain": [
       "False"
      ]
     },
     "execution_count": 82,
     "metadata": {},
     "output_type": "execute_result"
    }
   ],
   "source": [
    "'berry' in shorts"
   ]
  },
  {
   "cell_type": "code",
   "execution_count": 86,
   "id": "d93f7b46",
   "metadata": {},
   "outputs": [],
   "source": [
    "shorts.append('ricotta')"
   ]
  },
  {
   "cell_type": "code",
   "execution_count": 87,
   "id": "5c319585",
   "metadata": {},
   "outputs": [],
   "source": [
    "shorts.append('berry')"
   ]
  },
  {
   "cell_type": "code",
   "execution_count": 88,
   "id": "2f2254d6",
   "metadata": {},
   "outputs": [
    {
     "data": {
      "text/plain": [
       "13767"
      ]
     },
     "execution_count": 88,
     "metadata": {},
     "output_type": "execute_result"
    }
   ],
   "source": [
    "len(set(shorts))"
   ]
  },
  {
   "cell_type": "code",
   "execution_count": 84,
   "id": "aeb6a3c1",
   "metadata": {},
   "outputs": [
    {
     "data": {
      "text/plain": [
       "True"
      ]
     },
     "execution_count": 84,
     "metadata": {},
     "output_type": "execute_result"
    }
   ],
   "source": [
    "'beans' in shorts"
   ]
  },
  {
   "cell_type": "code",
   "execution_count": 106,
   "id": "5f1b9b01",
   "metadata": {},
   "outputs": [],
   "source": [
    "fours = []\n",
    "shorts2 = []\n",
    "for item in zipper: \n",
    "    if item[1] > 3:\n",
    "        fours.append(item[0])\n",
    "    else: \n",
    "        shorts2.append(item[0])\n",
    "        "
   ]
  },
  {
   "cell_type": "code",
   "execution_count": 99,
   "id": "16cbd9e9",
   "metadata": {},
   "outputs": [
    {
     "data": {
      "text/plain": [
       "11904"
      ]
     },
     "execution_count": 99,
     "metadata": {},
     "output_type": "execute_result"
    }
   ],
   "source": [
    "len(set(shorts2))"
   ]
  },
  {
   "cell_type": "code",
   "execution_count": 100,
   "id": "55c6c965",
   "metadata": {},
   "outputs": [],
   "source": [
    "checker = []\n",
    "for item in shorts2:\n",
    "    checker.append(frozenset(item))"
   ]
  },
  {
   "cell_type": "code",
   "execution_count": 101,
   "id": "0ef08727",
   "metadata": {},
   "outputs": [
    {
     "data": {
      "text/plain": [
       "10746"
      ]
     },
     "execution_count": 101,
     "metadata": {},
     "output_type": "execute_result"
    }
   ],
   "source": [
    "len(set(checker))"
   ]
  },
  {
   "cell_type": "markdown",
   "id": "1cbf73b1",
   "metadata": {},
   "source": [
    "I checked, and items with four words have a lot more sensible stuff in there. Instead of brute-forcing it out, I'll look at the frequencies - items that occur often can (probably) stay, and I'll focus on the bottom of the barrel"
   ]
  },
  {
   "cell_type": "code",
   "execution_count": 120,
   "id": "e7947c67",
   "metadata": {},
   "outputs": [],
   "source": [
    "newdf = pd.DataFrame(pd.value_counts(fours)).reset_index()"
   ]
  },
  {
   "cell_type": "code",
   "execution_count": 122,
   "id": "d6506365",
   "metadata": {},
   "outputs": [
    {
     "data": {
      "text/html": [
       "<div>\n",
       "<style scoped>\n",
       "    .dataframe tbody tr th:only-of-type {\n",
       "        vertical-align: middle;\n",
       "    }\n",
       "\n",
       "    .dataframe tbody tr th {\n",
       "        vertical-align: top;\n",
       "    }\n",
       "\n",
       "    .dataframe thead th {\n",
       "        text-align: right;\n",
       "    }\n",
       "</style>\n",
       "<table border=\"1\" class=\"dataframe\">\n",
       "  <thead>\n",
       "    <tr style=\"text-align: right;\">\n",
       "      <th></th>\n",
       "      <th>index</th>\n",
       "      <th>0</th>\n",
       "    </tr>\n",
       "  </thead>\n",
       "  <tbody>\n",
       "    <tr>\n",
       "      <th>0</th>\n",
       "      <td>extra virgin olive oil</td>\n",
       "      <td>7704</td>\n",
       "    </tr>\n",
       "    <tr>\n",
       "      <th>1</th>\n",
       "      <td>fresh ground black pepper</td>\n",
       "      <td>7160</td>\n",
       "    </tr>\n",
       "    <tr>\n",
       "      <th>2</th>\n",
       "      <td>boneless skinless chicken breasts</td>\n",
       "      <td>3994</td>\n",
       "    </tr>\n",
       "    <tr>\n",
       "      <th>3</th>\n",
       "      <td>salt &amp; freshly ground black pepper</td>\n",
       "      <td>3123</td>\n",
       "    </tr>\n",
       "    <tr>\n",
       "      <th>4</th>\n",
       "      <td>crushed red pepper flakes</td>\n",
       "      <td>2936</td>\n",
       "    </tr>\n",
       "    <tr>\n",
       "      <th>...</th>\n",
       "      <td>...</td>\n",
       "      <td>...</td>\n",
       "    </tr>\n",
       "    <tr>\n",
       "      <th>3059</th>\n",
       "      <td>frozen macaroni and cheese</td>\n",
       "      <td>1</td>\n",
       "    </tr>\n",
       "    <tr>\n",
       "      <th>3060</th>\n",
       "      <td>cooked lean ground turkey</td>\n",
       "      <td>1</td>\n",
       "    </tr>\n",
       "    <tr>\n",
       "      <th>3061</th>\n",
       "      <td>multi-grain flakes cereal with oat clusters cr...</td>\n",
       "      <td>1</td>\n",
       "    </tr>\n",
       "    <tr>\n",
       "      <th>3062</th>\n",
       "      <td>skinless boneless pheasant breast halves</td>\n",
       "      <td>1</td>\n",
       "    </tr>\n",
       "    <tr>\n",
       "      <th>3063</th>\n",
       "      <td>\"hunts fire roasted diced tomatoes\"</td>\n",
       "      <td>1</td>\n",
       "    </tr>\n",
       "  </tbody>\n",
       "</table>\n",
       "<p>3064 rows × 2 columns</p>\n",
       "</div>"
      ],
      "text/plain": [
       "                                                  index     0\n",
       "0                                extra virgin olive oil  7704\n",
       "1                             fresh ground black pepper  7160\n",
       "2                     boneless skinless chicken breasts  3994\n",
       "3                    salt & freshly ground black pepper  3123\n",
       "4                             crushed red pepper flakes  2936\n",
       "...                                                 ...   ...\n",
       "3059                         frozen macaroni and cheese     1\n",
       "3060                          cooked lean ground turkey     1\n",
       "3061  multi-grain flakes cereal with oat clusters cr...     1\n",
       "3062           skinless boneless pheasant breast halves     1\n",
       "3063                \"hunts fire roasted diced tomatoes\"     1\n",
       "\n",
       "[3064 rows x 2 columns]"
      ]
     },
     "execution_count": 122,
     "metadata": {},
     "output_type": "execute_result"
    }
   ],
   "source": [
    "newdf"
   ]
  },
  {
   "cell_type": "code",
   "execution_count": 127,
   "id": "fa823cb2",
   "metadata": {},
   "outputs": [],
   "source": [
    "lows = newdf[newdf[0] < 50]"
   ]
  },
  {
   "cell_type": "markdown",
   "id": "149ead00",
   "metadata": {},
   "source": [
    "I'll deal with the ones that occur less than fifty times in the same way as I did with the above. Everything else (200 items) can stay."
   ]
  },
  {
   "cell_type": "code",
   "execution_count": 128,
   "id": "0afd6ad4",
   "metadata": {},
   "outputs": [],
   "source": [
    "shorts3 = lows['index'].to_list()"
   ]
  },
  {
   "cell_type": "code",
   "execution_count": 2,
   "id": "23e8cacc",
   "metadata": {},
   "outputs": [],
   "source": [
    "#shorts3"
   ]
  },
  {
   "cell_type": "code",
   "execution_count": 131,
   "id": "91642911",
   "metadata": {},
   "outputs": [],
   "source": [
    "shorts2_new = sorted(shorts2, key = len)"
   ]
  },
  {
   "cell_type": "code",
   "execution_count": 132,
   "id": "071a84e9",
   "metadata": {},
   "outputs": [],
   "source": [
    "shorts2_new.reverse() "
   ]
  },
  {
   "cell_type": "code",
   "execution_count": 136,
   "id": "bc4d945e",
   "metadata": {},
   "outputs": [],
   "source": [
    "droplist2 = []\n",
    "keeplist2 = []\n",
    "for item in shorts3:\n",
    "    for item2 in shorts2_new:\n",
    "        if item2 in item: \n",
    "            droplist2.append(item)\n",
    "            break\n",
    "        else: \n",
    "            keeplist2.append(item)"
   ]
  },
  {
   "cell_type": "code",
   "execution_count": 140,
   "id": "cdf4a513",
   "metadata": {},
   "outputs": [
    {
     "data": {
      "text/plain": [
       "2779"
      ]
     },
     "execution_count": 140,
     "metadata": {},
     "output_type": "execute_result"
    }
   ],
   "source": [
    "len(set(droplist2))"
   ]
  },
  {
   "cell_type": "code",
   "execution_count": 143,
   "id": "661fd77c",
   "metadata": {},
   "outputs": [],
   "source": [
    "keepers2 = set(shorts3) - set(droplist2)"
   ]
  },
  {
   "cell_type": "code",
   "execution_count": 3,
   "id": "150bd79a",
   "metadata": {},
   "outputs": [],
   "source": [
    "#keepers2"
   ]
  },
  {
   "cell_type": "code",
   "execution_count": 153,
   "id": "9027630d",
   "metadata": {},
   "outputs": [],
   "source": [
    "shorts.append('pastry')"
   ]
  },
  {
   "cell_type": "code",
   "execution_count": 154,
   "id": "147d5a9b",
   "metadata": {},
   "outputs": [],
   "source": [
    "shorts.append('sweet and sour sauce')"
   ]
  },
  {
   "cell_type": "code",
   "execution_count": 157,
   "id": "57539386",
   "metadata": {},
   "outputs": [
    {
     "data": {
      "text/plain": [
       "12346"
      ]
     },
     "execution_count": 157,
     "metadata": {},
     "output_type": "execute_result"
    }
   ],
   "source": [
    "len(set(frozenset(item) for item in shorts))"
   ]
  },
  {
   "cell_type": "code",
   "execution_count": null,
   "id": "fce42830",
   "metadata": {},
   "outputs": [],
   "source": [
    "print(\"Hi\")"
   ]
  },
  {
   "cell_type": "code",
   "execution_count": 166,
   "id": "32937e00",
   "metadata": {},
   "outputs": [],
   "source": [
    "with open('newmasterlist.txt', 'w') as f:\n",
    "    for item in set(shorts):\n",
    "        f.write(f\"{item}\\n\")"
   ]
  },
  {
   "cell_type": "code",
   "execution_count": null,
   "id": "b8d5ad65",
   "metadata": {},
   "outputs": [],
   "source": []
  },
  {
   "cell_type": "markdown",
   "id": "71ab9f2e",
   "metadata": {},
   "source": [
    "# Start here for cleaning"
   ]
  },
  {
   "cell_type": "code",
   "execution_count": 5,
   "id": "9560252e",
   "metadata": {},
   "outputs": [],
   "source": [
    "masterlist = []\n",
    "with open('newmasterlist.txt', 'r') as f: \n",
    "    lines = f.readlines()\n",
    "    for line in lines: \n",
    "        masterlist.append(line.replace('\\n', ''))"
   ]
  },
  {
   "cell_type": "code",
   "execution_count": 4,
   "id": "131a9753",
   "metadata": {},
   "outputs": [],
   "source": [
    "#masterlist"
   ]
  },
  {
   "cell_type": "code",
   "execution_count": 230,
   "id": "3ebe8101",
   "metadata": {},
   "outputs": [
    {
     "data": {
      "text/plain": [
       "13768"
      ]
     },
     "execution_count": 230,
     "metadata": {},
     "output_type": "execute_result"
    }
   ],
   "source": [
    "len(masterlist)"
   ]
  },
  {
   "cell_type": "code",
   "execution_count": 176,
   "id": "5da15c41",
   "metadata": {},
   "outputs": [
    {
     "data": {
      "text/html": [
       "<div>\n",
       "<style scoped>\n",
       "    .dataframe tbody tr th:only-of-type {\n",
       "        vertical-align: middle;\n",
       "    }\n",
       "\n",
       "    .dataframe tbody tr th {\n",
       "        vertical-align: top;\n",
       "    }\n",
       "\n",
       "    .dataframe thead th {\n",
       "        text-align: right;\n",
       "    }\n",
       "</style>\n",
       "<table border=\"1\" class=\"dataframe\">\n",
       "  <thead>\n",
       "    <tr style=\"text-align: right;\">\n",
       "      <th></th>\n",
       "      <th>name</th>\n",
       "      <th>id</th>\n",
       "      <th>ingredients</th>\n",
       "    </tr>\n",
       "  </thead>\n",
       "  <tbody>\n",
       "    <tr>\n",
       "      <th>0</th>\n",
       "      <td>arriba   baked winter squash mexican style</td>\n",
       "      <td>137739</td>\n",
       "      <td>['winter squash', 'mexican seasoning', 'mixed ...</td>\n",
       "    </tr>\n",
       "    <tr>\n",
       "      <th>1</th>\n",
       "      <td>a bit different  breakfast pizza</td>\n",
       "      <td>31490</td>\n",
       "      <td>['prepared pizza crust', 'sausage patty', 'egg...</td>\n",
       "    </tr>\n",
       "    <tr>\n",
       "      <th>2</th>\n",
       "      <td>all in the kitchen  chili</td>\n",
       "      <td>112140</td>\n",
       "      <td>['ground beef', 'yellow onions', 'diced tomato...</td>\n",
       "    </tr>\n",
       "    <tr>\n",
       "      <th>3</th>\n",
       "      <td>alouette  potatoes</td>\n",
       "      <td>59389</td>\n",
       "      <td>['spreadable cheese with garlic and herbs', 'n...</td>\n",
       "    </tr>\n",
       "    <tr>\n",
       "      <th>4</th>\n",
       "      <td>amish  tomato ketchup  for canning</td>\n",
       "      <td>44061</td>\n",
       "      <td>['tomato juice', 'apple cider vinegar', 'sugar...</td>\n",
       "    </tr>\n",
       "    <tr>\n",
       "      <th>...</th>\n",
       "      <td>...</td>\n",
       "      <td>...</td>\n",
       "      <td>...</td>\n",
       "    </tr>\n",
       "    <tr>\n",
       "      <th>231632</th>\n",
       "      <td>zydeco soup</td>\n",
       "      <td>486161</td>\n",
       "      <td>['celery', 'onion', 'green sweet pepper', 'gar...</td>\n",
       "    </tr>\n",
       "    <tr>\n",
       "      <th>231633</th>\n",
       "      <td>zydeco spice mix</td>\n",
       "      <td>493372</td>\n",
       "      <td>['paprika', 'salt', 'garlic powder', 'onion po...</td>\n",
       "    </tr>\n",
       "    <tr>\n",
       "      <th>231634</th>\n",
       "      <td>zydeco ya ya deviled eggs</td>\n",
       "      <td>308080</td>\n",
       "      <td>['hard-cooked eggs', 'mayonnaise', 'dijon must...</td>\n",
       "    </tr>\n",
       "    <tr>\n",
       "      <th>231635</th>\n",
       "      <td>cookies by design   cookies on a stick</td>\n",
       "      <td>298512</td>\n",
       "      <td>['butter', 'eagle brand condensed milk', 'ligh...</td>\n",
       "    </tr>\n",
       "    <tr>\n",
       "      <th>231636</th>\n",
       "      <td>cookies by design   sugar shortbread cookies</td>\n",
       "      <td>298509</td>\n",
       "      <td>['granulated sugar', 'shortening', 'eggs', 'fl...</td>\n",
       "    </tr>\n",
       "  </tbody>\n",
       "</table>\n",
       "<p>231637 rows × 3 columns</p>\n",
       "</div>"
      ],
      "text/plain": [
       "                                                name      id  \\\n",
       "0         arriba   baked winter squash mexican style  137739   \n",
       "1                   a bit different  breakfast pizza   31490   \n",
       "2                          all in the kitchen  chili  112140   \n",
       "3                                 alouette  potatoes   59389   \n",
       "4                 amish  tomato ketchup  for canning   44061   \n",
       "...                                              ...     ...   \n",
       "231632                                   zydeco soup  486161   \n",
       "231633                              zydeco spice mix  493372   \n",
       "231634                     zydeco ya ya deviled eggs  308080   \n",
       "231635        cookies by design   cookies on a stick  298512   \n",
       "231636  cookies by design   sugar shortbread cookies  298509   \n",
       "\n",
       "                                              ingredients  \n",
       "0       ['winter squash', 'mexican seasoning', 'mixed ...  \n",
       "1       ['prepared pizza crust', 'sausage patty', 'egg...  \n",
       "2       ['ground beef', 'yellow onions', 'diced tomato...  \n",
       "3       ['spreadable cheese with garlic and herbs', 'n...  \n",
       "4       ['tomato juice', 'apple cider vinegar', 'sugar...  \n",
       "...                                                   ...  \n",
       "231632  ['celery', 'onion', 'green sweet pepper', 'gar...  \n",
       "231633  ['paprika', 'salt', 'garlic powder', 'onion po...  \n",
       "231634  ['hard-cooked eggs', 'mayonnaise', 'dijon must...  \n",
       "231635  ['butter', 'eagle brand condensed milk', 'ligh...  \n",
       "231636  ['granulated sugar', 'shortening', 'eggs', 'fl...  \n",
       "\n",
       "[231637 rows x 3 columns]"
      ]
     },
     "execution_count": 176,
     "metadata": {},
     "output_type": "execute_result"
    }
   ],
   "source": [
    "df"
   ]
  },
  {
   "cell_type": "code",
   "execution_count": null,
   "id": "b0d49c60",
   "metadata": {},
   "outputs": [],
   "source": []
  },
  {
   "cell_type": "code",
   "execution_count": 198,
   "id": "83308afa",
   "metadata": {},
   "outputs": [],
   "source": [
    "data = pd.read_csv('dataframe.csv', sep = '|')"
   ]
  },
  {
   "cell_type": "code",
   "execution_count": 181,
   "id": "91aae11c",
   "metadata": {},
   "outputs": [
    {
     "data": {
      "text/plain": [
       "253712"
      ]
     },
     "execution_count": 181,
     "metadata": {},
     "output_type": "execute_result"
    }
   ],
   "source": [
    "len(data)"
   ]
  },
  {
   "cell_type": "code",
   "execution_count": 182,
   "id": "97e3a34c",
   "metadata": {},
   "outputs": [
    {
     "data": {
      "text/plain": [
       "(253712, 4)"
      ]
     },
     "execution_count": 182,
     "metadata": {},
     "output_type": "execute_result"
    }
   ],
   "source": [
    "data.shape"
   ]
  },
  {
   "cell_type": "code",
   "execution_count": 199,
   "id": "593ca8b0",
   "metadata": {},
   "outputs": [],
   "source": [
    "data.drop(columns = ['cleaned'], inplace = True)"
   ]
  },
  {
   "cell_type": "code",
   "execution_count": 200,
   "id": "2eea58d4",
   "metadata": {},
   "outputs": [],
   "source": [
    "allrecipes = pd.read_csv('allrecipes.csv', sep = '|')"
   ]
  },
  {
   "cell_type": "code",
   "execution_count": 201,
   "id": "551e26d2",
   "metadata": {},
   "outputs": [],
   "source": [
    "allrecipes = allrecipes.rename(columns = {'0':'name', '1': 'url', '2': 'ingredients'})"
   ]
  },
  {
   "cell_type": "code",
   "execution_count": 202,
   "id": "cea70c49",
   "metadata": {},
   "outputs": [],
   "source": [
    "data = pd.concat([data, allrecipes], axis = 0).copy()"
   ]
  },
  {
   "cell_type": "code",
   "execution_count": 188,
   "id": "3e63acbc",
   "metadata": {},
   "outputs": [
    {
     "data": {
      "text/plain": [
       "304328"
      ]
     },
     "execution_count": 188,
     "metadata": {},
     "output_type": "execute_result"
    }
   ],
   "source": [
    "len(data)"
   ]
  },
  {
   "cell_type": "markdown",
   "id": "7ef4ff09",
   "metadata": {},
   "source": [
    "### Lemmatizing the masterlist"
   ]
  },
  {
   "cell_type": "code",
   "execution_count": 210,
   "id": "a0e7298d",
   "metadata": {},
   "outputs": [],
   "source": [
    "from nltk.stem import WordNetLemmatizer\n",
    "  \n",
    "wnl = WordNetLemmatizer()"
   ]
  },
  {
   "cell_type": "code",
   "execution_count": 211,
   "id": "80b3bebd",
   "metadata": {},
   "outputs": [],
   "source": [
    "def lemmatize(masterlist):\n",
    "    result = []\n",
    "    ingredientlist_split = []\n",
    "    for ingredient in masterlist:\n",
    "        ingredientlist_split.append(ingredient.split(' '))\n",
    "\n",
    "    for entry in ingredientlist_split: \n",
    "        dummy = []\n",
    "        for item in entry:         \n",
    "            dummy.append(wnl.lemmatize(item))\n",
    "        result.append(' '.join(dummy))\n",
    "    return result"
   ]
  },
  {
   "cell_type": "code",
   "execution_count": 213,
   "id": "ba183b0b",
   "metadata": {},
   "outputs": [],
   "source": [
    "masterlist = lemmatize(masterlist)"
   ]
  },
  {
   "cell_type": "code",
   "execution_count": 214,
   "id": "4409b143",
   "metadata": {},
   "outputs": [],
   "source": [
    "# Function, copy-pasted from previous cleaning notebook\n",
    "def simplify(row):\n",
    "\n",
    "    rowresults = []\n",
    "    row = row.replace('[\\'', '\\']')\n",
    "    row = row.replace(']', '') \n",
    "    items = row.split(', ')\n",
    "    for item in items: \n",
    "        for ingredient in masterlist:\n",
    "            if ingredient in item: \n",
    "                rowresults.append(ingredient)\n",
    "                break\n",
    "    return rowresults"
   ]
  },
  {
   "cell_type": "code",
   "execution_count": 215,
   "id": "c23bb112",
   "metadata": {},
   "outputs": [],
   "source": [
    "data['cleaned']= data['ingredients'].apply(simplify)"
   ]
  },
  {
   "cell_type": "code",
   "execution_count": 216,
   "id": "b0a1bbca",
   "metadata": {},
   "outputs": [
    {
     "data": {
      "text/html": [
       "<div>\n",
       "<style scoped>\n",
       "    .dataframe tbody tr th:only-of-type {\n",
       "        vertical-align: middle;\n",
       "    }\n",
       "\n",
       "    .dataframe tbody tr th {\n",
       "        vertical-align: top;\n",
       "    }\n",
       "\n",
       "    .dataframe thead th {\n",
       "        text-align: right;\n",
       "    }\n",
       "</style>\n",
       "<table border=\"1\" class=\"dataframe\">\n",
       "  <thead>\n",
       "    <tr style=\"text-align: right;\">\n",
       "      <th></th>\n",
       "      <th>name</th>\n",
       "      <th>url</th>\n",
       "      <th>ingredients</th>\n",
       "      <th>cleaned</th>\n",
       "    </tr>\n",
       "  </thead>\n",
       "  <tbody>\n",
       "    <tr>\n",
       "      <th>0</th>\n",
       "      <td>arriba   baked winter squash mexican style</td>\n",
       "      <td>https://www.food.com/recipe/137739</td>\n",
       "      <td>['winter squash', 'mexican seasoning', 'mixed ...</td>\n",
       "      <td>[squash, mexican seasoning, mixed spice, honey...</td>\n",
       "    </tr>\n",
       "    <tr>\n",
       "      <th>1</th>\n",
       "      <td>a bit different  breakfast pizza</td>\n",
       "      <td>https://www.food.com/recipe/31490</td>\n",
       "      <td>['prepared pizza crust', 'sausage patty', 'egg...</td>\n",
       "      <td>[pizza crust, sage, egg, milk, salt, cheese]</td>\n",
       "    </tr>\n",
       "    <tr>\n",
       "      <th>2</th>\n",
       "      <td>all in the kitchen  chili</td>\n",
       "      <td>https://www.food.com/recipe/112140</td>\n",
       "      <td>['ground beef', 'yellow onions', 'diced tomato...</td>\n",
       "      <td>[beef, onion, diced tomato, tomato paste, soup...</td>\n",
       "    </tr>\n",
       "    <tr>\n",
       "      <th>3</th>\n",
       "      <td>alouette  potatoes</td>\n",
       "      <td>https://www.food.com/recipe/59389</td>\n",
       "      <td>['spreadable cheese with garlic and herbs', 'n...</td>\n",
       "      <td>[garlic, potato, shallot, parsley, tarragon, o...</td>\n",
       "    </tr>\n",
       "    <tr>\n",
       "      <th>4</th>\n",
       "      <td>amish  tomato ketchup  for canning</td>\n",
       "      <td>https://www.food.com/recipe/44061</td>\n",
       "      <td>['tomato juice', 'apple cider vinegar', 'sugar...</td>\n",
       "      <td>[juice, cider vinegar, sugar, salt, pepper, cl...</td>\n",
       "    </tr>\n",
       "    <tr>\n",
       "      <th>...</th>\n",
       "      <td>...</td>\n",
       "      <td>...</td>\n",
       "      <td>...</td>\n",
       "      <td>...</td>\n",
       "    </tr>\n",
       "    <tr>\n",
       "      <th>50611</th>\n",
       "      <td>Chocolate-Covered Coffee Beans</td>\n",
       "      <td>https://www.allrecipes.com/recipe/284194/choco...</td>\n",
       "      <td>['4 ounces milk chocolate, chopped, divided', ...</td>\n",
       "      <td>[chocolate, hop, divided, coffee]</td>\n",
       "    </tr>\n",
       "    <tr>\n",
       "      <th>50612</th>\n",
       "      <td>Bracciole (Flank Steak Rolls)</td>\n",
       "      <td>https://www.allrecipes.com/recipe/229505/bracc...</td>\n",
       "      <td>['2 tablespoons olive oil', '0.5 onion, choppe...</td>\n",
       "      <td>[olive oil, onion, hop, salt, tea, hop, garlic...</td>\n",
       "    </tr>\n",
       "    <tr>\n",
       "      <th>50613</th>\n",
       "      <td>Garlic-Smashed Potatoes</td>\n",
       "      <td>https://www.allrecipes.com/recipe/282326/garli...</td>\n",
       "      <td>['5 pounds small red potatoes', '0.5 cup olive...</td>\n",
       "      <td>[potato, olive oil, garlic, salt, tea, hop]</td>\n",
       "    </tr>\n",
       "    <tr>\n",
       "      <th>50614</th>\n",
       "      <td>Chewy Cheesecake Cookies</td>\n",
       "      <td>https://www.allrecipes.com/recipe/284693/chewy...</td>\n",
       "      <td>['0.5 cup unsalted butter, softened', '3 ounce...</td>\n",
       "      <td>[salt, cream cheese, sugar, flour, pecan, hop]</td>\n",
       "    </tr>\n",
       "    <tr>\n",
       "      <th>50615</th>\n",
       "      <td>Candied Sweet Potatoes with Orange Juice</td>\n",
       "      <td>https://www.allrecipes.com/recipe/281810/candi...</td>\n",
       "      <td>['6 medium sweet potatoes', '1 cup packed brow...</td>\n",
       "      <td>[sweet potato, sugar, salt, orange juice, salt...</td>\n",
       "    </tr>\n",
       "  </tbody>\n",
       "</table>\n",
       "<p>304328 rows × 4 columns</p>\n",
       "</div>"
      ],
      "text/plain": [
       "                                             name  \\\n",
       "0      arriba   baked winter squash mexican style   \n",
       "1                a bit different  breakfast pizza   \n",
       "2                       all in the kitchen  chili   \n",
       "3                              alouette  potatoes   \n",
       "4              amish  tomato ketchup  for canning   \n",
       "...                                           ...   \n",
       "50611              Chocolate-Covered Coffee Beans   \n",
       "50612               Bracciole (Flank Steak Rolls)   \n",
       "50613                     Garlic-Smashed Potatoes   \n",
       "50614                    Chewy Cheesecake Cookies   \n",
       "50615    Candied Sweet Potatoes with Orange Juice   \n",
       "\n",
       "                                                     url  \\\n",
       "0                     https://www.food.com/recipe/137739   \n",
       "1                      https://www.food.com/recipe/31490   \n",
       "2                     https://www.food.com/recipe/112140   \n",
       "3                      https://www.food.com/recipe/59389   \n",
       "4                      https://www.food.com/recipe/44061   \n",
       "...                                                  ...   \n",
       "50611  https://www.allrecipes.com/recipe/284194/choco...   \n",
       "50612  https://www.allrecipes.com/recipe/229505/bracc...   \n",
       "50613  https://www.allrecipes.com/recipe/282326/garli...   \n",
       "50614  https://www.allrecipes.com/recipe/284693/chewy...   \n",
       "50615  https://www.allrecipes.com/recipe/281810/candi...   \n",
       "\n",
       "                                             ingredients  \\\n",
       "0      ['winter squash', 'mexican seasoning', 'mixed ...   \n",
       "1      ['prepared pizza crust', 'sausage patty', 'egg...   \n",
       "2      ['ground beef', 'yellow onions', 'diced tomato...   \n",
       "3      ['spreadable cheese with garlic and herbs', 'n...   \n",
       "4      ['tomato juice', 'apple cider vinegar', 'sugar...   \n",
       "...                                                  ...   \n",
       "50611  ['4 ounces milk chocolate, chopped, divided', ...   \n",
       "50612  ['2 tablespoons olive oil', '0.5 onion, choppe...   \n",
       "50613  ['5 pounds small red potatoes', '0.5 cup olive...   \n",
       "50614  ['0.5 cup unsalted butter, softened', '3 ounce...   \n",
       "50615  ['6 medium sweet potatoes', '1 cup packed brow...   \n",
       "\n",
       "                                                 cleaned  \n",
       "0      [squash, mexican seasoning, mixed spice, honey...  \n",
       "1           [pizza crust, sage, egg, milk, salt, cheese]  \n",
       "2      [beef, onion, diced tomato, tomato paste, soup...  \n",
       "3      [garlic, potato, shallot, parsley, tarragon, o...  \n",
       "4      [juice, cider vinegar, sugar, salt, pepper, cl...  \n",
       "...                                                  ...  \n",
       "50611                  [chocolate, hop, divided, coffee]  \n",
       "50612  [olive oil, onion, hop, salt, tea, hop, garlic...  \n",
       "50613        [potato, olive oil, garlic, salt, tea, hop]  \n",
       "50614     [salt, cream cheese, sugar, flour, pecan, hop]  \n",
       "50615  [sweet potato, sugar, salt, orange juice, salt...  \n",
       "\n",
       "[304328 rows x 4 columns]"
      ]
     },
     "execution_count": 216,
     "metadata": {},
     "output_type": "execute_result"
    }
   ],
   "source": [
    "data"
   ]
  },
  {
   "cell_type": "code",
   "execution_count": 217,
   "id": "a19f98fb",
   "metadata": {},
   "outputs": [],
   "source": [
    "data.to_csv(\"data2.csv\", sep = '|', index = False)"
   ]
  },
  {
   "cell_type": "markdown",
   "id": "872fea81",
   "metadata": {},
   "source": [
    "# A new and improved masterlist"
   ]
  },
  {
   "cell_type": "code",
   "execution_count": 231,
   "id": "48b64e40",
   "metadata": {},
   "outputs": [],
   "source": [
    "masterlist = []\n",
    "with open('masterlist.txt', 'r') as file: \n",
    "    lines = file.readlines()\n",
    "    for line in lines: \n",
    "        masterlist.append(line.replace('/n', ''))"
   ]
  },
  {
   "cell_type": "code",
   "execution_count": 232,
   "id": "b88ffa5e",
   "metadata": {},
   "outputs": [
    {
     "data": {
      "text/plain": [
       "1180"
      ]
     },
     "execution_count": 232,
     "metadata": {},
     "output_type": "execute_result"
    }
   ],
   "source": [
    "len(masterlist)"
   ]
  },
  {
   "cell_type": "code",
   "execution_count": 233,
   "id": "72b46842",
   "metadata": {},
   "outputs": [],
   "source": [
    "masterlist = lemmatize(masterlist)"
   ]
  },
  {
   "cell_type": "code",
   "execution_count": 236,
   "id": "90642b68",
   "metadata": {},
   "outputs": [
    {
     "data": {
      "text/plain": [
       "1180"
      ]
     },
     "execution_count": 236,
     "metadata": {},
     "output_type": "execute_result"
    }
   ],
   "source": [
    "len(masterlist)"
   ]
  },
  {
   "cell_type": "code",
   "execution_count": 237,
   "id": "a035e94a",
   "metadata": {},
   "outputs": [],
   "source": [
    "masterlist = list(set(masterlist))"
   ]
  },
  {
   "cell_type": "code",
   "execution_count": 234,
   "id": "8847d472",
   "metadata": {},
   "outputs": [
    {
     "data": {
      "text/plain": [
       "988"
      ]
     },
     "execution_count": 234,
     "metadata": {},
     "output_type": "execute_result"
    }
   ],
   "source": [
    "len(set(masterlist))"
   ]
  },
  {
   "cell_type": "code",
   "execution_count": 244,
   "id": "a8751fd0",
   "metadata": {},
   "outputs": [],
   "source": [
    "dummy = []\n",
    "for line in masterlist:\n",
    "    dummy.append(line.strip())"
   ]
  },
  {
   "cell_type": "code",
   "execution_count": 246,
   "id": "8aa75cc4",
   "metadata": {},
   "outputs": [],
   "source": [
    "masterlist = list(set(dummy))"
   ]
  },
  {
   "cell_type": "code",
   "execution_count": 247,
   "id": "2fbbbf0c",
   "metadata": {},
   "outputs": [
    {
     "data": {
      "text/plain": [
       "911"
      ]
     },
     "execution_count": 247,
     "metadata": {},
     "output_type": "execute_result"
    }
   ],
   "source": [
    "len(masterlist)"
   ]
  },
  {
   "cell_type": "code",
   "execution_count": 248,
   "id": "c0b92c16",
   "metadata": {},
   "outputs": [],
   "source": [
    "with open('masterlist.txt', 'w') as file:\n",
    "    for line in masterlist: \n",
    "        line = line.strip()\n",
    "        file.write(f\"{line}\\n\")"
   ]
  },
  {
   "cell_type": "markdown",
   "id": "228177fa",
   "metadata": {},
   "source": [
    "# Newer and improveder"
   ]
  },
  {
   "cell_type": "code",
   "execution_count": 253,
   "id": "2c327fca",
   "metadata": {},
   "outputs": [],
   "source": [
    "newdf = pd.read_csv('masterlist_tag.txt')"
   ]
  },
  {
   "cell_type": "code",
   "execution_count": 254,
   "id": "d34505d2",
   "metadata": {},
   "outputs": [
    {
     "data": {
      "text/html": [
       "<div>\n",
       "<style scoped>\n",
       "    .dataframe tbody tr th:only-of-type {\n",
       "        vertical-align: middle;\n",
       "    }\n",
       "\n",
       "    .dataframe tbody tr th {\n",
       "        vertical-align: top;\n",
       "    }\n",
       "\n",
       "    .dataframe thead th {\n",
       "        text-align: right;\n",
       "    }\n",
       "</style>\n",
       "<table border=\"1\" class=\"dataframe\">\n",
       "  <thead>\n",
       "    <tr style=\"text-align: right;\">\n",
       "      <th></th>\n",
       "      <th>ingredient</th>\n",
       "      <th>meat</th>\n",
       "    </tr>\n",
       "  </thead>\n",
       "  <tbody>\n",
       "    <tr>\n",
       "      <th>0</th>\n",
       "      <td>green bean</td>\n",
       "      <td>0</td>\n",
       "    </tr>\n",
       "    <tr>\n",
       "      <th>1</th>\n",
       "      <td>mincemeat</td>\n",
       "      <td>1</td>\n",
       "    </tr>\n",
       "    <tr>\n",
       "      <th>2</th>\n",
       "      <td>beef</td>\n",
       "      <td>1</td>\n",
       "    </tr>\n",
       "    <tr>\n",
       "      <th>3</th>\n",
       "      <td>graham crackers</td>\n",
       "      <td>0</td>\n",
       "    </tr>\n",
       "    <tr>\n",
       "      <th>4</th>\n",
       "      <td>leek</td>\n",
       "      <td>0</td>\n",
       "    </tr>\n",
       "  </tbody>\n",
       "</table>\n",
       "</div>"
      ],
      "text/plain": [
       "        ingredient  meat\n",
       "0       green bean     0\n",
       "1        mincemeat     1\n",
       "2             beef     1\n",
       "3  graham crackers     0\n",
       "4             leek     0"
      ]
     },
     "execution_count": 254,
     "metadata": {},
     "output_type": "execute_result"
    }
   ],
   "source": [
    "newdf.head()"
   ]
  },
  {
   "cell_type": "code",
   "execution_count": 258,
   "id": "981d9584",
   "metadata": {},
   "outputs": [],
   "source": [
    "new_ml = newdf['ingredient'].to_list()"
   ]
  },
  {
   "cell_type": "code",
   "execution_count": 6,
   "id": "94956220",
   "metadata": {},
   "outputs": [],
   "source": [
    "#new_ml"
   ]
  },
  {
   "cell_type": "code",
   "execution_count": 260,
   "id": "98a5cddd",
   "metadata": {},
   "outputs": [
    {
     "data": {
      "text/plain": [
       "904"
      ]
     },
     "execution_count": 260,
     "metadata": {},
     "output_type": "execute_result"
    }
   ],
   "source": [
    "len(new_ml)"
   ]
  },
  {
   "cell_type": "code",
   "execution_count": 262,
   "id": "f8f96683",
   "metadata": {},
   "outputs": [
    {
     "data": {
      "text/plain": [
       "22"
      ]
     },
     "execution_count": 262,
     "metadata": {},
     "output_type": "execute_result"
    }
   ],
   "source": [
    "len(duplicates)"
   ]
  },
  {
   "cell_type": "code",
   "execution_count": 7,
   "id": "b4acba75",
   "metadata": {},
   "outputs": [],
   "source": [
    "#duplicates"
   ]
  }
 ],
 "metadata": {
  "kernelspec": {
   "display_name": "Python 3 (ipykernel)",
   "language": "python",
   "name": "python3"
  },
  "language_info": {
   "codemirror_mode": {
    "name": "ipython",
    "version": 3
   },
   "file_extension": ".py",
   "mimetype": "text/x-python",
   "name": "python",
   "nbconvert_exporter": "python",
   "pygments_lexer": "ipython3",
   "version": "3.10.6"
  }
 },
 "nbformat": 4,
 "nbformat_minor": 5
}
